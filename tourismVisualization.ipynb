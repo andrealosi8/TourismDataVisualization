{
 "cells": [
  {
   "cell_type": "code",
   "execution_count": 1,
   "metadata": {},
   "outputs": [],
   "source": [
    "import pandas as pd\n",
    "import matplotlib.pyplot as plt\n",
    "import numpy as np\n",
    "import seaborn as sns\n",
    "from matplotlib.ticker import FuncFormatter\n",
    "import plotly.express as px\n",
    "import plotly.graph_objects as go\n",
    "import plotly.colors as pc"
   ]
  },
  {
   "cell_type": "code",
   "execution_count": 2,
   "metadata": {},
   "outputs": [
    {
     "data": {
      "application/vnd.plotly.v1+json": {
       "config": {
        "plotlyServerURL": "https://plot.ly"
       },
       "data": [
        {
         "coloraxis": "coloraxis",
         "customdata": [
          [
           2
          ],
          [
           4
          ],
          [
           7
          ],
          [
           1
          ],
          [
           1
          ],
          [
           1
          ],
          [
           12
          ],
          [
           3
          ],
          [
           20
          ],
          [
           12
          ],
          [
           5
          ],
          [
           3
          ],
          [
           3
          ],
          [
           1
          ],
          [
           4
          ],
          [
           16
          ],
          [
           1
          ],
          [
           3
          ],
          [
           7
          ],
          [
           5
          ],
          [
           2
          ],
          [
           24
          ],
          [
           10
          ],
          [
           4
          ],
          [
           4
          ],
          [
           2
          ],
          [
           22
          ],
          [
           1
          ],
          [
           2
          ],
          [
           2
          ],
          [
           7
          ],
          [
           59
          ],
          [
           9
          ],
          [
           5
          ],
          [
           2
          ],
          [
           4
          ],
          [
           5
          ],
          [
           10
          ],
          [
           9
          ],
          [
           3
          ],
          [
           17
          ],
          [
           11
          ],
          [
           1
          ],
          [
           1
          ],
          [
           5
          ],
          [
           7
          ],
          [
           1
          ],
          [
           1
          ],
          [
           2
          ],
          [
           12
          ],
          [
           1
          ],
          [
           7
          ],
          [
           53
          ],
          [
           2
          ],
          [
           2
          ],
          [
           4
          ],
          [
           54
          ],
          [
           2
          ],
          [
           19
          ],
          [
           4
          ],
          [
           1
          ],
          [
           1
          ],
          [
           2
          ],
          [
           2
          ],
          [
           8
          ],
          [
           3
          ],
          [
           43
          ],
          [
           10
          ],
          [
           28
          ],
          [
           6
          ],
          [
           2
          ],
          [
           9
          ],
          [
           60
          ],
          [
           1
          ],
          [
           26
          ],
          [
           7
          ],
          [
           6
          ],
          [
           8
          ],
          [
           1
          ],
          [
           3
          ],
          [
           3
          ],
          [
           3
          ],
          [
           6
          ],
          [
           1
          ],
          [
           5
          ],
          [
           5
          ],
          [
           1
          ],
          [
           3
          ],
          [
           2
          ],
          [
           5
          ],
          [
           4
          ],
          [
           3
          ],
          [
           1
          ],
          [
           2
          ],
          [
           2
          ],
          [
           35
          ],
          [
           1
          ],
          [
           1
          ],
          [
           6
          ],
          [
           4
          ],
          [
           9
          ],
          [
           1
          ],
          [
           2
          ],
          [
           2
          ],
          [
           4
          ],
          [
           13
          ],
          [
           3
          ],
          [
           2
          ],
          [
           3
          ],
          [
           2
          ],
          [
           2
          ],
          [
           2
          ],
          [
           8
          ],
          [
           5
          ],
          [
           6
          ],
          [
           1
          ],
          [
           5
          ],
          [
           5
          ],
          [
           1
          ],
          [
           1
          ],
          [
           13
          ],
          [
           6
          ],
          [
           17
          ],
          [
           17
          ],
          [
           1
          ],
          [
           11
          ],
          [
           32
          ],
          [
           2
          ],
          [
           1
          ],
          [
           1
          ],
          [
           1
          ],
          [
           8
          ],
          [
           7
          ],
          [
           5
          ],
          [
           2
          ],
          [
           1
          ],
          [
           8
          ],
          [
           5
          ],
          [
           1
          ],
          [
           12
          ],
          [
           16
          ],
          [
           50
          ],
          [
           8
          ],
          [
           3
          ],
          [
           3
          ],
          [
           15
          ],
          [
           13
          ],
          [
           6
          ],
          [
           4
          ],
          [
           7
          ],
          [
           8
          ],
          [
           1
          ],
          [
           9
          ],
          [
           21
          ],
          [
           5
          ],
          [
           3
          ],
          [
           8
          ],
          [
           1
          ],
          [
           35
          ],
          [
           26
          ],
          [
           3
          ],
          [
           7
          ],
          [
           1
          ],
          [
           3
          ],
          [
           8
          ],
          [
           5
          ],
          [
           1
          ],
          [
           5
          ]
         ],
         "geo": "geo",
         "hovertemplate": "<b>%{hovertext}</b><br><br>Country=%{location}<br>SiteCount=%{z}<extra></extra>",
         "hovertext": [
          "Afghanistan",
          "Albania",
          "Algeria",
          "Andorra",
          "Angola",
          "Antigua and Barbuda",
          "Argentina",
          "Armenia",
          "Australia",
          "Austria",
          "Azerbaijan",
          "Bahrain",
          "Bangladesh",
          "Barbados",
          "Belarus",
          "Belgium",
          "Belize",
          "Benin",
          "Bolivia",
          "Bosnia and Herzegovina",
          "Botswana",
          "Brazil",
          "Bulgaria",
          "Burkina Faso",
          "Cambodia",
          "Cameroon",
          "Canada",
          "Cape Verde",
          "Central African Republic",
          "Chad",
          "Chile",
          "China",
          "Colombia",
          "Congo, Dem. Rep.",
          "Congo, Rep.",
          "Costa Rica",
          "Cote d'Ivoire",
          "Croatia",
          "Cuba",
          "Cyprus",
          "Czech Republic",
          "Denmark",
          "Dominica",
          "Dominican Republic",
          "Ecuador",
          "Egypt",
          "El Salvador",
          "Eritrea",
          "Estonia",
          "Ethiopia",
          "Fiji",
          "Finland",
          "France",
          "Gabon",
          "Gambia",
          "Georgia",
          "Germany",
          "Ghana",
          "Greece",
          "Guatemala",
          "Guinea",
          "Haiti",
          "Holy See",
          "Honduras",
          "Hungary",
          "Iceland",
          "India",
          "Indonesia",
          "Iran",
          "Iraq",
          "Ireland",
          "Israel",
          "Italy",
          "Jamaica",
          "Japan",
          "Jordan",
          "Kazakhstan",
          "Kenya",
          "Kiribati",
          "Kyrgyzstan",
          "Laos",
          "Latvia",
          "Lebanon",
          "Lesotho",
          "Libya",
          "Lithuania",
          "Luxembourg",
          "Madagascar",
          "Malawi",
          "Malaysia",
          "Mali",
          "Malta",
          "Marshall Islands",
          "Mauritania",
          "Mauritius",
          "Mexico",
          "Micronesia",
          "Moldova",
          "Mongolia",
          "Montenegro",
          "Morocco",
          "Mozambique",
          "Myanmar",
          "Namibia",
          "Nepal",
          "Netherlands",
          "New Zealand",
          "Nicaragua",
          "Niger",
          "Nigeria",
          "North Korea",
          "North Macedonia",
          "Norway",
          "Oman",
          "Pakistan",
          "Palau",
          "Palestine",
          "Panama",
          "Papua New Guinea",
          "Paraguay",
          "Peru",
          "Philippines",
          "Poland",
          "Portugal",
          "Qatar",
          "Romania",
          "Russia",
          "Rwanda",
          "Saint Kitts and Nevis",
          "Saint Lucia",
          "San Marino",
          "Saudi Arabia",
          "Senegal",
          "Serbia",
          "Seychelles",
          "Singapore",
          "Slovakia",
          "Slovenia",
          "Solomon Islands",
          "South Africa",
          "South Korea",
          "Spain",
          "Sri Lanka",
          "Sudan",
          "Suriname",
          "Sweden",
          "Switzerland",
          "Syria",
          "Tajikistan",
          "Tanzania",
          "Thailand",
          "Togo",
          "Tunisia",
          "Turkey",
          "Turkmenistan",
          "Uganda",
          "Ukraine",
          "United Arab Emirates",
          "United Kingdom",
          "United States",
          "Uruguay",
          "Uzbekistan",
          "Vanuatu",
          "Venezuela",
          "Vietnam",
          "Yemen",
          "Zambia",
          "Zimbabwe"
         ],
         "locationmode": "country names",
         "locations": [
          "Afghanistan",
          "Albania",
          "Algeria",
          "Andorra",
          "Angola",
          "Antigua and Barbuda",
          "Argentina",
          "Armenia",
          "Australia",
          "Austria",
          "Azerbaijan",
          "Bahrain",
          "Bangladesh",
          "Barbados",
          "Belarus",
          "Belgium",
          "Belize",
          "Benin",
          "Bolivia",
          "Bosnia and Herzegovina",
          "Botswana",
          "Brazil",
          "Bulgaria",
          "Burkina Faso",
          "Cambodia",
          "Cameroon",
          "Canada",
          "Cape Verde",
          "Central African Republic",
          "Chad",
          "Chile",
          "China",
          "Colombia",
          "Congo, Dem. Rep.",
          "Congo, Rep.",
          "Costa Rica",
          "Cote d'Ivoire",
          "Croatia",
          "Cuba",
          "Cyprus",
          "Czech Republic",
          "Denmark",
          "Dominica",
          "Dominican Republic",
          "Ecuador",
          "Egypt",
          "El Salvador",
          "Eritrea",
          "Estonia",
          "Ethiopia",
          "Fiji",
          "Finland",
          "France",
          "Gabon",
          "Gambia",
          "Georgia",
          "Germany",
          "Ghana",
          "Greece",
          "Guatemala",
          "Guinea",
          "Haiti",
          "Holy See",
          "Honduras",
          "Hungary",
          "Iceland",
          "India",
          "Indonesia",
          "Iran",
          "Iraq",
          "Ireland",
          "Israel",
          "Italy",
          "Jamaica",
          "Japan",
          "Jordan",
          "Kazakhstan",
          "Kenya",
          "Kiribati",
          "Kyrgyzstan",
          "Laos",
          "Latvia",
          "Lebanon",
          "Lesotho",
          "Libya",
          "Lithuania",
          "Luxembourg",
          "Madagascar",
          "Malawi",
          "Malaysia",
          "Mali",
          "Malta",
          "Marshall Islands",
          "Mauritania",
          "Mauritius",
          "Mexico",
          "Micronesia",
          "Moldova",
          "Mongolia",
          "Montenegro",
          "Morocco",
          "Mozambique",
          "Myanmar",
          "Namibia",
          "Nepal",
          "Netherlands",
          "New Zealand",
          "Nicaragua",
          "Niger",
          "Nigeria",
          "North Korea",
          "North Macedonia",
          "Norway",
          "Oman",
          "Pakistan",
          "Palau",
          "Palestine",
          "Panama",
          "Papua New Guinea",
          "Paraguay",
          "Peru",
          "Philippines",
          "Poland",
          "Portugal",
          "Qatar",
          "Romania",
          "Russia",
          "Rwanda",
          "Saint Kitts and Nevis",
          "Saint Lucia",
          "San Marino",
          "Saudi Arabia",
          "Senegal",
          "Serbia",
          "Seychelles",
          "Singapore",
          "Slovakia",
          "Slovenia",
          "Solomon Islands",
          "South Africa",
          "South Korea",
          "Spain",
          "Sri Lanka",
          "Sudan",
          "Suriname",
          "Sweden",
          "Switzerland",
          "Syria",
          "Tajikistan",
          "Tanzania",
          "Thailand",
          "Togo",
          "Tunisia",
          "Turkey",
          "Turkmenistan",
          "Uganda",
          "Ukraine",
          "United Arab Emirates",
          "United Kingdom",
          "United States",
          "Uruguay",
          "Uzbekistan",
          "Vanuatu",
          "Venezuela",
          "Vietnam",
          "Yemen",
          "Zambia",
          "Zimbabwe"
         ],
         "name": "",
         "type": "choropleth",
         "z": [
          2,
          4,
          7,
          1,
          1,
          1,
          12,
          3,
          20,
          12,
          5,
          3,
          3,
          1,
          4,
          16,
          1,
          3,
          7,
          5,
          2,
          24,
          10,
          4,
          4,
          2,
          22,
          1,
          2,
          2,
          7,
          59,
          9,
          5,
          2,
          4,
          5,
          10,
          9,
          3,
          17,
          11,
          1,
          1,
          5,
          7,
          1,
          1,
          2,
          12,
          1,
          7,
          53,
          2,
          2,
          4,
          54,
          2,
          19,
          4,
          1,
          1,
          2,
          2,
          8,
          3,
          43,
          10,
          28,
          6,
          2,
          9,
          60,
          1,
          26,
          7,
          6,
          8,
          1,
          3,
          3,
          3,
          6,
          1,
          5,
          5,
          1,
          3,
          2,
          5,
          4,
          3,
          1,
          2,
          2,
          35,
          1,
          1,
          6,
          4,
          9,
          1,
          2,
          2,
          4,
          13,
          3,
          2,
          3,
          2,
          2,
          2,
          8,
          5,
          6,
          1,
          5,
          5,
          1,
          1,
          13,
          6,
          17,
          17,
          1,
          11,
          32,
          2,
          1,
          1,
          1,
          8,
          7,
          5,
          2,
          1,
          8,
          5,
          1,
          12,
          16,
          50,
          8,
          3,
          3,
          15,
          13,
          6,
          4,
          7,
          8,
          1,
          9,
          21,
          5,
          3,
          8,
          1,
          35,
          26,
          3,
          7,
          1,
          3,
          8,
          5,
          1,
          5
         ]
        }
       ],
       "layout": {
        "coloraxis": {
         "colorbar": {
          "title": {
           "text": "SiteCount"
          }
         },
         "colorscale": [
          [
           0,
           "#0d0887"
          ],
          [
           0.1111111111111111,
           "#46039f"
          ],
          [
           0.2222222222222222,
           "#7201a8"
          ],
          [
           0.3333333333333333,
           "#9c179e"
          ],
          [
           0.4444444444444444,
           "#bd3786"
          ],
          [
           0.5555555555555556,
           "#d8576b"
          ],
          [
           0.6666666666666666,
           "#ed7953"
          ],
          [
           0.7777777777777778,
           "#fb9f3a"
          ],
          [
           0.8888888888888888,
           "#fdca26"
          ],
          [
           1,
           "#f0f921"
          ]
         ]
        },
        "geo": {
         "center": {},
         "domain": {
          "x": [
           0,
           1
          ],
          "y": [
           0,
           1
          ]
         }
        },
        "legend": {
         "tracegroupgap": 0
        },
        "template": {
         "data": {
          "bar": [
           {
            "error_x": {
             "color": "#2a3f5f"
            },
            "error_y": {
             "color": "#2a3f5f"
            },
            "marker": {
             "line": {
              "color": "#E5ECF6",
              "width": 0.5
             },
             "pattern": {
              "fillmode": "overlay",
              "size": 10,
              "solidity": 0.2
             }
            },
            "type": "bar"
           }
          ],
          "barpolar": [
           {
            "marker": {
             "line": {
              "color": "#E5ECF6",
              "width": 0.5
             },
             "pattern": {
              "fillmode": "overlay",
              "size": 10,
              "solidity": 0.2
             }
            },
            "type": "barpolar"
           }
          ],
          "carpet": [
           {
            "aaxis": {
             "endlinecolor": "#2a3f5f",
             "gridcolor": "white",
             "linecolor": "white",
             "minorgridcolor": "white",
             "startlinecolor": "#2a3f5f"
            },
            "baxis": {
             "endlinecolor": "#2a3f5f",
             "gridcolor": "white",
             "linecolor": "white",
             "minorgridcolor": "white",
             "startlinecolor": "#2a3f5f"
            },
            "type": "carpet"
           }
          ],
          "choropleth": [
           {
            "colorbar": {
             "outlinewidth": 0,
             "ticks": ""
            },
            "type": "choropleth"
           }
          ],
          "contour": [
           {
            "colorbar": {
             "outlinewidth": 0,
             "ticks": ""
            },
            "colorscale": [
             [
              0,
              "#0d0887"
             ],
             [
              0.1111111111111111,
              "#46039f"
             ],
             [
              0.2222222222222222,
              "#7201a8"
             ],
             [
              0.3333333333333333,
              "#9c179e"
             ],
             [
              0.4444444444444444,
              "#bd3786"
             ],
             [
              0.5555555555555556,
              "#d8576b"
             ],
             [
              0.6666666666666666,
              "#ed7953"
             ],
             [
              0.7777777777777778,
              "#fb9f3a"
             ],
             [
              0.8888888888888888,
              "#fdca26"
             ],
             [
              1,
              "#f0f921"
             ]
            ],
            "type": "contour"
           }
          ],
          "contourcarpet": [
           {
            "colorbar": {
             "outlinewidth": 0,
             "ticks": ""
            },
            "type": "contourcarpet"
           }
          ],
          "heatmap": [
           {
            "colorbar": {
             "outlinewidth": 0,
             "ticks": ""
            },
            "colorscale": [
             [
              0,
              "#0d0887"
             ],
             [
              0.1111111111111111,
              "#46039f"
             ],
             [
              0.2222222222222222,
              "#7201a8"
             ],
             [
              0.3333333333333333,
              "#9c179e"
             ],
             [
              0.4444444444444444,
              "#bd3786"
             ],
             [
              0.5555555555555556,
              "#d8576b"
             ],
             [
              0.6666666666666666,
              "#ed7953"
             ],
             [
              0.7777777777777778,
              "#fb9f3a"
             ],
             [
              0.8888888888888888,
              "#fdca26"
             ],
             [
              1,
              "#f0f921"
             ]
            ],
            "type": "heatmap"
           }
          ],
          "heatmapgl": [
           {
            "colorbar": {
             "outlinewidth": 0,
             "ticks": ""
            },
            "colorscale": [
             [
              0,
              "#0d0887"
             ],
             [
              0.1111111111111111,
              "#46039f"
             ],
             [
              0.2222222222222222,
              "#7201a8"
             ],
             [
              0.3333333333333333,
              "#9c179e"
             ],
             [
              0.4444444444444444,
              "#bd3786"
             ],
             [
              0.5555555555555556,
              "#d8576b"
             ],
             [
              0.6666666666666666,
              "#ed7953"
             ],
             [
              0.7777777777777778,
              "#fb9f3a"
             ],
             [
              0.8888888888888888,
              "#fdca26"
             ],
             [
              1,
              "#f0f921"
             ]
            ],
            "type": "heatmapgl"
           }
          ],
          "histogram": [
           {
            "marker": {
             "pattern": {
              "fillmode": "overlay",
              "size": 10,
              "solidity": 0.2
             }
            },
            "type": "histogram"
           }
          ],
          "histogram2d": [
           {
            "colorbar": {
             "outlinewidth": 0,
             "ticks": ""
            },
            "colorscale": [
             [
              0,
              "#0d0887"
             ],
             [
              0.1111111111111111,
              "#46039f"
             ],
             [
              0.2222222222222222,
              "#7201a8"
             ],
             [
              0.3333333333333333,
              "#9c179e"
             ],
             [
              0.4444444444444444,
              "#bd3786"
             ],
             [
              0.5555555555555556,
              "#d8576b"
             ],
             [
              0.6666666666666666,
              "#ed7953"
             ],
             [
              0.7777777777777778,
              "#fb9f3a"
             ],
             [
              0.8888888888888888,
              "#fdca26"
             ],
             [
              1,
              "#f0f921"
             ]
            ],
            "type": "histogram2d"
           }
          ],
          "histogram2dcontour": [
           {
            "colorbar": {
             "outlinewidth": 0,
             "ticks": ""
            },
            "colorscale": [
             [
              0,
              "#0d0887"
             ],
             [
              0.1111111111111111,
              "#46039f"
             ],
             [
              0.2222222222222222,
              "#7201a8"
             ],
             [
              0.3333333333333333,
              "#9c179e"
             ],
             [
              0.4444444444444444,
              "#bd3786"
             ],
             [
              0.5555555555555556,
              "#d8576b"
             ],
             [
              0.6666666666666666,
              "#ed7953"
             ],
             [
              0.7777777777777778,
              "#fb9f3a"
             ],
             [
              0.8888888888888888,
              "#fdca26"
             ],
             [
              1,
              "#f0f921"
             ]
            ],
            "type": "histogram2dcontour"
           }
          ],
          "mesh3d": [
           {
            "colorbar": {
             "outlinewidth": 0,
             "ticks": ""
            },
            "type": "mesh3d"
           }
          ],
          "parcoords": [
           {
            "line": {
             "colorbar": {
              "outlinewidth": 0,
              "ticks": ""
             }
            },
            "type": "parcoords"
           }
          ],
          "pie": [
           {
            "automargin": true,
            "type": "pie"
           }
          ],
          "scatter": [
           {
            "fillpattern": {
             "fillmode": "overlay",
             "size": 10,
             "solidity": 0.2
            },
            "type": "scatter"
           }
          ],
          "scatter3d": [
           {
            "line": {
             "colorbar": {
              "outlinewidth": 0,
              "ticks": ""
             }
            },
            "marker": {
             "colorbar": {
              "outlinewidth": 0,
              "ticks": ""
             }
            },
            "type": "scatter3d"
           }
          ],
          "scattercarpet": [
           {
            "marker": {
             "colorbar": {
              "outlinewidth": 0,
              "ticks": ""
             }
            },
            "type": "scattercarpet"
           }
          ],
          "scattergeo": [
           {
            "marker": {
             "colorbar": {
              "outlinewidth": 0,
              "ticks": ""
             }
            },
            "type": "scattergeo"
           }
          ],
          "scattergl": [
           {
            "marker": {
             "colorbar": {
              "outlinewidth": 0,
              "ticks": ""
             }
            },
            "type": "scattergl"
           }
          ],
          "scattermapbox": [
           {
            "marker": {
             "colorbar": {
              "outlinewidth": 0,
              "ticks": ""
             }
            },
            "type": "scattermapbox"
           }
          ],
          "scatterpolar": [
           {
            "marker": {
             "colorbar": {
              "outlinewidth": 0,
              "ticks": ""
             }
            },
            "type": "scatterpolar"
           }
          ],
          "scatterpolargl": [
           {
            "marker": {
             "colorbar": {
              "outlinewidth": 0,
              "ticks": ""
             }
            },
            "type": "scatterpolargl"
           }
          ],
          "scatterternary": [
           {
            "marker": {
             "colorbar": {
              "outlinewidth": 0,
              "ticks": ""
             }
            },
            "type": "scatterternary"
           }
          ],
          "surface": [
           {
            "colorbar": {
             "outlinewidth": 0,
             "ticks": ""
            },
            "colorscale": [
             [
              0,
              "#0d0887"
             ],
             [
              0.1111111111111111,
              "#46039f"
             ],
             [
              0.2222222222222222,
              "#7201a8"
             ],
             [
              0.3333333333333333,
              "#9c179e"
             ],
             [
              0.4444444444444444,
              "#bd3786"
             ],
             [
              0.5555555555555556,
              "#d8576b"
             ],
             [
              0.6666666666666666,
              "#ed7953"
             ],
             [
              0.7777777777777778,
              "#fb9f3a"
             ],
             [
              0.8888888888888888,
              "#fdca26"
             ],
             [
              1,
              "#f0f921"
             ]
            ],
            "type": "surface"
           }
          ],
          "table": [
           {
            "cells": {
             "fill": {
              "color": "#EBF0F8"
             },
             "line": {
              "color": "white"
             }
            },
            "header": {
             "fill": {
              "color": "#C8D4E3"
             },
             "line": {
              "color": "white"
             }
            },
            "type": "table"
           }
          ]
         },
         "layout": {
          "annotationdefaults": {
           "arrowcolor": "#2a3f5f",
           "arrowhead": 0,
           "arrowwidth": 1
          },
          "autotypenumbers": "strict",
          "coloraxis": {
           "colorbar": {
            "outlinewidth": 0,
            "ticks": ""
           }
          },
          "colorscale": {
           "diverging": [
            [
             0,
             "#8e0152"
            ],
            [
             0.1,
             "#c51b7d"
            ],
            [
             0.2,
             "#de77ae"
            ],
            [
             0.3,
             "#f1b6da"
            ],
            [
             0.4,
             "#fde0ef"
            ],
            [
             0.5,
             "#f7f7f7"
            ],
            [
             0.6,
             "#e6f5d0"
            ],
            [
             0.7,
             "#b8e186"
            ],
            [
             0.8,
             "#7fbc41"
            ],
            [
             0.9,
             "#4d9221"
            ],
            [
             1,
             "#276419"
            ]
           ],
           "sequential": [
            [
             0,
             "#0d0887"
            ],
            [
             0.1111111111111111,
             "#46039f"
            ],
            [
             0.2222222222222222,
             "#7201a8"
            ],
            [
             0.3333333333333333,
             "#9c179e"
            ],
            [
             0.4444444444444444,
             "#bd3786"
            ],
            [
             0.5555555555555556,
             "#d8576b"
            ],
            [
             0.6666666666666666,
             "#ed7953"
            ],
            [
             0.7777777777777778,
             "#fb9f3a"
            ],
            [
             0.8888888888888888,
             "#fdca26"
            ],
            [
             1,
             "#f0f921"
            ]
           ],
           "sequentialminus": [
            [
             0,
             "#0d0887"
            ],
            [
             0.1111111111111111,
             "#46039f"
            ],
            [
             0.2222222222222222,
             "#7201a8"
            ],
            [
             0.3333333333333333,
             "#9c179e"
            ],
            [
             0.4444444444444444,
             "#bd3786"
            ],
            [
             0.5555555555555556,
             "#d8576b"
            ],
            [
             0.6666666666666666,
             "#ed7953"
            ],
            [
             0.7777777777777778,
             "#fb9f3a"
            ],
            [
             0.8888888888888888,
             "#fdca26"
            ],
            [
             1,
             "#f0f921"
            ]
           ]
          },
          "colorway": [
           "#636efa",
           "#EF553B",
           "#00cc96",
           "#ab63fa",
           "#FFA15A",
           "#19d3f3",
           "#FF6692",
           "#B6E880",
           "#FF97FF",
           "#FECB52"
          ],
          "font": {
           "color": "#2a3f5f"
          },
          "geo": {
           "bgcolor": "white",
           "lakecolor": "white",
           "landcolor": "#E5ECF6",
           "showlakes": true,
           "showland": true,
           "subunitcolor": "white"
          },
          "hoverlabel": {
           "align": "left"
          },
          "hovermode": "closest",
          "mapbox": {
           "style": "light"
          },
          "paper_bgcolor": "white",
          "plot_bgcolor": "#E5ECF6",
          "polar": {
           "angularaxis": {
            "gridcolor": "white",
            "linecolor": "white",
            "ticks": ""
           },
           "bgcolor": "#E5ECF6",
           "radialaxis": {
            "gridcolor": "white",
            "linecolor": "white",
            "ticks": ""
           }
          },
          "scene": {
           "xaxis": {
            "backgroundcolor": "#E5ECF6",
            "gridcolor": "white",
            "gridwidth": 2,
            "linecolor": "white",
            "showbackground": true,
            "ticks": "",
            "zerolinecolor": "white"
           },
           "yaxis": {
            "backgroundcolor": "#E5ECF6",
            "gridcolor": "white",
            "gridwidth": 2,
            "linecolor": "white",
            "showbackground": true,
            "ticks": "",
            "zerolinecolor": "white"
           },
           "zaxis": {
            "backgroundcolor": "#E5ECF6",
            "gridcolor": "white",
            "gridwidth": 2,
            "linecolor": "white",
            "showbackground": true,
            "ticks": "",
            "zerolinecolor": "white"
           }
          },
          "shapedefaults": {
           "line": {
            "color": "#2a3f5f"
           }
          },
          "ternary": {
           "aaxis": {
            "gridcolor": "white",
            "linecolor": "white",
            "ticks": ""
           },
           "baxis": {
            "gridcolor": "white",
            "linecolor": "white",
            "ticks": ""
           },
           "bgcolor": "#E5ECF6",
           "caxis": {
            "gridcolor": "white",
            "linecolor": "white",
            "ticks": ""
           }
          },
          "title": {
           "x": 0.05
          },
          "xaxis": {
           "automargin": true,
           "gridcolor": "white",
           "linecolor": "white",
           "ticks": "",
           "title": {
            "standoff": 15
           },
           "zerolinecolor": "white",
           "zerolinewidth": 2
          },
          "yaxis": {
           "automargin": true,
           "gridcolor": "white",
           "linecolor": "white",
           "ticks": "",
           "title": {
            "standoff": 15
           },
           "zerolinecolor": "white",
           "zerolinewidth": 2
          }
         }
        },
        "title": {
         "text": "Numero di siti UNESCO per Paese"
        }
       }
      }
     },
     "metadata": {},
     "output_type": "display_data"
    },
    {
     "data": {
      "application/vnd.plotly.v1+json": {
       "config": {
        "plotlyServerURL": "https://plot.ly"
       },
       "data": [
        {
         "alignmentgroup": "True",
         "hovertemplate": "Paese=%{x}<br>Numero di siti=%{marker.color}<extra></extra>",
         "legendgroup": "",
         "marker": {
          "color": [
           60,
           59,
           54,
           53,
           50,
           43,
           35,
           35,
           32,
           28,
           26,
           26,
           24,
           22,
           21,
           20,
           19,
           17,
           17,
           17,
           16,
           16,
           15,
           13,
           13,
           13,
           12,
           12,
           12,
           12,
           11,
           11,
           10,
           10,
           10,
           9,
           9,
           9,
           9,
           9,
           8,
           8,
           8,
           8,
           8,
           8,
           8,
           8,
           8,
           7,
           7,
           7,
           7,
           7,
           7,
           7,
           7,
           7,
           6,
           6,
           6,
           6,
           6,
           6,
           6,
           5,
           5,
           5,
           5,
           5,
           5,
           5,
           5,
           5,
           5,
           5,
           5,
           5,
           5,
           5,
           5,
           4,
           4,
           4,
           4,
           4,
           4,
           4,
           4,
           4,
           4,
           4,
           3,
           3,
           3,
           3,
           3,
           3,
           3,
           3,
           3,
           3,
           3,
           3,
           3,
           3,
           3,
           3,
           3,
           3,
           2,
           2,
           2,
           2,
           2,
           2,
           2,
           2,
           2,
           2,
           2,
           2,
           2,
           2,
           2,
           2,
           2,
           2,
           2,
           2,
           2,
           2,
           2,
           2,
           1,
           1,
           1,
           1,
           1,
           1,
           1,
           1,
           1,
           1,
           1,
           1,
           1,
           1,
           1,
           1,
           1,
           1,
           1,
           1,
           1,
           1,
           1,
           1,
           1,
           1,
           1,
           1,
           1,
           1,
           1,
           1,
           1,
           1
          ],
          "coloraxis": "coloraxis",
          "pattern": {
           "shape": ""
          }
         },
         "name": "",
         "offsetgroup": "",
         "orientation": "v",
         "showlegend": false,
         "text": [
          60,
          59,
          54,
          53,
          50,
          43,
          35,
          35,
          32,
          28,
          26,
          26,
          24,
          22,
          21,
          20,
          19,
          17,
          17,
          17,
          16,
          16,
          15,
          13,
          13,
          13,
          12,
          12,
          12,
          12,
          11,
          11,
          10,
          10,
          10,
          9,
          9,
          9,
          9,
          9,
          8,
          8,
          8,
          8,
          8,
          8,
          8,
          8,
          8,
          7,
          7,
          7,
          7,
          7,
          7,
          7,
          7,
          7,
          6,
          6,
          6,
          6,
          6,
          6,
          6,
          5,
          5,
          5,
          5,
          5,
          5,
          5,
          5,
          5,
          5,
          5,
          5,
          5,
          5,
          5,
          5,
          4,
          4,
          4,
          4,
          4,
          4,
          4,
          4,
          4,
          4,
          4,
          3,
          3,
          3,
          3,
          3,
          3,
          3,
          3,
          3,
          3,
          3,
          3,
          3,
          3,
          3,
          3,
          3,
          3,
          2,
          2,
          2,
          2,
          2,
          2,
          2,
          2,
          2,
          2,
          2,
          2,
          2,
          2,
          2,
          2,
          2,
          2,
          2,
          2,
          2,
          2,
          2,
          2,
          1,
          1,
          1,
          1,
          1,
          1,
          1,
          1,
          1,
          1,
          1,
          1,
          1,
          1,
          1,
          1,
          1,
          1,
          1,
          1,
          1,
          1,
          1,
          1,
          1,
          1,
          1,
          1,
          1,
          1,
          1,
          1,
          1,
          1
         ],
         "textposition": "auto",
         "type": "bar",
         "x": [
          "Italy",
          "China",
          "Germany",
          "France",
          "Spain",
          "India",
          "United Kingdom",
          "Mexico",
          "Russia",
          "Iran",
          "Japan",
          "United States",
          "Brazil",
          "Canada",
          "Turkey",
          "Australia",
          "Greece",
          "Poland",
          "Portugal",
          "Czech Republic",
          "Belgium",
          "South Korea",
          "Sweden",
          "Switzerland",
          "Peru",
          "Netherlands",
          "Ethiopia",
          "Argentina",
          "South Africa",
          "Austria",
          "Romania",
          "Denmark",
          "Indonesia",
          "Croatia",
          "Bulgaria",
          "Israel",
          "Colombia",
          "Tunisia",
          "Morocco",
          "Cuba",
          "Slovakia",
          "Ukraine",
          "Sri Lanka",
          "Hungary",
          "Kenya",
          "Saudi Arabia",
          "Thailand",
          "Norway",
          "Vietnam",
          "Tanzania",
          "Senegal",
          "Uzbekistan",
          "Finland",
          "Bolivia",
          "Algeria",
          "Egypt",
          "Chile",
          "Jordan",
          "Pakistan",
          "Syria",
          "Philippines",
          "Kazakhstan",
          "Mongolia",
          "Iraq",
          "Lebanon",
          "Yemen",
          "Serbia",
          "Oman",
          "Lithuania",
          "Malaysia",
          "Turkmenistan",
          "Palestine",
          "Panama",
          "Slovenia",
          "Libya",
          "Zimbabwe",
          "Ecuador",
          "Congo, Dem. Rep.",
          "Bosnia and Herzegovina",
          "Azerbaijan",
          "Cote d'Ivoire",
          "Georgia",
          "Costa Rica",
          "Albania",
          "Nepal",
          "Cambodia",
          "Mali",
          "Guatemala",
          "Montenegro",
          "Belarus",
          "Burkina Faso",
          "Tajikistan",
          "Niger",
          "New Zealand",
          "Sudan",
          "Suriname",
          "Cyprus",
          "Bangladesh",
          "Malta",
          "Uganda",
          "Bahrain",
          "Madagascar",
          "Armenia",
          "Uruguay",
          "Benin",
          "Iceland",
          "Venezuela",
          "Latvia",
          "Kyrgyzstan",
          "Laos",
          "Ireland",
          "Congo, Rep.",
          "Rwanda",
          "Central African Republic",
          "Seychelles",
          "Chad",
          "Cameroon",
          "Botswana",
          "Afghanistan",
          "Myanmar",
          "Gabon",
          "Mauritania",
          "Namibia",
          "Ghana",
          "Nicaragua",
          "Holy See",
          "Nigeria",
          "North Korea",
          "Malawi",
          "North Macedonia",
          "Gambia",
          "Mauritius",
          "Honduras",
          "Estonia",
          "Angola",
          "Belize",
          "Togo",
          "Zambia",
          "Barbados",
          "Andorra",
          "United Arab Emirates",
          "Marshall Islands",
          "Luxembourg",
          "Vanuatu",
          "Antigua and Barbuda",
          "Lesotho",
          "Haiti",
          "Kiribati",
          "Paraguay",
          "Micronesia",
          "Saint Lucia",
          "El Salvador",
          "Papua New Guinea",
          "Dominican Republic",
          "Qatar",
          "Dominica",
          "Fiji",
          "Saint Kitts and Nevis",
          "San Marino",
          "Moldova",
          "Palau",
          "Singapore",
          "Solomon Islands",
          "Cape Verde",
          "Eritrea",
          "Mozambique",
          "Guinea",
          "Jamaica"
         ],
         "xaxis": "x",
         "y": [
          60,
          59,
          54,
          53,
          50,
          43,
          35,
          35,
          32,
          28,
          26,
          26,
          24,
          22,
          21,
          20,
          19,
          17,
          17,
          17,
          16,
          16,
          15,
          13,
          13,
          13,
          12,
          12,
          12,
          12,
          11,
          11,
          10,
          10,
          10,
          9,
          9,
          9,
          9,
          9,
          8,
          8,
          8,
          8,
          8,
          8,
          8,
          8,
          8,
          7,
          7,
          7,
          7,
          7,
          7,
          7,
          7,
          7,
          6,
          6,
          6,
          6,
          6,
          6,
          6,
          5,
          5,
          5,
          5,
          5,
          5,
          5,
          5,
          5,
          5,
          5,
          5,
          5,
          5,
          5,
          5,
          4,
          4,
          4,
          4,
          4,
          4,
          4,
          4,
          4,
          4,
          4,
          3,
          3,
          3,
          3,
          3,
          3,
          3,
          3,
          3,
          3,
          3,
          3,
          3,
          3,
          3,
          3,
          3,
          3,
          2,
          2,
          2,
          2,
          2,
          2,
          2,
          2,
          2,
          2,
          2,
          2,
          2,
          2,
          2,
          2,
          2,
          2,
          2,
          2,
          2,
          2,
          2,
          2,
          1,
          1,
          1,
          1,
          1,
          1,
          1,
          1,
          1,
          1,
          1,
          1,
          1,
          1,
          1,
          1,
          1,
          1,
          1,
          1,
          1,
          1,
          1,
          1,
          1,
          1,
          1,
          1,
          1,
          1,
          1,
          1,
          1,
          1
         ],
         "yaxis": "y"
        }
       ],
       "layout": {
        "barmode": "relative",
        "coloraxis": {
         "colorbar": {
          "title": {
           "text": "Numero di siti"
          }
         },
         "colorscale": [
          [
           0,
           "#0d0887"
          ],
          [
           0.1111111111111111,
           "#46039f"
          ],
          [
           0.2222222222222222,
           "#7201a8"
          ],
          [
           0.3333333333333333,
           "#9c179e"
          ],
          [
           0.4444444444444444,
           "#bd3786"
          ],
          [
           0.5555555555555556,
           "#d8576b"
          ],
          [
           0.6666666666666666,
           "#ed7953"
          ],
          [
           0.7777777777777778,
           "#fb9f3a"
          ],
          [
           0.8888888888888888,
           "#fdca26"
          ],
          [
           1,
           "#f0f921"
          ]
         ]
        },
        "legend": {
         "tracegroupgap": 0
        },
        "showlegend": false,
        "template": {
         "data": {
          "bar": [
           {
            "error_x": {
             "color": "#2a3f5f"
            },
            "error_y": {
             "color": "#2a3f5f"
            },
            "marker": {
             "line": {
              "color": "#E5ECF6",
              "width": 0.5
             },
             "pattern": {
              "fillmode": "overlay",
              "size": 10,
              "solidity": 0.2
             }
            },
            "type": "bar"
           }
          ],
          "barpolar": [
           {
            "marker": {
             "line": {
              "color": "#E5ECF6",
              "width": 0.5
             },
             "pattern": {
              "fillmode": "overlay",
              "size": 10,
              "solidity": 0.2
             }
            },
            "type": "barpolar"
           }
          ],
          "carpet": [
           {
            "aaxis": {
             "endlinecolor": "#2a3f5f",
             "gridcolor": "white",
             "linecolor": "white",
             "minorgridcolor": "white",
             "startlinecolor": "#2a3f5f"
            },
            "baxis": {
             "endlinecolor": "#2a3f5f",
             "gridcolor": "white",
             "linecolor": "white",
             "minorgridcolor": "white",
             "startlinecolor": "#2a3f5f"
            },
            "type": "carpet"
           }
          ],
          "choropleth": [
           {
            "colorbar": {
             "outlinewidth": 0,
             "ticks": ""
            },
            "type": "choropleth"
           }
          ],
          "contour": [
           {
            "colorbar": {
             "outlinewidth": 0,
             "ticks": ""
            },
            "colorscale": [
             [
              0,
              "#0d0887"
             ],
             [
              0.1111111111111111,
              "#46039f"
             ],
             [
              0.2222222222222222,
              "#7201a8"
             ],
             [
              0.3333333333333333,
              "#9c179e"
             ],
             [
              0.4444444444444444,
              "#bd3786"
             ],
             [
              0.5555555555555556,
              "#d8576b"
             ],
             [
              0.6666666666666666,
              "#ed7953"
             ],
             [
              0.7777777777777778,
              "#fb9f3a"
             ],
             [
              0.8888888888888888,
              "#fdca26"
             ],
             [
              1,
              "#f0f921"
             ]
            ],
            "type": "contour"
           }
          ],
          "contourcarpet": [
           {
            "colorbar": {
             "outlinewidth": 0,
             "ticks": ""
            },
            "type": "contourcarpet"
           }
          ],
          "heatmap": [
           {
            "colorbar": {
             "outlinewidth": 0,
             "ticks": ""
            },
            "colorscale": [
             [
              0,
              "#0d0887"
             ],
             [
              0.1111111111111111,
              "#46039f"
             ],
             [
              0.2222222222222222,
              "#7201a8"
             ],
             [
              0.3333333333333333,
              "#9c179e"
             ],
             [
              0.4444444444444444,
              "#bd3786"
             ],
             [
              0.5555555555555556,
              "#d8576b"
             ],
             [
              0.6666666666666666,
              "#ed7953"
             ],
             [
              0.7777777777777778,
              "#fb9f3a"
             ],
             [
              0.8888888888888888,
              "#fdca26"
             ],
             [
              1,
              "#f0f921"
             ]
            ],
            "type": "heatmap"
           }
          ],
          "heatmapgl": [
           {
            "colorbar": {
             "outlinewidth": 0,
             "ticks": ""
            },
            "colorscale": [
             [
              0,
              "#0d0887"
             ],
             [
              0.1111111111111111,
              "#46039f"
             ],
             [
              0.2222222222222222,
              "#7201a8"
             ],
             [
              0.3333333333333333,
              "#9c179e"
             ],
             [
              0.4444444444444444,
              "#bd3786"
             ],
             [
              0.5555555555555556,
              "#d8576b"
             ],
             [
              0.6666666666666666,
              "#ed7953"
             ],
             [
              0.7777777777777778,
              "#fb9f3a"
             ],
             [
              0.8888888888888888,
              "#fdca26"
             ],
             [
              1,
              "#f0f921"
             ]
            ],
            "type": "heatmapgl"
           }
          ],
          "histogram": [
           {
            "marker": {
             "pattern": {
              "fillmode": "overlay",
              "size": 10,
              "solidity": 0.2
             }
            },
            "type": "histogram"
           }
          ],
          "histogram2d": [
           {
            "colorbar": {
             "outlinewidth": 0,
             "ticks": ""
            },
            "colorscale": [
             [
              0,
              "#0d0887"
             ],
             [
              0.1111111111111111,
              "#46039f"
             ],
             [
              0.2222222222222222,
              "#7201a8"
             ],
             [
              0.3333333333333333,
              "#9c179e"
             ],
             [
              0.4444444444444444,
              "#bd3786"
             ],
             [
              0.5555555555555556,
              "#d8576b"
             ],
             [
              0.6666666666666666,
              "#ed7953"
             ],
             [
              0.7777777777777778,
              "#fb9f3a"
             ],
             [
              0.8888888888888888,
              "#fdca26"
             ],
             [
              1,
              "#f0f921"
             ]
            ],
            "type": "histogram2d"
           }
          ],
          "histogram2dcontour": [
           {
            "colorbar": {
             "outlinewidth": 0,
             "ticks": ""
            },
            "colorscale": [
             [
              0,
              "#0d0887"
             ],
             [
              0.1111111111111111,
              "#46039f"
             ],
             [
              0.2222222222222222,
              "#7201a8"
             ],
             [
              0.3333333333333333,
              "#9c179e"
             ],
             [
              0.4444444444444444,
              "#bd3786"
             ],
             [
              0.5555555555555556,
              "#d8576b"
             ],
             [
              0.6666666666666666,
              "#ed7953"
             ],
             [
              0.7777777777777778,
              "#fb9f3a"
             ],
             [
              0.8888888888888888,
              "#fdca26"
             ],
             [
              1,
              "#f0f921"
             ]
            ],
            "type": "histogram2dcontour"
           }
          ],
          "mesh3d": [
           {
            "colorbar": {
             "outlinewidth": 0,
             "ticks": ""
            },
            "type": "mesh3d"
           }
          ],
          "parcoords": [
           {
            "line": {
             "colorbar": {
              "outlinewidth": 0,
              "ticks": ""
             }
            },
            "type": "parcoords"
           }
          ],
          "pie": [
           {
            "automargin": true,
            "type": "pie"
           }
          ],
          "scatter": [
           {
            "fillpattern": {
             "fillmode": "overlay",
             "size": 10,
             "solidity": 0.2
            },
            "type": "scatter"
           }
          ],
          "scatter3d": [
           {
            "line": {
             "colorbar": {
              "outlinewidth": 0,
              "ticks": ""
             }
            },
            "marker": {
             "colorbar": {
              "outlinewidth": 0,
              "ticks": ""
             }
            },
            "type": "scatter3d"
           }
          ],
          "scattercarpet": [
           {
            "marker": {
             "colorbar": {
              "outlinewidth": 0,
              "ticks": ""
             }
            },
            "type": "scattercarpet"
           }
          ],
          "scattergeo": [
           {
            "marker": {
             "colorbar": {
              "outlinewidth": 0,
              "ticks": ""
             }
            },
            "type": "scattergeo"
           }
          ],
          "scattergl": [
           {
            "marker": {
             "colorbar": {
              "outlinewidth": 0,
              "ticks": ""
             }
            },
            "type": "scattergl"
           }
          ],
          "scattermapbox": [
           {
            "marker": {
             "colorbar": {
              "outlinewidth": 0,
              "ticks": ""
             }
            },
            "type": "scattermapbox"
           }
          ],
          "scatterpolar": [
           {
            "marker": {
             "colorbar": {
              "outlinewidth": 0,
              "ticks": ""
             }
            },
            "type": "scatterpolar"
           }
          ],
          "scatterpolargl": [
           {
            "marker": {
             "colorbar": {
              "outlinewidth": 0,
              "ticks": ""
             }
            },
            "type": "scatterpolargl"
           }
          ],
          "scatterternary": [
           {
            "marker": {
             "colorbar": {
              "outlinewidth": 0,
              "ticks": ""
             }
            },
            "type": "scatterternary"
           }
          ],
          "surface": [
           {
            "colorbar": {
             "outlinewidth": 0,
             "ticks": ""
            },
            "colorscale": [
             [
              0,
              "#0d0887"
             ],
             [
              0.1111111111111111,
              "#46039f"
             ],
             [
              0.2222222222222222,
              "#7201a8"
             ],
             [
              0.3333333333333333,
              "#9c179e"
             ],
             [
              0.4444444444444444,
              "#bd3786"
             ],
             [
              0.5555555555555556,
              "#d8576b"
             ],
             [
              0.6666666666666666,
              "#ed7953"
             ],
             [
              0.7777777777777778,
              "#fb9f3a"
             ],
             [
              0.8888888888888888,
              "#fdca26"
             ],
             [
              1,
              "#f0f921"
             ]
            ],
            "type": "surface"
           }
          ],
          "table": [
           {
            "cells": {
             "fill": {
              "color": "#EBF0F8"
             },
             "line": {
              "color": "white"
             }
            },
            "header": {
             "fill": {
              "color": "#C8D4E3"
             },
             "line": {
              "color": "white"
             }
            },
            "type": "table"
           }
          ]
         },
         "layout": {
          "annotationdefaults": {
           "arrowcolor": "#2a3f5f",
           "arrowhead": 0,
           "arrowwidth": 1
          },
          "autotypenumbers": "strict",
          "coloraxis": {
           "colorbar": {
            "outlinewidth": 0,
            "ticks": ""
           }
          },
          "colorscale": {
           "diverging": [
            [
             0,
             "#8e0152"
            ],
            [
             0.1,
             "#c51b7d"
            ],
            [
             0.2,
             "#de77ae"
            ],
            [
             0.3,
             "#f1b6da"
            ],
            [
             0.4,
             "#fde0ef"
            ],
            [
             0.5,
             "#f7f7f7"
            ],
            [
             0.6,
             "#e6f5d0"
            ],
            [
             0.7,
             "#b8e186"
            ],
            [
             0.8,
             "#7fbc41"
            ],
            [
             0.9,
             "#4d9221"
            ],
            [
             1,
             "#276419"
            ]
           ],
           "sequential": [
            [
             0,
             "#0d0887"
            ],
            [
             0.1111111111111111,
             "#46039f"
            ],
            [
             0.2222222222222222,
             "#7201a8"
            ],
            [
             0.3333333333333333,
             "#9c179e"
            ],
            [
             0.4444444444444444,
             "#bd3786"
            ],
            [
             0.5555555555555556,
             "#d8576b"
            ],
            [
             0.6666666666666666,
             "#ed7953"
            ],
            [
             0.7777777777777778,
             "#fb9f3a"
            ],
            [
             0.8888888888888888,
             "#fdca26"
            ],
            [
             1,
             "#f0f921"
            ]
           ],
           "sequentialminus": [
            [
             0,
             "#0d0887"
            ],
            [
             0.1111111111111111,
             "#46039f"
            ],
            [
             0.2222222222222222,
             "#7201a8"
            ],
            [
             0.3333333333333333,
             "#9c179e"
            ],
            [
             0.4444444444444444,
             "#bd3786"
            ],
            [
             0.5555555555555556,
             "#d8576b"
            ],
            [
             0.6666666666666666,
             "#ed7953"
            ],
            [
             0.7777777777777778,
             "#fb9f3a"
            ],
            [
             0.8888888888888888,
             "#fdca26"
            ],
            [
             1,
             "#f0f921"
            ]
           ]
          },
          "colorway": [
           "#636efa",
           "#EF553B",
           "#00cc96",
           "#ab63fa",
           "#FFA15A",
           "#19d3f3",
           "#FF6692",
           "#B6E880",
           "#FF97FF",
           "#FECB52"
          ],
          "font": {
           "color": "#2a3f5f"
          },
          "geo": {
           "bgcolor": "white",
           "lakecolor": "white",
           "landcolor": "#E5ECF6",
           "showlakes": true,
           "showland": true,
           "subunitcolor": "white"
          },
          "hoverlabel": {
           "align": "left"
          },
          "hovermode": "closest",
          "mapbox": {
           "style": "light"
          },
          "paper_bgcolor": "white",
          "plot_bgcolor": "#E5ECF6",
          "polar": {
           "angularaxis": {
            "gridcolor": "white",
            "linecolor": "white",
            "ticks": ""
           },
           "bgcolor": "#E5ECF6",
           "radialaxis": {
            "gridcolor": "white",
            "linecolor": "white",
            "ticks": ""
           }
          },
          "scene": {
           "xaxis": {
            "backgroundcolor": "#E5ECF6",
            "gridcolor": "white",
            "gridwidth": 2,
            "linecolor": "white",
            "showbackground": true,
            "ticks": "",
            "zerolinecolor": "white"
           },
           "yaxis": {
            "backgroundcolor": "#E5ECF6",
            "gridcolor": "white",
            "gridwidth": 2,
            "linecolor": "white",
            "showbackground": true,
            "ticks": "",
            "zerolinecolor": "white"
           },
           "zaxis": {
            "backgroundcolor": "#E5ECF6",
            "gridcolor": "white",
            "gridwidth": 2,
            "linecolor": "white",
            "showbackground": true,
            "ticks": "",
            "zerolinecolor": "white"
           }
          },
          "shapedefaults": {
           "line": {
            "color": "#2a3f5f"
           }
          },
          "ternary": {
           "aaxis": {
            "gridcolor": "white",
            "linecolor": "white",
            "ticks": ""
           },
           "baxis": {
            "gridcolor": "white",
            "linecolor": "white",
            "ticks": ""
           },
           "bgcolor": "#E5ECF6",
           "caxis": {
            "gridcolor": "white",
            "linecolor": "white",
            "ticks": ""
           }
          },
          "title": {
           "x": 0.05
          },
          "xaxis": {
           "automargin": true,
           "gridcolor": "white",
           "linecolor": "white",
           "ticks": "",
           "title": {
            "standoff": 15
           },
           "zerolinecolor": "white",
           "zerolinewidth": 2
          },
          "yaxis": {
           "automargin": true,
           "gridcolor": "white",
           "linecolor": "white",
           "ticks": "",
           "title": {
            "standoff": 15
           },
           "zerolinecolor": "white",
           "zerolinewidth": 2
          }
         }
        },
        "title": {
         "font": {
          "size": 18
         },
         "text": "Numero di siti UNESCO per Paese",
         "x": 0.5,
         "y": 0.95
        },
        "xaxis": {
         "anchor": "y",
         "domain": [
          0,
          1
         ],
         "tickangle": -45,
         "title": {
          "text": "Paese"
         }
        },
        "yaxis": {
         "anchor": "x",
         "domain": [
          0,
          1
         ],
         "title": {
          "text": "Numero di siti"
         }
        }
       }
      }
     },
     "metadata": {},
     "output_type": "display_data"
    }
   ],
   "source": [
    "# Percorso del file CSV\n",
    "file_path = \"datasets/staticon.csv\"\n",
    "\n",
    "# Carica il dataset con il separatore corretto\n",
    "df = pd.read_csv(file_path, sep=';')\n",
    "\n",
    "# Stampa i Paesi riconosciuti da Plotly\n",
    "# countries_plotly = px.data.gapminder()['country'].unique()\n",
    "# print(\"Paesi riconosciuti da Plotly:\")\n",
    "# print(\"Numero di paesi riconosciuti da Plotly:\", len(countries_plotly))\n",
    "# print(countries_plotly)\n",
    "\n",
    "# Stampa i Paesi riconosciuti dal dataset\n",
    "# print(\"Paesi presenti nel dataset:\")\n",
    "# print(\"Numero di paesi presenti nel dataset:\", len(df['Stati parti'].unique()))\n",
    "# print(df['Stati parti'].unique())\n",
    "\n",
    "country_mapping = {\n",
    "    'Afganistan': 'Afghanistan',\n",
    "    'Albania': 'Albania',\n",
    "    'Algeria': 'Algeria',\n",
    "    'Andorra': 'Andorra',\n",
    "    'Angola': 'Angola',\n",
    "    'Antigua e Barbuda': 'Antigua and Barbuda',\n",
    "    'Argentina': 'Argentina',\n",
    "    'Armenia': 'Armenia',\n",
    "    'Australia': 'Australia',\n",
    "    'Austria': 'Austria',\n",
    "    'Azerbaigian': 'Azerbaijan',\n",
    "    'Bahrein': 'Bahrain',\n",
    "    'Bangladesh': 'Bangladesh',\n",
    "    'Barbados': 'Barbados',\n",
    "    'Bielorussia': 'Belarus',\n",
    "    'Belgio': 'Belgium',\n",
    "    'Belize': 'Belize',\n",
    "    'Benin': 'Benin',\n",
    "    'Bolivia (Stato Plurinazionale di)': 'Bolivia',\n",
    "    'Bosnia ed Erzegovina': 'Bosnia and Herzegovina',\n",
    "    'Botswana': 'Botswana',\n",
    "    'Brasile': 'Brazil',\n",
    "    'Bulgaria': 'Bulgaria',\n",
    "    'Burkina Faso': 'Burkina Faso',\n",
    "    'Capo Verde': 'Cape Verde',\n",
    "    'Cambogia': 'Cambodia',\n",
    "    'Camerun': 'Cameroon',\n",
    "    'Canada': 'Canada',\n",
    "    'Repubblica Centrafricana': 'Central African Republic',\n",
    "    'Chad': 'Chad',\n",
    "    'Chile': 'Chile',\n",
    "    'Cina': 'China',\n",
    "    'Colombia': 'Colombia',\n",
    "    'Congo': 'Congo, Rep.',\n",
    "    'Costa Rica': 'Costa Rica',\n",
    "    \"Costa d'Avorio\": \"Cote d'Ivoire\",\n",
    "    'Croazia': 'Croatia',\n",
    "    'Cuba': 'Cuba',\n",
    "    'Cipro': 'Cyprus',\n",
    "    'Repubblica Ceca': 'Czech Republic',\n",
    "    'Repubblica Popolare Democratica di Corea': 'North Korea',\n",
    "    'Repubblica Democratica del Congo': 'Congo, Dem. Rep.',\n",
    "    'Danimarca': 'Denmark',\n",
    "    'La dominica': 'Dominica',\n",
    "    'Repubblica Dominicana': 'Dominican Republic',\n",
    "    'Ecuador': 'Ecuador',\n",
    "    'Egitto': 'Egypt',\n",
    "    'El Salvador': 'El Salvador',\n",
    "    'Eritrea': 'Eritrea',\n",
    "    'Estonia': 'Estonia',\n",
    "    'Etiopia': 'Ethiopia',\n",
    "    'Figi': 'Fiji',\n",
    "    'Finlandia': 'Finland',\n",
    "    'Francia': 'France',\n",
    "    'Gabon': 'Gabon',\n",
    "    'Gambia': 'Gambia',\n",
    "    'Georgia': 'Georgia',\n",
    "    'Germania': 'Germany',\n",
    "    'Ghana': 'Ghana',\n",
    "    'Grecia': 'Greece',\n",
    "    'Guatemala': 'Guatemala',\n",
    "    'Guinea': 'Guinea',\n",
    "    'Haiti': 'Haiti',\n",
    "    'Santa Sede': 'Holy See',\n",
    "    'Honduras': 'Honduras',\n",
    "    'Ungheria': 'Hungary',\n",
    "    'Islanda': 'Iceland',\n",
    "    'India': 'India',\n",
    "    'Indonesia': 'Indonesia',\n",
    "    \"Iran (Repubblica Islamica dell')\": 'Iran',\n",
    "    'Iraq': 'Iraq',\n",
    "    'Irlanda': 'Ireland',\n",
    "    'Israele': 'Israel',\n",
    "    'Italia': 'Italy',\n",
    "    'Giamaica': 'Jamaica',\n",
    "    'Giappone': 'Japan',\n",
    "    'Giordania': 'Jordan',\n",
    "    'Kazakistan': 'Kazakhstan',\n",
    "    'Kenia': 'Kenya',\n",
    "    'Kiribati': 'Kiribati',\n",
    "    'Kirghizistan': 'Kyrgyzstan',\n",
    "    'Repubblica Democratica Popolare del Laos': 'Laos',\n",
    "    'Lettonia': 'Latvia',\n",
    "    'Libano': 'Lebanon',\n",
    "    'Lesoto': 'Lesotho',\n",
    "    'Libia': 'Libya',\n",
    "    'Lituania': 'Lithuania',\n",
    "    'Lussemburgo': 'Luxembourg',\n",
    "    'Madagascar': 'Madagascar',\n",
    "    'Malawi': 'Malawi',\n",
    "    'Malaysia': 'Malaysia',\n",
    "    'Mali': 'Mali',\n",
    "    'Malta': 'Malta',\n",
    "    'Isole Marshall': 'Marshall Islands',\n",
    "    'Mauritania': 'Mauritania',\n",
    "    'Maurizio': 'Mauritius',\n",
    "    'Messico': 'Mexico',\n",
    "    'Micronesia (Stati Federati di)': 'Micronesia',\n",
    "    'Mongolia': 'Mongolia',\n",
    "    'Montenegro': 'Montenegro',\n",
    "    'Marocco': 'Morocco',\n",
    "    'Mozambico': 'Mozambique',\n",
    "    'Birmania': 'Myanmar',\n",
    "    'La Namibia': 'Namibia',\n",
    "    'Nepal': 'Nepal',\n",
    "    'Paesi Bassi (Regno dei)': 'Netherlands',\n",
    "    'Nuova Zelanda': 'New Zealand',\n",
    "    'Nicaragua': 'Nicaragua',\n",
    "    'Niger': 'Niger',\n",
    "    'Nigeria': 'Nigeria',\n",
    "    'Macedonia del Nord': 'North Macedonia',\n",
    "    'Norvegia': 'Norway',\n",
    "    'Oman': 'Oman',\n",
    "    'Pakistan': 'Pakistan',\n",
    "    'Palau': 'Palau',\n",
    "    'Panama': 'Panama',\n",
    "    'Papua Nuova Guinea': 'Papua New Guinea',\n",
    "    'Il Paraguay': 'Paraguay',\n",
    "    'Perù': 'Peru',\n",
    "    'Filippine': 'Philippines',\n",
    "    'Polonia': 'Poland',\n",
    "    'Portogallo': 'Portugal',\n",
    "    'Qatar': 'Qatar',\n",
    "    'Repubblica di Corea': 'South Korea',\n",
    "    'Repubblica di Moldavia': 'Moldova',\n",
    "    'Romania': 'Romania',\n",
    "    'Federazione Russa': 'Russia',\n",
    "    'Ruanda': 'Rwanda',\n",
    "    'Saint Kitts e Nevis': 'Saint Kitts and Nevis',\n",
    "    'Santa Lucia': 'Saint Lucia',\n",
    "    'San Marino': 'San Marino',\n",
    "    'Arabia Saudita': 'Saudi Arabia',\n",
    "    'Senegal': 'Senegal',\n",
    "    'Serbia': 'Serbia',\n",
    "    'Le Seychelles': 'Seychelles',\n",
    "    'Singapore': 'Singapore',\n",
    "    'Slovacchia': 'Slovakia',\n",
    "    'Slovenia': 'Slovenia',\n",
    "    'Isole Salomone': 'Solomon Islands',\n",
    "    'Sudafrica': 'South Africa',\n",
    "    'Spagna': 'Spain',\n",
    "    'Sri Lanka': 'Sri Lanka',\n",
    "    'Stato di Palestina': 'Palestine',\n",
    "    'Sudan': 'Sudan',\n",
    "    'Suriname': 'Suriname',\n",
    "    'Svezia': 'Sweden',\n",
    "    'Svizzera': 'Switzerland',\n",
    "    'Repubblica araba siriana': 'Syria',\n",
    "    'Tagikistan': 'Tajikistan',\n",
    "    'Thailandia': 'Thailand',\n",
    "    'Togo': 'Togo',\n",
    "    'Tunisia': 'Tunisia',\n",
    "    'Turchia': 'Turkey',\n",
    "    'Turkmenistan': 'Turkmenistan',\n",
    "    'Uganda': 'Uganda',\n",
    "    'Ucraina': 'Ukraine',\n",
    "    'Emirati Arabi Uniti': 'United Arab Emirates',\n",
    "    'Regno Unito di Gran Bretagna e Irlanda del Nord': 'United Kingdom',\n",
    "    'Repubblica Unita di Tanzania': 'Tanzania',\n",
    "    \"Stati Uniti d'America\": 'United States',\n",
    "    'Uruguay': 'Uruguay',\n",
    "    'Uzbekistan': 'Uzbekistan',\n",
    "    'Vanuatu': 'Vanuatu',\n",
    "    'Venezuela (Repubblica Bolivariana del)': 'Venezuela',\n",
    "    'Vietnam': 'Vietnam',\n",
    "    'Yemen': 'Yemen',\n",
    "    'Zambia': 'Zambia',\n",
    "    'Zimbabwe': 'Zimbabwe'\n",
    "}\n",
    "\n",
    "# Verifica se ci sono Paesi nel dataset senza corrispondenza\n",
    "# missing_countries = df[~df['Stati parti'].isin(country_mapping.keys())]['Stati parti'].unique()\n",
    "# print(\"Paesi non mappati:\", missing_countries)\n",
    "\n",
    "df['Stati parti'] = df['Stati parti'].map(country_mapping)\n",
    "# Stampa i nomi delle colonne per conferma\n",
    "# print(\"Colonne disponibili nel dataset:\", df.columns)\n",
    "\n",
    "# Usa la colonna 'Stati parti' per contare i siti UNESCO per Paese\n",
    "# Se la colonna 'Proprietà iscritte' è il numero di siti, somma i valori per ogni Paese\n",
    "sites_by_country = df.groupby('Stati parti')['Proprietà iscritte'].sum().reset_index()\n",
    "\n",
    "# Rinomina le colonne per chiarezza\n",
    "sites_by_country.columns = ['Country', 'SiteCount']\n",
    "\n",
    "# Creazione della mappa coropletica\n",
    "fig_map = px.choropleth(\n",
    "    sites_by_country,\n",
    "    locations=\"Country\",  # Nome della colonna per i Paesi\n",
    "    locationmode=\"country names\",  # Modalità: nomi dei Paesi\n",
    "    color=\"SiteCount\",  # Valore da visualizzare\n",
    "    title=\"Numero di siti UNESCO per Paese\",\n",
    "    color_continuous_scale=px.colors.sequential.Plasma,\n",
    "    hover_name=\"Country\",  # Mostra il nome del Paese quando si passa sopra\n",
    "    hover_data=[\"SiteCount\"],  # Mostra anche il conteggio dei siti\n",
    ")\n",
    "\n",
    "fig_map.show()\n",
    "\n",
    "# Creazione del grafico a barre\n",
    "fig_bar = px.bar(\n",
    "    sites_by_country.sort_values(by=\"SiteCount\", ascending=False),\n",
    "    x=\"Country\",\n",
    "    y=\"SiteCount\",\n",
    "    title=\"Numero di siti UNESCO per Paese\",\n",
    "    labels={\"SiteCount\": \"Numero di siti\", \"Country\": \"Paese\"},\n",
    "    text=\"SiteCount\",\n",
    "    color=\"SiteCount\",  # Colorazione in base al numero di siti\n",
    "    color_continuous_scale=px.colors.sequential.Plasma  # Cambia la scala dei colori\n",
    ")\n",
    "\n",
    "# Evidenzia l'Italia in rosso\n",
    "# fig_bar.update_traces(marker_color=sites_by_country['Country'].apply(\n",
    "#     lambda x: 'red' if x == 'Italy' else px.colors.sequential.Plasma[0]\n",
    "# ))\n",
    "\n",
    "# Aggiungi miglioramenti estetici (rotazione delle etichette e miglioramento del layout)\n",
    "fig_bar.update_layout(\n",
    "    xaxis_tickangle=-45,  # Ruota le etichette sull'asse x\n",
    "    xaxis_title=\"Paese\",\n",
    "    yaxis_title=\"Numero di siti\",\n",
    "    title_x=0.5,  # Centra il titolo\n",
    "    title_y=0.95,  # Aggiusta la posizione del titolo\n",
    "    title_font_size=18,\n",
    "    showlegend=False  # Nascondi la legenda\n",
    ")\n",
    "\n",
    "fig_bar.show()"
   ]
  },
  {
   "cell_type": "code",
   "execution_count": 3,
   "metadata": {},
   "outputs": [
    {
     "data": {
      "application/vnd.plotly.v1+json": {
       "config": {
        "plotlyServerURL": "https://plot.ly"
       },
       "data": [
        {
         "hoverinfo": "text",
         "lat": [
          -11.8775768,
          -19.99697155
         ],
         "legendgroup": "0 - 9.999",
         "lon": [
          17.5691241,
          -157.78587140620786
         ],
         "marker": {
          "color": "#d3d3d3",
          "line": {
           "width": 0
          },
          "showscale": false,
          "size": [
           6.319837084543419,
           6.42421668553502
          ]
         },
         "name": "0 - 9.999",
         "showlegend": true,
         "text": [
          "ANGOLA: 3.000 visitatori",
          "COOK ISLANDS: 7.000 visitatori"
         ],
         "type": "scattergeo"
        },
        {
         "hoverinfo": "text",
         "lat": [
          40.3936294,
          27.549511,
          -3.426449,
          12.5433216,
          10.2735633,
          23.0131338,
          34.9174159,
          19.0974031,
          -1.3397668,
          13.8000382,
          10.2116702,
          -18.1239696,
          -17.0243749,
          42.3154,
          15.5855545,
          15.2572432,
          64.9841821,
          33.9861083,
          3.7203503,
          35.8885993,
          -20.2759451,
          28.3780464,
          -21.3019905,
          12.6090157,
          17.7356214,
          8.559559,
          -23.3165935,
          -4.6574977,
          7.5554942,
          38.6281733,
          10.7466905,
          39.3763807,
          -18.4554963
         ],
         "legendgroup": "10.000 - 499.999",
         "lon": [
          47.7872508,
          90.5119273,
          29.9324519,
          104.8144914,
          -84.0739102,
          -80.8328748,
          32.889902651331866,
          -70.3028026,
          -79.3666965,
          -88.9140683,
          38.6521203,
          179.0122737,
          -144.6434898,
          43.3569,
          -90.345759,
          -86.0755145,
          -18.1059013,
          19.165796548863145,
          73.2244152,
          14.4476911,
          57.5703566,
          83.9999901,
          165.4880773,
          -85.2936911,
          9.3238432,
          -81.1308434,
          -58.1693445,
          55.4540146,
          80.7137847,
          70.8156541,
          -61.0840075,
          59.3924609,
          29.7468414
         ],
         "marker": {
          "color": "#b6d7a8",
          "line": {
           "width": 0
          },
          "showscale": false,
          "size": [
           7.676420573732058,
           7.431547709527537,
           6.725400328443796,
           6.745560570483002,
           7.4559636920634444,
           6.922569795502241,
           7.584842179915316,
           7.574645302699169,
           7.442113019504632,
           7.750693425002129,
           7.131980503097005,
           6.922569795502241,
           6.891646793211837,
           7.3367076638886095,
           7.537103616120553,
           7.2089084260597796,
           7.27489064231649,
           7.751878728969513,
           6.704052523107286,
           7.22365266486023,
           7.093827442848896,
           7.09078055396625,
           6.887050594094467,
           7.454246752154652,
           6.4777731429326275,
           7.270401553588513,
           7.658111865067697,
           6.6813251163677645,
           7.753062431173559,
           7.173029601102284,
           7.393281786990325,
           6.6813251163677645,
           6.909574123665023
          ]
         },
         "name": "10.000 - 499.999",
         "showlegend": true,
         "text": [
          "AZERBAIJAN: 432.000 visitatori",
          "BHUTAN: 269.000 visitatori",
          "BURUNDI: 35.000 visitatori",
          "CAMBODIA: 38.000 visitatori",
          "COSTA RICA: 283.000 visitatori",
          "CUBA: 72.000 visitatori",
          "CYPRUS: 365.000 visitatori",
          "DOMINICAN REPUBLIC: 358.000 visitatori",
          "ECUADOR: 275.000 visitatori",
          "EL SALVADOR: 492.000 visitatori",
          "ETHIOPIA: 133.000 visitatori",
          "FIJI: 72.000 visitatori",
          "FRENCH POLYNESIA: 65.000 visitatori",
          "GEORGIA: 219.000 visitatori",
          "GUATEMALA: 333.000 visitatori",
          "HONDURAS: 162.000 visitatori",
          "ICELAND: 190.000 visitatori",
          "LIBYA: 493.000 visitatori",
          "MALDIVES: 32.000 visitatori",
          "MALTA: 168.000 visitatori",
          "MAURITIUS: 120.000 visitatori",
          "NEPAL: 119.000 visitatori",
          "NEW CALEDONIA: 64.000 visitatori",
          "NICARAGUA: 282.000 visitatori",
          "NIGER: 10.000 visitatori",
          "PANAMA: 188.000 visitatori",
          "PARAGUAY: 418.000 visitatori",
          "SEYCHELLES: 29.000 visitatori",
          "SRI LANKA: 494.000 visitatori",
          "TAJIKISTAN: 148.000 visitatori",
          "TRINIDAD AND TOBAGO: 248.000 visitatori",
          "TURKMENISTAN: 29.000 visitatori",
          "ZIMBABWE: 69.000 visitatori"
         ],
         "type": "scattergeo"
        },
        {
         "hoverinfo": "text",
         "lat": [
          28.0000272,
          24.4769288,
          4.099917,
          48.1012954,
          61.1529386,
          -6.8699697,
          -16.5255069
         ],
         "legendgroup": "500.000 - 999.999",
         "lon": [
          2.9999825,
          90.2934413,
          -72.9088133,
          66.7780818,
          8.7876653,
          -75.0458515,
          168.1069154
         ],
         "marker": {
          "color": "#76a5af",
          "line": {
           "width": 0
          },
          "showscale": false,
          "size": [
           8.120275087875905,
           8.149782510751683,
           8.163849099659107,
           7.7867164232030674,
           7.961509569563244,
           7.771788146207228,
           7.772945421615439
          ]
         },
         "name": "500.000 - 999.999",
         "showlegend": true,
         "text": [
          "ALGERIA: 874.000 visitatori",
          "BANGLADESH: 911.000 visitatori",
          "COLOMBIA: 929.000 visitatori",
          "KAZAKHSTAN: 523.000 visitatori",
          "NORWAY: 692.000 visitatori",
          "PERU: 510.000 visitatori",
          "VANUATU: 511.000 visitatori"
         ],
         "type": "scattergeo"
        },
        {
         "hoverinfo": "text",
         "lat": [
          -34.9964963,
          -24.7761086,
          53.4250605,
          -10.3333333,
          42.6073975,
          26.2540493,
          58.7523778,
          63.2467777,
          22.3511148,
          52.865196,
          30.8124247,
          31.1667049,
          0.3448612,
          29.2733964,
          56.8406494,
          55.3500003,
          31.1728205,
          -41.5000831,
          12.7503486,
          18.2247706,
          1.357107,
          39.3260685,
          34.8021,
          9.8762687,
          33.8439408,
          38.9597594
         ],
         "legendgroup": "1.000.000 - 4.999.999",
         "lon": [
          -64.9672817,
          134.755,
          27.6971358,
          -53.2,
          25.4856617,
          29.2675469,
          25.3319078,
          25.9209164,
          78.6677428,
          -7.9794599,
          34.8594762,
          36.941628,
          173.6641773,
          47.4979476,
          24.7537645,
          23.7499997,
          -7.3362482,
          172.8344077,
          122.7312101,
          -66.4858295,
          103.8194992,
          -4.8379791,
          38.9968,
          102.06908954680432,
          9.400138,
          34.9249653
         ],
         "marker": {
          "color": "#6fa8dc",
          "line": {
           "width": 0
          },
          "showscale": false,
          "size": [
           9.64378082086125,
           9.100144697588101,
           9.727017886535325,
           9.459674698551982,
           9.200501672743666,
           9.13011412158098,
           8.564790153232108,
           9.77124349930256,
           9.355426222618856,
           9.100522902385997,
           9.011787384545789,
           8.31730721899985,
           9.701191719130676,
           8.254702804912121,
           8.696610961536502,
           9.149290605398338,
           8.3644090140271,
           8.284345483588782,
           8.849281047251797,
           8.346059202204568,
           9.303281266276707,
           9.58478436117125,
           8.732622640546442,
           8.719905759063154,
           8.49726407125076,
           9.595220884088219
          ]
         },
         "name": "1.000.000 - 4.999.999",
         "showlegend": true,
         "text": [
          "ARGENTINA: 4.436.000 visitatori",
          "AUSTRALIA: 2.732.000 visitatori",
          "BELARUS: 4.747.000 visitatori",
          "BRAZIL: 3.797.000 visitatori",
          "BULGARIA: 3.006.000 visitatori",
          "EGYPT: 2.812.000 visitatori",
          "ESTONIA: 1.547.000 visitatori",
          "FINLAND: 4.918.000 visitatori",
          "INDIA: 3.464.000 visitatori",
          "IRELAND: 2.733.000 visitatori",
          "ISRAEL: 2.505.000 visitatori",
          "JORDAN: 1.141.000 visitatori",
          "KIRIBATI: 4.649.000 visitatori",
          "KUWAIT: 1.051.000 visitatori",
          "LATVIA: 1.798.000 visitatori",
          "LITHUANIA: 2.864.000 visitatori",
          "MOROCCO: 1.212.000 visitatori",
          "NEW ZEALAND: 1.093.000 visitatori",
          "PHILIPPINES: 2.121.000 visitatori",
          "PUERTO RICO: 1.184.000 visitatori",
          "SINGAPORE: 3.305.000 visitatori",
          "SPAIN: 4.224.000 visitatori",
          "SYRIAN ARAB REPUBLIC: 1.871.000 visitatori",
          "THAILAND: 1.845.000 visitatori",
          "TUNISIA: 1.428.000 visitatori",
          "TÜRKIYE: 4.261.000 visitatori"
         ],
         "type": "scattergeo"
        },
        {
         "hoverinfo": "text",
         "lat": [
          50.6402809,
          35.0000663,
          55.670249,
          47.1817585,
          49.6112768,
          52.2434979,
          45.9852129,
          64.6863136,
          59.6749712,
          46.8182,
          24.93836745,
          49.4871968
         ],
         "legendgroup": "5.000.000 - 14.999.999",
         "lon": [
          4.6667145,
          104.999955,
          10.3333283,
          19.5060937,
          6.129799,
          5.6343227,
          24.6859225,
          97.7453061,
          14.5208584,
          8.2275,
          118.58541419241348,
          31.2718321
         ],
         "marker": {
          "color": "#3d85c6",
          "line": {
           "width": 0
          },
          "showscale": false,
          "size": [
           9.948599157498386,
           9.807446815042665,
           9.800915587784457,
           11.086107196524981,
           10.802289923188635,
           11.18844880994963,
           9.972470245227504,
           11.113503487641772,
           10.839051553526268,
           11.08568556780743,
           9.964622230112951,
           10.030590042332005
          ]
         },
         "name": "5.000.000 - 14.999.999",
         "showlegend": true,
         "text": [
          "BELGIUM: 5.645.000 visitatori",
          "CHINA: 5.061.000 visitatori",
          "DENMARK: 5.035.000 visitatori",
          "HUNGARY: 12.064.000 visitatori",
          "LUXEMBOURG: 10.155.000 visitatori",
          "NETHERLANDS: 12.807.000 visitatori",
          "ROMANIA: 5.748.000 visitatori",
          "RUSSIAN FEDERATION: 12.260.000 visitatori",
          "SWEDEN: 10.390.000 visitatori",
          "SWITZERLAND: 12.061.000 visitatori",
          "TAIWAN PROVINCE OF CHINA: 5.714.000 visitatori",
          "UKRAINE: 6.004.000 visitatori"
         ],
         "type": "scattergeo"
        },
        {
         "hoverinfo": "text",
         "lat": [
          46.603354,
          42.6384261,
          36.5748441,
          4.5693754
         ],
         "legendgroup": "15.000.000 - 29.999.999",
         "lon": [
          1.8883335,
          12.674297,
          139.2394179,
          102.2656823
         ],
         "marker": {
          "color": "#ff9900",
          "line": {
           "width": 0
          },
          "showscale": false,
          "size": [
           11.828031879312718,
           11.830385559262849,
           11.667835115235857,
           12.336925384295398
          ]
         },
         "name": "15.000.000 - 29.999.999",
         "showlegend": true,
         "text": [
          "FRANCE: 18.151.000 visitatori",
          "ITALY: 18.173.000 visitatori",
          "JAPAN: 16.695.000 visitatori",
          "MALAYSIA: 23.333.000 visitatori"
         ],
         "type": "scattergeo"
        },
        {
         "hoverinfo": "text",
         "lat": [
          52.215933,
          54.7023545
         ],
         "legendgroup": "30.000.000 - 49.999.999",
         "lon": [
          19.134422,
          -3.2765753
         ],
         "marker": {
          "color": "#cc0000",
          "line": {
           "width": 0
          },
          "showscale": false,
          "size": [
           13.871056012905282,
           13.711586478004508
          ]
         },
         "name": "30.000.000 - 49.999.999",
         "showlegend": true,
         "text": [
          "POLAND: 44.713.000 visitatori",
          "UNITED KINGDOM: 42.050.000 visitatori"
         ],
         "type": "scattergeo"
        },
        {
         "hoverinfo": "text",
         "lat": [
          61.0666922,
          23.6585116,
          39.7837304
         ],
         "legendgroup": "Oltre 50.000.000",
         "lon": [
          -107.991707,
          -102.0077097,
          -100.445882
         ],
         "marker": {
          "color": "#660000",
          "line": {
           "width": 0
          },
          "showscale": false,
          "size": [
           14.503028723405068,
           16.410079257520106,
           15.426441888062605
          ]
         },
         "name": "Oltre 50.000.000",
         "showlegend": true,
         "text": [
          "CANADA: 56.371.000 visitatori",
          "MEXICO: 103.442.000 visitatori",
          "UNITED STATES OF AMERICA: 76.803.000 visitatori"
         ],
         "type": "scattergeo"
        }
       ],
       "frames": [
        {
         "data": [
          {
           "lat": [
            -19.99697155,
            5.3783537,
            8.6400349
           ],
           "lon": [
            -157.78587140620786,
            132.9102573,
            -11.8400269
           ],
           "marker": {
            "size": [
             6.443525297047233,
             6.461284897751121,
             6.42421668553502
            ]
           },
           "text": [
            "COOK ISLANDS: 8.000 visitatori",
            "PALAU: 9.000 visitatori",
            "SIERRA LEONE: 7.000 visitatori"
           ],
           "type": "scattergeo"
          },
          {
           "lat": [
            27.549511,
            -3.426449,
            12.5433216,
            -0.7264327,
            10.2735633,
            23.0131338,
            34.9174159,
            19.0974031,
            -1.3397668,
            -18.1239696,
            -0.8999695,
            42.3154,
            15.5855545,
            15.2572432,
            64.9841821,
            41.5089324,
            3.7203503,
            35.8885993,
            -20.2759451,
            28.3780464,
            -21.3019905,
            12.6090157,
            17.7356214,
            8.559559,
            -5.6816069,
            -23.3165935,
            -4.6574977,
            39.3763807,
            1.5333554,
            41.32373,
            -18.4554963
           ],
           "lon": [
            90.5119273,
            29.9324519,
            104.8144914,
            15.6419155,
            -84.0739102,
            -80.8328748,
            32.889902651331866,
            -70.3028026,
            -79.3666965,
            179.0122737,
            11.6899699,
            43.3569,
            -90.345759,
            -86.0755145,
            -18.1059013,
            74.724091,
            73.2244152,
            14.4476911,
            57.5703566,
            83.9999901,
            165.4880773,
            -85.2936911,
            9.3238432,
            -81.1308434,
            144.2489081,
            -58.1693445,
            55.4540146,
            59.3924609,
            32.2166578,
            63.9528098,
            29.7468414
           ],
           "marker": {
            "size": [
             7.482900901520756,
             6.558806857910686,
             6.764685787912072,
             6.8169805823829215,
             7.532473757906407,
             7.00831838129422,
             7.741152671964258,
             7.568758723256569,
             7.532473757906407,
             6.947516105490755,
             7.303328060705923,
             7.677713111309428,
             7.621613379313036,
             7.301184425158025,
             7.352789900084007,
             6.711311308250299,
             6.738962343289277,
             7.221219949368479,
             7.1596681928637835,
             7.099870811031796,
             6.905158645761124,
             7.663384116334269,
             6.4777731429326275,
             7.320228848048107,
             6.891646793211837,
             7.51366849965539,
             6.696640893495163,
             7.573177785257501,
             7.380047645976589,
             7.391406573705419,
             7.324387076601048
            ]
           },
           "text": [
            "BHUTAN: 299.000 visitatori",
            "BURUNDI: 16.000 visitatori",
            "CAMBODIA: 41.000 visitatori",
            "CONGO: 50.000 visitatori",
            "COSTA RICA: 330.000 visitatori",
            "CUBA: 94.000 visitatori",
            "CYPRUS: 484.000 visitatori",
            "DOMINICAN REPUBLIC: 354.000 visitatori",
            "ECUADOR: 330.000 visitatori",
            "FIJI: 78.000 visitatori",
            "GABON: 203.000 visitatori",
            "GEORGIA: 433.000 visitatori",
            "GUATEMALA: 391.000 visitatori",
            "HONDURAS: 202.000 visitatori",
            "ICELAND: 227.000 visitatori",
            "KYRGYZSTAN: 33.000 visitatori",
            "MALDIVES: 37.000 visitatori",
            "MALTA: 167.000 visitatori",
            "MAURITIUS: 143.000 visitatori",
            "NEPAL: 122.000 visitatori",
            "NEW CALEDONIA: 68.000 visitatori",
            "NICARAGUA: 422.000 visitatori",
            "NIGER: 10.000 visitatori",
            "PANAMA: 211.000 visitatori",
            "PAPUA NEW GUINEA: 65.000 visitatori",
            "PARAGUAY: 318.000 visitatori",
            "SEYCHELLES: 31.000 visitatori",
            "TURKMENISTAN: 357.000 visitatori",
            "UGANDA: 241.000 visitatori",
            "UZBEKISTAN: 247.000 visitatori",
            "ZIMBABWE: 213.000 visitatori"
           ],
           "type": "scattergeo"
          },
          {
           "lat": [
            28.0000272,
            24.4769288,
            13.8000382,
            48.1012954,
            -6.8699697,
            7.5554942,
            -32.8755548,
            -16.5255069
           ],
           "lon": [
            2.9999825,
            90.2934413,
            -88.9140683,
            66.7780818,
            -75.0458515,
            80.7137847,
            -56.0201525,
            168.1069154
           ],
           "marker": {
            "size": [
             8.124310642127199,
             8.211696974356574,
             8.115412054545018,
             7.762475027324699,
             7.8036370931625365,
             7.781004375195451,
             7.924927229109658,
             8.01663676258844
            ]
           },
           "text": [
            "ALGERIA: 879.000 visitatori",
            "BANGLADESH: 992.000 visitatori",
            "EL SALVADOR: 868.000 visitatori",
            "KAZAKHSTAN: 502.000 visitatori",
            "PERU: 538.000 visitatori",
            "SRI LANKA: 518.000 visitatori",
            "URUGUAY: 654.000 visitatori",
            "VANUATU: 752.000 visitatori"
           ],
           "type": "scattergeo"
          },
          {
           "lat": [
            -34.9964963,
            -24.7761086,
            40.3936294,
            -10.3333333,
            42.6073975,
            4.099917,
            55.670249,
            26.2540493,
            58.7523778,
            63.2467777,
            22.3511148,
            52.865196,
            30.8124247,
            31.1667049,
            0.3448612,
            29.2733964,
            56.8406494,
            55.3500003,
            31.1728205,
            -41.5000831,
            12.7503486,
            18.2247706,
            1.357107,
            39.3260685,
            34.8021,
            9.8762687,
            33.8439408,
            38.9597594
           ],
           "lon": [
            -64.9672817,
            134.755,
            47.7872508,
            -53.2,
            25.4856617,
            -72.9088133,
            10.3333283,
            29.2675469,
            25.3319078,
            25.9209164,
            78.6677428,
            -7.9794599,
            34.8594762,
            36.941628,
            173.6641773,
            47.4979476,
            24.7537645,
            23.7499997,
            -7.3362482,
            172.8344077,
            122.7312101,
            -66.4858295,
            103.8194992,
            -4.8379791,
            38.9968,
            102.06908954680432,
            9.400138,
            34.9249653
           ],
           "marker": {
            "size": [
             9.670148522008787,
             9.254592093415758,
             8.320687193479493,
             9.569728032600455,
             9.046258346775993,
             8.284345483588782,
             9.737717268393451,
             9.145620955599085,
             8.625249161510315,
             9.725970750739105,
             9.463921563471413,
             9.311589352743571,
             9.192318030749131,
             8.449124888256724,
             9.222005853615201,
             8.39775105682266,
             8.775753723003332,
             9.28181989488263,
             8.404686478469465,
             8.334109627252646,
             8.706076327945755,
             8.38886571466314,
             9.443808606962461,
             9.739277902089785,
             8.97363369962021,
             8.487902168672214,
             8.553131855221604,
             9.688409604047372
            ]
           },
           "text": [
            "ARGENTINA: 4.533.000 visitatori",
            "AUSTRALIA: 3.161.000 visitatori",
            "AZERBAIJAN: 1.146.000 visitatori",
            "BRAZIL: 4.171.000 visitatori",
            "BULGARIA: 2.592.000 visitatori",
            "COLOMBIA: 1.093.000 visitatori",
            "DENMARK: 4.788.000 visitatori",
            "EGYPT: 2.854.000 visitatori",
            "ESTONIA: 1.659.000 visitatori",
            "FINLAND: 4.743.000 visitatori",
            "INDIA: 3.811.000 visitatori",
            "IRELAND: 3.330.000 visitatori",
            "ISRAEL: 2.983.000 visitatori",
            "JORDAN: 1.347.000 visitatori",
            "KIRIBATI: 3.067.000 visitatori",
            "KUWAIT: 1.264.000 visitatori",
            "LATVIA: 1.961.000 visitatori",
            "LITHUANIA: 3.241.000 visitatori",
            "MOROCCO: 1.275.000 visitatori",
            "NEW ZEALAND: 1.166.000 visitatori",
            "PHILIPPINES: 1.817.000 visitatori",
            "PUERTO RICO: 1.250.000 visitatori",
            "SINGAPORE: 3.745.000 visitatori",
            "SPAIN: 4.794.000 visitatori",
            "SYRIAN ARAB REPUBLIC: 2.411.000 visitatori",
            "THAILAND: 1.412.000 visitatori",
            "TUNISIA: 1.526.000 visitatori",
            "TÜRKIYE: 4.601.000 visitatori"
           ],
           "type": "scattergeo"
          },
          {
           "lat": [
            53.4250605,
            50.6402809,
            35.0000663,
            47.1817585,
            49.6112768,
            52.2434979,
            45.9852129,
            64.6863136,
            59.6749712,
            46.8182,
            24.93836745,
            49.4871968
           ],
           "lon": [
            27.6971358,
            4.6667145,
            104.999955,
            19.5060937,
            6.129799,
            5.6343227,
            24.6859225,
            97.7453061,
            14.5208584,
            8.2275,
            118.58541419241348,
            31.2718321
           ],
           "marker": {
            "size": [
             10.065200501539705,
             10.393464791683032,
             10.512621255513325,
             11.121415917092708,
             10.675381410380139,
             11.28729504520461,
             10.220440927480855,
             10.876791980698371,
             10.994236661430389,
             11.061678142131639,
             10.009896916403669,
             10.392899715819349
            ]
           },
           "text": [
            "BELARUS: 6.160.000 visitatori",
            "BELGIUM: 7.776.000 visitatori",
            "CHINA: 8.426.000 visitatori",
            "HUNGARY: 12.317.000 visitatori",
            "LUXEMBOURG: 9.371.000 visitatori",
            "NETHERLANDS: 13.553.000 visitatori",
            "ROMANIA: 6.893.000 visitatori",
            "RUSSIAN FEDERATION: 10.635.000 visitatori",
            "SWEDEN: 11.422.000 visitatori",
            "SWITZERLAND: 11.891.000 visitatori",
            "TAIWAN PROVINCE OF CHINA: 5.912.000 visitatori",
            "UKRAINE: 7.773.000 visitatori"
           ],
           "type": "scattergeo"
          },
          {
           "lat": [
            46.603354,
            36.5748441,
            4.5693754
           ],
           "lon": [
            1.8883335,
            139.2394179,
            102.2656823
           ],
           "marker": {
            "size": [
             11.820100970471731,
             11.565391567214176,
             12.53848176135823
            ]
           },
           "text": [
            "FRANCE: 18.077.000 visitatori",
            "JAPAN: 15.806.000 visitatori",
            "MALAYSIA: 25.631.000 visitatori"
           ],
           "type": "scattergeo"
          },
          {
           "lat": [
            61.0666922,
            22.2793278,
            42.6384261,
            52.215933
           ],
           "lon": [
            -107.991707,
            114.1628131,
            12.674297,
            19.134422
           ],
           "marker": {
            "size": [
             14.002176819348621,
             14.036602137094839,
             13.734807128921961,
             14.13303988706967
            ]
           },
           "text": [
            "CANADA: 46.985.000 visitatori",
            "HONG KONG: 47.594.000 visitatori",
            "ITALY: 42.431.000 visitatori",
            "POLAND: 49.328.000 visitatori"
           ],
           "type": "scattergeo"
          },
          {
           "lat": [
            51.1638175,
            23.6585116,
            54.7023545,
            39.7837304
           ],
           "lon": [
            10.4478313,
            -102.0077097,
            -3.2765753,
            -100.445882
           ],
           "marker": {
            "size": [
             15.104520915109358,
             16.558407873532317,
             14.217026175401244,
             15.664032800202623
            ]
           },
           "text": [
            "GERMANY: 69.200.000 visitatori",
            "MEXICO: 107.927.000 visitatori",
            "UNITED KINGDOM: 50.872.000 visitatori",
            "UNITED STATES OF AMERICA: 82.758.000 visitatori"
           ],
           "type": "scattergeo"
          }
         ],
         "name": "1998",
         "traces": [
          0,
          1,
          2,
          3,
          4,
          5,
          6,
          7
         ]
        },
        {
         "data": [
          {
           "lat": [
            -19.99697155
           ],
           "lon": [
            -157.78587140620786
           ],
           "marker": {
            "size": [
             6.461284897751121
            ]
           },
           "text": [
            "COOK ISLANDS: 9.000 visitatori"
           ],
           "type": "scattergeo"
          },
          {
           "lat": [
            40.7696272,
            27.549511,
            -3.426449,
            12.5433216,
            15.4542,
            10.2735633,
            23.0131338,
            19.0974031,
            -18.1239696,
            -0.8999695,
            42.3154,
            15.5855545,
            15.2572432,
            64.9841821,
            41.5089324,
            3.7203503,
            35.8885993,
            -20.2759451,
            28.3780464,
            -21.3019905,
            12.6090157,
            8.559559,
            -5.6816069,
            -23.3165935,
            -13.7693895,
            -4.6574977,
            8.6400349,
            39.3763807,
            1.5333554,
            41.32373
           ],
           "lon": [
            44.6736646,
            90.5119273,
            29.9324519,
            104.8144914,
            18.7322,
            -84.0739102,
            -80.8328748,
            -70.3028026,
            179.0122737,
            11.6899699,
            43.3569,
            -90.345759,
            -86.0755145,
            -18.1059013,
            74.724091,
            73.2244152,
            14.4476911,
            57.5703566,
            83.9999901,
            165.4880773,
            -85.2936911,
            -81.1308434,
            144.2489081,
            -58.1693445,
            -172.12005,
            55.4540146,
            -11.8400269,
            59.3924609,
            32.2166578,
            63.9528098
           ],
           "marker": {
            "size": [
             7.065768122082315,
             7.299033703179409,
             6.673402012880754,
             6.764685787912072,
             6.66528794557085,
             7.6076693237716455,
             7.148753021027327,
             7.577572159439271,
             6.967344345149016,
             7.22365266486023,
             7.508893488432478,
             7.7459360824609895,
             7.4403628806255835,
             7.4559636920634444,
             6.800302829592659,
             6.77085287510868,
             7.296875835912241,
             7.211390791194801,
             7.191239171348091,
             6.909574123665023,
             7.743547658025722,
             7.3305758911417005,
             6.827731559779742,
             7.240417113350267,
             6.872968041230495,
             6.732244131947172,
             6.521438207914406,
             6.947516105490755,
             7.186093365636123,
             7.332626088361315
            ]
           },
           "text": [
            "ARMENIA: 111.000 visitatori",
            "BHUTAN: 201.000 visitatori",
            "BURUNDI: 28.000 visitatori",
            "CAMBODIA: 41.000 visitatori",
            "CHAD: 27.000 visitatori",
            "COSTA RICA: 381.000 visitatori",
            "CUBA: 139.000 visitatori",
            "DOMINICAN REPUBLIC: 360.000 visitatori",
            "FIJI: 83.000 visitatori",
            "GABON: 168.000 visitatori",
            "GEORGIA: 315.000 visitatori",
            "GUATEMALA: 488.000 visitatori",
            "HONDURAS: 274.000 visitatori",
            "ICELAND: 283.000 visitatori",
            "KYRGYZSTAN: 47.000 visitatori",
            "MALDIVES: 42.000 visitatori",
            "MALTA: 200.000 visitatori",
            "MAURITIUS: 163.000 visitatori",
            "NEPAL: 155.000 visitatori",
            "NEW CALEDONIA: 69.000 visitatori",
            "NICARAGUA: 486.000 visitatori",
            "PANAMA: 216.000 visitatori",
            "PAPUA NEW GUINEA: 52.000 visitatori",
            "PARAGUAY: 175.000 visitatori",
            "SAMOA: 61.000 visitatori",
            "SEYCHELLES: 36.000 visitatori",
            "SIERRA LEONE: 13.000 visitatori",
            "TURKMENISTAN: 78.000 visitatori",
            "UGANDA: 153.000 visitatori",
            "UZBEKISTAN: 217.000 visitatori"
           ],
           "type": "scattergeo"
          },
          {
           "lat": [
            34.9174159,
            -1.3397668,
            13.8000382,
            -6.8699697,
            7.5554942,
            -32.8755548,
            -16.5255069
           ],
           "lon": [
            32.889902651331866,
            -79.3666965,
            -88.9140683,
            -75.0458515,
            80.7137847,
            -56.0201525,
            168.1069154
           ],
           "marker": {
            "size": [
             7.857865093760421,
             7.783293586423675,
             8.159180586559218,
             7.996776023236585,
             7.787854459449113,
             7.937598000981811,
             8.183087743215845
            ]
           },
           "text": [
            "CYPRUS: 588.000 visitatori",
            "ECUADOR: 520.000 visitatori",
            "EL SALVADOR: 923.000 visitatori",
            "PERU: 730.000 visitatori",
            "SRI LANKA: 524.000 visitatori",
            "URUGUAY: 667.000 visitatori",
            "VANUATU: 954.000 visitatori"
           ],
           "type": "scattergeo"
          },
          {
           "lat": [
            28.0000272,
            -24.7761086,
            40.3936294,
            24.4769288,
            -10.3333333,
            42.6073975,
            -31.7613365,
            4.099917,
            26.2540493,
            58.7523778,
            22.3511148,
            -2.4833826,
            52.865196,
            30.8124247,
            31.1667049,
            48.1012954,
            29.2733964,
            56.8406494,
            55.3500003,
            31.1728205,
            -41.5000831,
            61.1529386,
            12.7503486,
            18.2247706,
            1.357107,
            46.1199444,
            39.3260685,
            34.8021,
            9.8762687,
            33.8439408
           ],
           "lon": [
            2.9999825,
            134.755,
            47.7872508,
            90.2934413,
            -53.2,
            25.4856617,
            -71.3187697,
            -72.9088133,
            29.2675469,
            25.3319078,
            78.6677428,
            117.8902853,
            -7.9794599,
            34.8594762,
            36.941628,
            66.7780818,
            47.4979476,
            24.7537645,
            23.7499997,
            -7.3362482,
            172.8344077,
            8.7876653,
            122.7312101,
            -66.4858295,
            103.8194992,
            14.8153333,
            -4.8379791,
            38.9968,
            102.06908954680432,
            9.400138
           ],
           "marker": {
            "size": [
             8.222052897151297,
             9.366368606955513,
             8.436330718900564,
             8.30847282419163,
             9.277426103981545,
             8.942894119850902,
             8.55424676010358,
             8.379271773084103,
             9.18552584420585,
             8.69761044678797,
             9.638296494660093,
             8.886409405504697,
             9.455417381622578,
             9.376602737504264,
             8.607191039572033,
             8.386953091175585,
             8.379913778450685,
             9.047824546716079,
             9.408816942402046,
             8.54305359826249,
             8.409705405585916,
             8.966628161903735,
             8.631038623078432,
             8.394585287288479,
             9.64596993572901,
             8.777639746157426,
             9.54935701439506,
             9.479605183623324,
             8.750998641315423,
             8.610929335818033
            ]
           },
           "text": [
            "ALGERIA: 1.006.000 visitatori",
            "AUSTRALIA: 3.498.000 visitatori",
            "AZERBAIJAN: 1.326.000 visitatori",
            "BANGLADESH: 1.128.000 visitatori",
            "BRAZIL: 3.228.000 visitatori",
            "BULGARIA: 2.337.000 visitatori",
            "CHILE: 1.528.000 visitatori",
            "COLOMBIA: 1.235.000 visitatori",
            "EGYPT: 2.964.000 visitatori",
            "ESTONIA: 1.800.000 visitatori",
            "INDIA: 4.416.000 visitatori",
            "INDONESIA: 2.205.000 visitatori",
            "IRELAND: 3.783.000 visitatori",
            "ISRAEL: 3.530.000 visitatori",
            "JORDAN: 1.625.000 visitatori",
            "KAZAKHSTAN: 1.247.000 visitatori",
            "KUWAIT: 1.236.000 visitatori",
            "LATVIA: 2.596.000 visitatori",
            "LITHUANIA: 3.632.000 visitatori",
            "MOROCCO: 1.508.000 visitatori",
            "NEW ZEALAND: 1.283.000 visitatori",
            "NORWAY: 2.394.000 visitatori",
            "PHILIPPINES: 1.670.000 visitatori",
            "PUERTO RICO: 1.259.000 visitatori",
            "SINGAPORE: 4.444.000 visitatori",
            "SLOVENIA: 1.965.000 visitatori",
            "SPAIN: 4.100.000 visitatori",
            "SYRIAN ARAB REPUBLIC: 3.863.000 visitatori",
            "THAILAND: 1.909.000 visitatori",
            "TUNISIA: 1.632.000 visitatori"
           ],
           "type": "scattergeo"
          },
          {
           "lat": [
            -34.9964963,
            47.59397,
            53.4250605,
            50.6402809,
            35.0000663,
            55.670249,
            63.2467777,
            47.1817585,
            0.3448612,
            49.6112768,
            52.2434979,
            45.9852129,
            59.6749712,
            46.8182,
            24.93836745,
            38.9597594,
            49.4871968
           ],
           "lon": [
            -64.9672817,
            14.12456,
            27.6971358,
            4.6667145,
            104.999955,
            10.3333283,
            25.9209164,
            19.5060937,
            173.6641773,
            6.129799,
            5.6343227,
            24.6859225,
            14.5208584,
            8.2275,
            118.58541419241348,
            34.9249653,
            31.2718321
           ],
           "marker": {
            "size": [
             9.896622320773712,
             10.346252330581631,
             10.226758352108396,
             10.422650646069561,
             10.851902901075857,
             9.794866776150773,
             10.010349041440358,
             10.941652540564931,
             9.916394003727051,
             11.418598652320629,
             11.331527679320553,
             10.114749194808532,
             10.801028527740861,
             11.110721385086267,
             10.307612616902365,
             9.862566795316962,
             11.270204626648976
            ]
           },
           "text": [
            "ARGENTINA: 5.425.000 visitatori",
            "AUSTRIA: 7.528.000 visitatori",
            "BELARUS: 6.924.000 visitatori",
            "BELGIUM: 7.932.000 visitatori",
            "CHINA: 10.473.000 visitatori",
            "DENMARK: 5.011.000 visitatori",
            "FINLAND: 5.914.000 visitatori",
            "HUNGARY: 11.065.000 visitatori",
            "KIRIBATI: 5.508.000 visitatori",
            "LUXEMBOURG: 14.588.000 visitatori",
            "NETHERLANDS: 13.896.000 visitatori",
            "ROMANIA: 6.388.000 visitatori",
            "SWEDEN: 10.147.000 visitatori",
            "SWITZERLAND: 12.240.000 visitatori",
            "TAIWAN PROVINCE OF CHINA: 7.329.000 visitatori",
            "TÜRKIYE: 5.284.000 visitatori",
            "UKRAINE: 13.422.000 visitatori"
           ],
           "type": "scattergeo"
          },
          {
           "lat": [
            46.603354,
            36.5748441,
            64.6863136
           ],
           "lon": [
            1.8883335,
            139.2394179,
            97.7453061
           ],
           "marker": {
            "size": [
             12.008105426491525,
             11.79227948602568,
             11.851483689648209
            ]
           },
           "text": [
            "FRANCE: 19.886.000 visitatori",
            "JAPAN: 17.819.000 visitatori",
            "RUSSIAN FEDERATION: 18.371.000 visitatori"
           ],
           "type": "scattergeo"
          },
          {
           "lat": [
            61.0666922,
            42.6384261,
            4.5693754
           ],
           "lon": [
            -107.991707,
            12.674297,
            102.2656823
           ],
           "marker": {
            "size": [
             14.013345140584597,
             13.866065188756222,
             12.931174258041285
            ]
           },
           "text": [
            "CANADA: 47.182.000 visitatori",
            "ITALY: 44.628.000 visitatori",
            "MALAYSIA: 30.532.000 visitatori"
           ],
           "type": "scattergeo"
          },
          {
           "lat": [
            51.1638175,
            22.2793278,
            23.6585116,
            52.215933,
            54.7023545,
            39.7837304
           ],
           "lon": [
            10.4478313,
            114.1628131,
            -102.0077097,
            19.134422,
            -3.2765753,
            -100.445882
           ],
           "marker": {
            "size": [
             15.575606280702015,
             14.628380509753775,
             17.154791905510088,
             14.518386696495774,
             14.52639500876923,
             15.862905390360261
            ]
           },
           "text": [
            "GERMANY: 80.507.000 visitatori",
            "HONG KONG: 58.901.000 visitatori",
            "MEXICO: 127.268.000 visitatori",
            "POLAND: 56.677.000 visitatori",
            "UNITED KINGDOM: 56.837.000 visitatori",
            "UNITED STATES OF AMERICA: 87.973.000 visitatori"
           ],
           "type": "scattergeo"
          }
         ],
         "name": "2000",
         "traces": [
          0,
          1,
          2,
          3,
          4,
          5,
          6,
          7
         ]
        },
        {
         "data": [
          {
           "lat": [
            7.0323598,
            -19.99697155
           ],
           "lon": [
            19.9981227,
            -157.78587140620786
           ],
           "marker": {
            "size": [
             6.379208794846703,
             6.461284897751121
            ]
           },
           "text": [
            "CENTRAL AFRICAN REPUBLIC: 5.000 visitatori",
            "COOK ISLANDS: 9.000 visitatori"
           ],
           "type": "scattergeo"
          },
          {
           "lat": [
            40.7696272,
            32.3040273,
            27.549511,
            12.5433216,
            15.4542,
            10.2735633,
            23.0131338,
            19.0974031,
            -18.1239696,
            -0.8999695,
            42.3154,
            15.2572432,
            41.5089324,
            3.7203503,
            35.8885993,
            -20.2759451,
            28.3780464,
            -21.3019905,
            8.559559,
            -5.6816069,
            -23.3165935,
            -13.7693895,
            -4.6574977,
            8.6400349,
            39.3763807,
            1.5333554,
            41.32373
           ],
           "lon": [
            44.6736646,
            -64.7563086,
            90.5119273,
            104.8144914,
            18.7322,
            -84.0739102,
            -80.8328748,
            -70.3028026,
            179.0122737,
            11.6899699,
            43.3569,
            -86.0755145,
            74.724091,
            73.2244152,
            14.4476911,
            57.5703566,
            83.9999901,
            165.4880773,
            -81.1308434,
            144.2489081,
            -58.1693445,
            -172.12005,
            55.4540146,
            -11.8400269,
            59.3924609,
            32.2166578,
            63.9528098
           ],
           "marker": {
            "size": [
             7.126277733804179,
             7.165049560855579,
             7.332626088361315,
             6.788786079719635,
             6.630663473500742,
             7.583393511667495,
             7.065768122082315,
             7.535563431105038,
             7.025888428678794,
             7.3367076638886095,
             7.512080178971925,
             7.449071453035712,
             6.863321195877002,
             6.776922832703862,
             7.196340900283179,
             7.2089084260597796,
             7.374297380758069,
             6.922569795502241,
             7.296875835912241,
             7.0011158612729965,
             7.154236412095815,
             6.833003877467596,
             6.833003877467596,
             6.66528794557085,
             6.951548137489539,
             7.261326947001485,
             7.422622616500598
            ]
           },
           "text": [
            "ARMENIA: 131.000 visitatori",
            "BERMUDA: 145.000 visitatori",
            "BHUTAN: 217.000 visitatori",
            "CAMBODIA: 45.000 visitatori",
            "CHAD: 23.000 visitatori",
            "COSTA RICA: 364.000 visitatori",
            "CUBA: 111.000 visitatori",
            "DOMINICAN REPUBLIC: 332.000 visitatori",
            "FIJI: 99.000 visitatori",
            "GABON: 219.000 visitatori",
            "GEORGIA: 317.000 visitatori",
            "HONDURAS: 279.000 visitatori",
            "KYRGYZSTAN: 59.000 visitatori",
            "MALDIVES: 43.000 visitatori",
            "MALTA: 157.000 visitatori",
            "MAURITIUS: 162.000 visitatori",
            "NEPAL: 238.000 visitatori",
            "NEW CALEDONIA: 72.000 visitatori",
            "PANAMA: 200.000 visitatori",
            "PAPUA NEW GUINEA: 92.000 visitatori",
            "PARAGUAY: 141.000 visitatori",
            "SAMOA: 53.000 visitatori",
            "SEYCHELLES: 53.000 visitatori",
            "SIERRA LEONE: 27.000 visitatori",
            "TURKMENISTAN: 79.000 visitatori",
            "UGANDA: 184.000 visitatori",
            "UZBEKISTAN: 264.000 visitatori"
           ],
           "type": "scattergeo"
          },
          {
           "lat": [
            34.9174159,
            -1.3397668,
            15.5855545,
            12.6090157,
            7.5554942,
            -32.8755548,
            -16.5255069
           ],
           "lon": [
            32.889902651331866,
            -79.3666965,
            -90.345759,
            -85.2936911,
            80.7137847,
            -56.0201525,
            168.1069154
           ],
           "marker": {
            "size": [
             8.009460058603935,
             7.898064267689661,
             7.900080269489389,
             7.796907041423679,
             7.798032218324732,
             7.794652450547257,
             8.125920578811723
            ]
           },
           "text": [
            "CYPRUS: 744.000 visitatori",
            "ECUADOR: 627.000 visitatori",
            "GUATEMALA: 629.000 visitatori",
            "NICARAGUA: 532.000 visitatori",
            "SRI LANKA: 533.000 visitatori",
            "URUGUAY: 530.000 visitatori",
            "VANUATU: 881.000 visitatori"
           ],
           "type": "scattergeo"
          },
          {
           "lat": [
            41.000028,
            28.0000272,
            -24.7761086,
            40.3936294,
            24.4769288,
            -10.3333333,
            42.6073975,
            -31.7613365,
            4.099917,
            55.670249,
            26.2540493,
            13.8000382,
            58.7523778,
            22.3511148,
            -2.4833826,
            52.865196,
            30.8124247,
            31.1667049,
            48.1012954,
            29.2733964,
            56.8406494,
            55.3500003,
            31.1728205,
            -41.5000831,
            61.1529386,
            -6.8699697,
            12.7503486,
            18.2247706,
            1.357107,
            46.1199444,
            39.3260685,
            34.8021,
            9.8762687,
            33.8439408
           ],
           "lon": [
            19.9999619,
            2.9999825,
            134.755,
            47.7872508,
            90.2934413,
            -53.2,
            25.4856617,
            -71.3187697,
            -72.9088133,
            10.3333283,
            29.2675469,
            -88.9140683,
            25.3319078,
            78.6677428,
            117.8902853,
            -7.9794599,
            34.8594762,
            36.941628,
            66.7780818,
            47.4979476,
            24.7537645,
            23.7499997,
            -7.3362482,
            172.8344077,
            8.7876653,
            -75.0458515,
            122.7312101,
            -66.4858295,
            103.8194992,
            14.8153333,
            -4.8379791,
            38.9968,
            102.06908954680432,
            9.400138
           ],
           "marker": {
            "size": [
             8.422162103563727,
             8.393316632594175,
             9.354457286318198,
             8.31730721899985,
             8.328759213927645,
             8.943313813826906,
             9.263832309826695,
             8.506556302242858,
             8.405943174009675,
             9.775583841599575,
             9.311589352743571,
             8.218365447798437,
             8.721869945164869,
             9.776858515511947,
             9.278441101291396,
             9.6972067981779,
             9.292585552371197,
             8.405314990384774,
             8.916208377330165,
             8.65961087181595,
             8.929823787462148,
             9.393733484280158,
             8.557029772503356,
             8.415949811336823,
             9.060684718217413,
             8.377343675178787,
             8.779523211556508,
             8.374123211096498,
             9.633621783109561,
             8.85196525142726,
             9.482005532877192,
             9.301281095478078,
             8.905912763376204,
             8.765334484545463
            ]
           },
           "text": [
            "ALBANIA: 1.303.000 visitatori",
            "ALGERIA: 1.257.000 visitatori",
            "AUSTRALIA: 3.461.000 visitatori",
            "AZERBAIJAN: 1.141.000 visitatori",
            "BANGLADESH: 1.158.000 visitatori",
            "BRAZIL: 2.338.000 visitatori",
            "BULGARIA: 3.188.000 visitatori",
            "CHILE: 1.444.000 visitatori",
            "COLOMBIA: 1.277.000 visitatori",
            "DENMARK: 4.935.000 visitatori",
            "EGYPT: 3.330.000 visitatori",
            "EL SALVADOR: 1.001.000 visitatori",
            "ESTONIA: 1.849.000 visitatori",
            "INDIA: 4.940.000 visitatori",
            "INDONESIA: 3.231.000 visitatori",
            "IRELAND: 4.634.000 visitatori",
            "ISRAEL: 3.273.000 visitatori",
            "JORDAN: 1.276.000 visitatori",
            "KAZAKHSTAN: 2.274.000 visitatori",
            "KUWAIT: 1.725.000 visitatori",
            "LATVIA: 2.306.000 visitatori",
            "LITHUANIA: 3.584.000 visitatori",
            "MOROCCO: 1.533.000 visitatori",
            "NEW ZEALAND: 1.293.000 visitatori",
            "NORWAY: 2.629.000 visitatori",
            "PERU: 1.232.000 visitatori",
            "PHILIPPINES: 1.969.000 visitatori",
            "PUERTO RICO: 1.227.000 visitatori",
            "SINGAPORE: 4.399.000 visitatori",
            "SLOVENIA: 2.127.000 visitatori",
            "SPAIN: 3.871.000 visitatori",
            "SYRIAN ARAB REPUBLIC: 3.299.000 visitatori",
            "THAILAND: 2.250.000 visitatori",
            "TUNISIA: 1.939.000 visitatori"
           ],
           "type": "scattergeo"
          },
          {
           "lat": [
            -34.9964963,
            47.59397,
            53.4250605,
            50.6402809,
            63.2467777,
            47.1817585,
            0.3448612,
            45.9852129,
            25.6242618,
            59.6749712,
            46.8182,
            24.93836745,
            38.9597594,
            49.4871968
           ],
           "lon": [
            -64.9672817,
            14.12456,
            27.6971358,
            4.6667145,
            25.9209164,
            19.5060937,
            173.6641773,
            24.6859225,
            42.3528328,
            14.5208584,
            8.2275,
            118.58541419241348,
            34.9249653,
            31.2718321
           ],
           "marker": {
            "size": [
             10.048191095483066,
             10.483875376246683,
             10.203638489251437,
             10.195806244454786,
             9.997423314495085,
             11.209832238752014,
             10.266869704592036,
             9.974542478386445,
             10.415949649978813,
             11.199364232326314,
             10.99496530032804,
             10.305652561748513,
             9.824920427497693,
             11.436000489351423
            ]
           },
           "text": [
            "ARGENTINA: 6.083.000 visitatori",
            "AUSTRIA: 8.266.000 visitatori",
            "BELARUS: 6.811.000 visitatori",
            "BELGIUM: 6.773.000 visitatori",
            "FINLAND: 5.857.000 visitatori",
            "HUNGARY: 12.966.000 visitatori",
            "KIRIBATI: 7.123.000 visitatori",
            "ROMANIA: 5.757.000 visitatori",
            "SAUDI ARABIA: 7.896.000 visitatori",
            "SWEDEN: 12.888.000 visitatori",
            "SWITZERLAND: 11.427.000 visitatori",
            "TAIWAN PROVINCE OF CHINA: 7.319.000 visitatori",
            "TÜRKIYE: 5.131.000 visitatori",
            "UKRAINE: 14.729.000 visitatori"
           ],
           "type": "scattergeo"
          },
          {
           "lat": [
            35.0000663,
            46.603354,
            36.5748441,
            49.6112768,
            4.5693754,
            52.2434979,
            64.6863136
           ],
           "lon": [
            104.999955,
            1.8883335,
            139.2394179,
            6.129799,
            102.2656823,
            5.6343227,
            97.7453061
           ],
           "marker": {
            "size": [
             11.657291230554968,
             11.84553197937089,
             11.648303623021688,
             12.067340717547252,
             12.88040632924972,
             11.670549758584633,
             12.06220124617992
            ]
           },
           "text": [
            "CHINA: 16.602.000 visitatori",
            "FRANCE: 18.315.000 visitatori",
            "JAPAN: 16.523.000 visitatori",
            "LUXEMBOURG: 20.480.000 visitatori",
            "MALAYSIA: 29.866.000 visitatori",
            "NETHERLANDS: 16.719.000 visitatori",
            "RUSSIAN FEDERATION: 20.428.000 visitatori"
           ],
           "type": "scattergeo"
          },
          {
           "lat": [
            61.0666922,
            42.6384261,
            52.215933
           ],
           "lon": [
            -107.991707,
            12.674297,
            19.134422
           ],
           "marker": {
            "size": [
             13.535771305391462,
             13.867944830439225,
             13.890372427100917
            ]
           },
           "text": [
            "CANADA: 39.239.000 visitatori",
            "ITALY: 44.660.000 visitatori",
            "POLAND: 45.043.000 visitatori"
           ],
           "type": "scattergeo"
          },
          {
           "lat": [
            51.1638175,
            22.2793278,
            23.6585116,
            54.7023545,
            39.7837304
           ],
           "lon": [
            10.4478313,
            114.1628131,
            -102.0077097,
            -3.2765753,
            -100.445882
           ],
           "marker": {
            "size": [
             15.571084376704501,
             14.895384398885056,
             17.077270203138124,
             14.65156118499446,
             15.590490441135525
            ]
           },
           "text": [
            "GERMANY: 80.393.000 visitatori",
            "HONG KONG: 64.540.000 visitatori",
            "MEXICO: 124.633.000 visitatori",
            "UNITED KINGDOM: 59.377.000 visitatori",
            "UNITED STATES OF AMERICA: 80.883.000 visitatori"
           ],
           "type": "scattergeo"
          }
         ],
         "name": "2002",
         "traces": [
          0,
          1,
          2,
          3,
          4,
          5,
          6,
          7
         ]
        },
        {
         "data": [
          {
           "lat": [
            7.0323598
           ],
           "lon": [
            19.9981227
           ],
           "marker": {
            "size": [
             6.42421668553502
            ]
           },
           "text": [
            "CENTRAL AFRICAN REPUBLIC: 7.000 visitatori"
           ],
           "type": "scattergeo"
          },
          {
           "lat": [
            40.7696272,
            32.3040273,
            27.549511,
            12.5433216,
            -19.99697155,
            10.2735633,
            23.0131338,
            19.0974031,
            -18.1239696,
            42.3154,
            15.2572432,
            41.5089324,
            3.7203503,
            35.8885993,
            -20.2759451,
            28.3780464,
            -21.3019905,
            8.559559,
            -23.3165935,
            -13.7693895,
            -4.6574977,
            8.6400349,
            39.3763807,
            1.5333554,
            41.32373,
            -18.4554963
           ],
           "lon": [
            44.6736646,
            -64.7563086,
            90.5119273,
            104.8144914,
            -157.78587140620786,
            -84.0739102,
            -80.8328748,
            -70.3028026,
            179.0122737,
            43.3569,
            -86.0755145,
            74.724091,
            73.2244152,
            14.4476911,
            57.5703566,
            83.9999901,
            165.4880773,
            -81.1308434,
            -58.1693445,
            -172.12005,
            55.4540146,
            -11.8400269,
            59.3924609,
            32.2166578,
            63.9528098,
            29.7468414
           ],
           "marker": {
            "size": [
             7.340764464676135,
             7.193795486422213,
             7.556851177085191,
             7.376219477501667,
             6.507709724462665,
             7.6673164811253285,
             7.105848487178287,
             7.589172371326805,
             7.00831838129422,
             7.719294888433152,
             7.476258479205834,
             7.376219477501667,
             6.872968041230495,
             7.303328060705923,
             7.252119852724822,
             7.461090367082628,
             6.990113697379655,
             7.408105046214573,
             7.228489286933591,
             6.838210286866029,
             6.80593895070652,
             6.673402012880754,
             6.704052523107286,
             7.36068958221062,
             7.705658954753929,
             7.757781329929998
            ]
           },
           "text": [
            "ARMENIA: 221.000 visitatori",
            "BERMUDA: 156.000 visitatori",
            "BHUTAN: 346.000 visitatori",
            "CAMBODIA: 239.000 visitatori",
            "COOK ISLANDS: 12.000 visitatori",
            "COSTA RICA: 425.000 visitatori",
            "CUBA: 124.000 visitatori",
            "DOMINICAN REPUBLIC: 368.000 visitatori",
            "FIJI: 94.000 visitatori",
            "GEORGIA: 466.000 visitatori",
            "HONDURAS: 295.000 visitatori",
            "KYRGYZSTAN: 239.000 visitatori",
            "MALDIVES: 61.000 visitatori",
            "MALTA: 203.000 visitatori",
            "MAURITIUS: 180.000 visitatori",
            "NEPAL: 286.000 visitatori",
            "NEW CALEDONIA: 89.000 visitatori",
            "PANAMA: 256.000 visitatori",
            "PARAGUAY: 170.000 visitatori",
            "SAMOA: 54.000 visitatori",
            "SEYCHELLES: 48.000 visitatori",
            "SIERRA LEONE: 28.000 visitatori",
            "TURKMENISTAN: 32.000 visitatori",
            "UGANDA: 231.000 visitatori",
            "UZBEKISTAN: 455.000 visitatori",
            "ZIMBABWE: 498.000 visitatori"
           ],
           "type": "scattergeo"
          },
          {
           "lat": [
            34.9174159,
            -1.3397668,
            15.5855545,
            12.6090157,
            7.5554942,
            -32.8755548,
            -16.5255069
           ],
           "lon": [
            32.889902651331866,
            -79.3666965,
            -90.345759,
            -85.2936911,
            80.7137847,
            -56.0201525,
            168.1069154
           ],
           "marker": {
            "size": [
             8.108075306402664,
             7.873530800225343,
             8.10397717144388,
             7.969976622295494,
             7.950105186410047,
             7.8376345823566735,
             8.07229598714609
            ]
           },
           "text": [
            "CYPRUS: 859.000 visitatori",
            "ECUADOR: 603.000 visitatori",
            "GUATEMALA: 854.000 visitatori",
            "NICARAGUA: 701.000 visitatori",
            "SRI LANKA: 680.000 visitatori",
            "URUGUAY: 569.000 visitatori",
            "VANUATU: 816.000 visitatori"
           ],
           "type": "scattergeo"
          },
          {
           "lat": [
            41.000028,
            28.0000272,
            -24.7761086,
            40.3936294,
            24.4769288,
            -10.3333333,
            42.6073975,
            -31.7613365,
            4.099917,
            55.670249,
            13.8000382,
            -2.4833826,
            30.8124247,
            31.1667049,
            48.1012954,
            29.2733964,
            56.8406494,
            31.1728205,
            -41.5000831,
            61.1529386,
            -6.8699697,
            12.7503486,
            18.2247706,
            25.6242618,
            46.1199444,
            34.8021,
            9.8762687,
            33.8439408
           ],
           "lon": [
            19.9999619,
            2.9999825,
            134.755,
            47.7872508,
            90.2934413,
            -53.2,
            25.4856617,
            -71.3187697,
            -72.9088133,
            10.3333283,
            -88.9140683,
            117.8902853,
            34.8594762,
            36.941628,
            66.7780818,
            47.4979476,
            24.7537645,
            -7.3362482,
            172.8344077,
            8.7876653,
            -75.0458515,
            122.7312101,
            -66.4858295,
            42.3528328,
            14.8153333,
            38.9968,
            102.06908954680432,
            9.400138
           ],
           "marker": {
            "size": [
             8.643582501019255,
             8.490835326503756,
             9.625342825778043,
             8.523225017838195,
             8.574699292807715,
             9.18695818515615,
             9.485300619225923,
             8.660638343763562,
             8.483784091817885,
             9.696142700609219,
             8.274550313719402,
             9.502868855958758,
             9.403176308364547,
             8.49259191053201,
             9.495148682566736,
             8.760095291953178,
             8.992426223425262,
             8.595371754489209,
             8.663716007980751,
             9.184092214019335,
             8.612528190679237,
             8.75627244039601,
             8.457580626960103,
             9.58761103349936,
             9.125655263519674,
             9.60867051463141,
             9.091420397449584,
             8.932362630836082
            ]
           },
           "text": [
            "ALBANIA: 1.694.000 visitatori",
            "ALGERIA: 1.417.000 visitatori",
            "AUSTRALIA: 4.369.000 visitatori",
            "AZERBAIJAN: 1.473.000 visitatori",
            "BANGLADESH: 1.565.000 visitatori",
            "BRAZIL: 2.968.000 visitatori",
            "BULGARIA: 3.882.000 visitatori",
            "CHILE: 1.727.000 visitatori",
            "COLOMBIA: 1.405.000 visitatori",
            "DENMARK: 4.630.000 visitatori",
            "EL SALVADOR: 1.079.000 visitatori",
            "INDONESIA: 3.941.000 visitatori",
            "ISRAEL: 3.614.000 visitatori",
            "JORDAN: 1.420.000 visitatori",
            "KAZAKHSTAN: 3.915.000 visitatori",
            "KUWAIT: 1.928.000 visitatori",
            "LATVIA: 2.457.000 visitatori",
            "MOROCCO: 1.603.000 visitatori",
            "NEW ZEALAND: 1.733.000 visitatori",
            "NORWAY: 2.960.000 visitatori",
            "PERU: 1.635.000 visitatori",
            "PHILIPPINES: 1.920.000 visitatori",
            "PUERTO RICO: 1.361.000 visitatori",
            "SAUDI ARABIA: 4.234.000 visitatori",
            "SLOVENIA: 2.800.000 visitatori",
            "SYRIAN ARAB REPUBLIC: 4.309.000 visitatori",
            "THAILAND: 2.709.000 visitatori",
            "TUNISIA: 2.312.000 visitatori"
           ],
           "type": "scattergeo"
          },
          {
           "lat": [
            -34.9964963,
            47.59397,
            53.4250605,
            50.6402809,
            26.2540493,
            63.2467777,
            22.3511148,
            52.865196,
            0.3448612,
            45.9852129,
            1.357107,
            39.3260685,
            59.6749712,
            24.93836745,
            38.9597594
           ],
           "lon": [
            -64.9672817,
            14.12456,
            27.6971358,
            4.6667145,
            29.2675469,
            25.9209164,
            78.6677428,
            -7.9794599,
            173.6641773,
            24.6859225,
            103.8194992,
            -4.8379791,
            14.5208584,
            118.58541419241348,
            34.9249653
           ],
           "marker": {
            "size": [
             10.489112920215804,
             10.502781230272141,
             10.100745280129502,
             10.575473320697006,
             9.844450801884026,
             9.983955420289632,
             10.076826077518554,
             9.892787767762915,
             10.582928068373919,
             10.236503074442432,
             9.833350304673619,
             9.822433967440858,
             11.338424876764156,
             10.3944062619025,
             10.30172708884999
            ]
           },
           "text": [
            "ARGENTINA: 8.295.000 visitatori",
            "AUSTRIA: 8.371.000 visitatori",
            "BELARUS: 6.323.000 visitatori",
            "BELGIUM: 8.783.000 visitatori",
            "EGYPT: 5.210.000 visitatori",
            "FINLAND: 5.798.000 visitatori",
            "INDIA: 6.213.000 visitatori",
            "IRELAND: 5.409.000 visitatori",
            "KIRIBATI: 8.826.000 visitatori",
            "ROMANIA: 6.972.000 visitatori",
            "SINGAPORE: 5.165.000 visitatori",
            "SPAIN: 5.121.000 visitatori",
            "SWEDEN: 13.950.000 visitatori",
            "TAIWAN PROVINCE OF CHINA: 7.781.000 visitatori",
            "TÜRKIYE: 7.299.000 visitatori"
           ],
           "type": "scattergeo"
          },
          {
           "lat": [
            35.0000663,
            46.603354,
            47.1817585,
            36.5748441,
            49.6112768,
            52.2434979,
            39.6621648,
            64.6863136,
            49.4871968
           ],
           "lon": [
            104.999955,
            1.8883335,
            19.5060937,
            139.2394179,
            6.129799,
            5.6343227,
            -8.1353519,
            97.7453061,
            31.2718321
           ],
           "marker": {
            "size": [
             12.801719612258795,
             12.130959064806454,
             11.76385988177,
             11.683183860564318,
             12.218956559176329,
             11.716640135535844,
             11.717863517248468,
             12.441471901594737,
             11.539686638060385
            ]
           },
           "text": [
            "CHINA: 28.853.000 visitatori",
            "FRANCE: 21.131.000 visitatori",
            "HUNGARY: 17.558.000 visitatori",
            "JAPAN: 16.831.000 visitatori",
            "LUXEMBOURG: 22.054.000 visitatori",
            "NETHERLANDS: 17.130.000 visitatori",
            "PORTUGAL: 17.141.000 visitatori",
            "RUSSIAN FEDERATION: 24.507.000 visitatori",
            "UKRAINE: 15.588.000 visitatori"
           ],
           "type": "scattergeo"
          },
          {
           "lat": [
            61.0666922,
            42.6384261,
            4.5693754,
            52.215933
           ],
           "lon": [
            -107.991707,
            12.674297,
            102.2656823,
            19.134422
           ],
           "marker": {
            "size": [
             13.69541418874598,
             13.609372679696758,
             12.94845980640035,
             13.404638442763362
            ]
           },
           "text": [
            "CANADA: 41.786.000 visitatori",
            "ITALY: 40.400.000 visitatori",
            "MALAYSIA: 30.761.000 visitatori",
            "POLAND: 37.226.000 visitatori"
           ],
           "type": "scattergeo"
          },
          {
           "lat": [
            51.1638175,
            22.2793278,
            23.6585116,
            54.7023545,
            39.7837304
           ],
           "lon": [
            10.4478313,
            114.1628131,
            -102.0077097,
            -3.2765753,
            -100.445882
           ],
           "marker": {
            "size": [
             15.74513148085551,
             15.091476982244714,
             17.20235698201703,
             14.879459806938769,
             15.54170708788178
            ]
           },
           "text": [
            "GERMANY: 84.859.000 visitatori",
            "HONG KONG: 68.903.000 visitatori",
            "MEXICO: 128.903.000 visitatori",
            "UNITED KINGDOM: 64.194.000 visitatori",
            "UNITED STATES OF AMERICA: 79.655.000 visitatori"
           ],
           "type": "scattergeo"
          }
         ],
         "name": "2004",
         "traces": [
          0,
          1,
          2,
          3,
          4,
          5,
          6,
          7
         ]
        },
        {
         "data": [
          {
           "lat": [],
           "lon": [],
           "marker": {
            "size": []
           },
           "text": [],
           "type": "scattergeo"
          },
          {
           "lat": [
            40.7696272,
            32.3040273,
            27.549511,
            18.4024395,
            7.0323598,
            -19.99697155,
            10.2735633,
            23.0131338,
            19.0974031,
            58.7523778,
            -18.1239696,
            13.470062,
            15.2572432,
            64.9841821,
            41.5089324,
            3.7203503,
            35.8885993,
            -20.2759451,
            28.3780464,
            -21.3019905,
            8.559559,
            -23.3165935,
            -13.7693895,
            -4.6574977,
            8.6400349,
            39.3763807,
            1.5333554
           ],
           "lon": [
            44.6736646,
            -64.7563086,
            90.5119273,
            -64.5661642,
            19.9981227,
            -157.78587140620786,
            -84.0739102,
            -80.8328748,
            -70.3028026,
            25.3319078,
            179.0122737,
            -15.4900464,
            -86.0755145,
            -18.1059013,
            74.724091,
            73.2244152,
            14.4476911,
            57.5703566,
            83.9999901,
            165.4880773,
            -81.1308434,
            -58.1693445,
            -172.12005,
            55.4540146,
            -11.8400269,
            59.3924609,
            32.2166578
           ],
           "marker": {
            "size": [
             7.530924238388775,
             7.228489286933591,
             7.7266423917540035,
             7.230893381689624,
             6.4931957151484445,
             6.521438207914406,
             7.742350988014904,
             7.294710763712606,
             7.660752175044957,
             7.68414612328906,
             7.096857451244236,
             7.496010097719404,
             7.476258479205834,
             7.686705619815704,
             7.704408471201023,
             6.931034211389801,
             7.409936134163343,
             7.265880513379042,
             7.6541355623585385,
             7.029331033099615,
             7.457676592104298,
             7.318139874862419,
             6.822391207496295,
             6.843352809907852,
             6.900699663860898,
             6.711311308250299,
             7.404428515002726
            ]
           },
           "text": [
            "ARMENIA: 329.000 visitatori",
            "BERMUDA: 170.000 visitatori",
            "BHUTAN: 472.000 visitatori",
            "BRITISH VIRGIN ISLANDS: 171.000 visitatori",
            "CENTRAL AFRICAN REPUBLIC: 11.000 visitatori",
            "COOK ISLANDS: 13.000 visitatori",
            "COSTA RICA: 485.000 visitatori",
            "CUBA: 199.000 visitatori",
            "DOMINICAN REPUBLIC: 420.000 visitatori",
            "ESTONIA: 438.000 visitatori",
            "FIJI: 121.000 visitatori",
            "GAMBIA: 307.000 visitatori",
            "HONDURAS: 295.000 visitatori",
            "ICELAND: 440.000 visitatori",
            "KYRGYZSTAN: 454.000 visitatori",
            "MALDIVES: 74.000 visitatori",
            "MALTA: 257.000 visitatori",
            "MAURITIUS: 186.000 visitatori",
            "NEPAL: 415.000 visitatori",
            "NEW CALEDONIA: 100.000 visitatori",
            "PANAMA: 284.000 visitatori",
            "PARAGUAY: 210.000 visitatori",
            "SAMOA: 51.000 visitatori",
            "SEYCHELLES: 55.000 visitatori",
            "SIERRA LEONE: 67.000 visitatori",
            "TURKMENISTAN: 33.000 visitatori",
            "UGANDA: 254.000 visitatori"
           ],
           "type": "scattergeo"
          },
          {
           "lat": [
            12.5433216,
            34.9174159,
            -1.3397668,
            12.6090157,
            7.5554942,
            -32.8755548,
            41.32373,
            -18.4554963
           ],
           "lon": [
            104.8144914,
            32.889902651331866,
            -79.3666965,
            -85.2936911,
            80.7137847,
            -56.0201525,
            63.9528098,
            29.7468414
           ],
           "marker": {
            "size": [
             8.047450027018526,
             8.166175820913585,
             7.999507594389401,
             8.035236570521944,
             8.021096389589895,
             7.936629201819813,
             8.135529389961889,
             7.806983366313187
            ]
           },
           "text": [
            "CAMBODIA: 787.000 visitatori",
            "CYPRUS: 932.000 visitatori",
            "ECUADOR: 733.000 visitatori",
            "NICARAGUA: 773.000 visitatori",
            "SRI LANKA: 757.000 visitatori",
            "URUGUAY: 666.000 visitatori",
            "UZBEKISTAN: 893.000 visitatori",
            "ZIMBABWE: 541.000 visitatori"
           ],
           "type": "scattergeo"
          },
          {
           "lat": [
            41.000028,
            28.0000272,
            -24.7761086,
            40.3936294,
            24.4769288,
            -10.3333333,
            42.6073975,
            -31.7613365,
            26.2540493,
            13.8000382,
            -26.5624806,
            42.3154,
            15.5855545,
            -2.4833826,
            30.8124247,
            31.1667049,
            48.1012954,
            29.2733964,
            56.8406494,
            55.3500003,
            31.1728205,
            -41.5000831,
            61.1529386,
            21.0000287,
            -6.8699697,
            12.7503486,
            18.2247706,
            25.6242618,
            48.7411522,
            34.8021,
            9.8762687,
            33.8439408,
            -16.5255069
           ],
           "lon": [
            19.9999619,
            2.9999825,
            134.755,
            47.7872508,
            90.2934413,
            -53.2,
            25.4856617,
            -71.3187697,
            29.2675469,
            -88.9140683,
            31.3991317,
            43.3569,
            -90.345759,
            117.8902853,
            34.8594762,
            36.941628,
            66.7780818,
            47.4979476,
            24.7537645,
            23.7499997,
            -7.3362482,
            172.8344077,
            8.7876653,
            57.0036901,
            -75.0458515,
            122.7312101,
            -66.4858295,
            42.3528328,
            19.4528646,
            38.9968,
            102.06908954680432,
            9.400138,
            168.1069154
           ],
           "marker": {
            "size": [
             9.055631508450901,
             8.450336426860588,
             9.777113347070342,
             8.715475937283372,
             8.707068837232601,
             9.48649728906046,
             9.572293722055313,
             8.911927384126889,
             9.66960867519332,
             8.383758556990209,
             8.269620932263166,
             8.448518669200213,
             8.257559574270946,
             9.783726933680267,
             9.433971735079647,
             8.85731855399716,
             9.426247280941112,
             9.021375311965642,
             9.251156439966428,
             9.62340561931908,
             8.855536349540396,
             8.727745559610014,
             9.280131368192876,
             9.074207232241106,
             8.725789835290424,
             9.105054180886551,
             8.520366808529738,
             8.942474306133386,
             9.250468437313366,
             9.532540661278453,
             9.328737900525194,
             8.928128777660934,
             8.28573795298792
            ]
           },
           "text": [
            "ALBANIA: 2.616.000 visitatori",
            "ALGERIA: 1.349.000 visitatori",
            "AUSTRALIA: 4.941.000 visitatori",
            "AZERBAIJAN: 1.836.000 visitatori",
            "BANGLADESH: 1.819.000 visitatori",
            "BRAZIL: 3.886.000 visitatori",
            "BULGARIA: 4.180.000 visitatori",
            "CHILE: 2.264.000 visitatori",
            "EGYPT: 4.531.000 visitatori",
            "EL SALVADOR: 1.242.000 visitatori",
            "ESWATINI: 1.072.000 visitatori",
            "GEORGIA: 1.346.000 visitatori",
            "GUATEMALA: 1.055.000 visitatori",
            "INDONESIA: 4.967.000 visitatori",
            "ISRAEL: 3.713.000 visitatori",
            "JORDAN: 2.139.000 visitatori",
            "KAZAKHSTAN: 3.688.000 visitatori",
            "KUWAIT: 2.529.000 visitatori",
            "LATVIA: 3.151.000 visitatori",
            "LITHUANIA: 4.362.000 visitatori",
            "MOROCCO: 2.135.000 visitatori",
            "NEW ZEALAND: 1.861.000 visitatori",
            "NORWAY: 3.236.000 visitatori",
            "OMAN: 2.664.000 visitatori",
            "PERU: 1.857.000 visitatori",
            "PHILIPPINES: 2.745.000 visitatori",
            "PUERTO RICO: 1.468.000 visitatori",
            "SAUDI ARABIA: 2.336.000 visitatori",
            "SLOVAKIA: 3.149.000 visitatori",
            "SYRIAN ARAB REPUBLIC: 4.042.000 visitatori",
            "THAILAND: 3.382.000 visitatori",
            "TUNISIA: 2.302.000 visitatori",
            "VANUATU: 1.095.000 visitatori"
           ],
           "type": "scattergeo"
          },
          {
           "lat": [
            -34.9964963,
            47.59397,
            53.4250605,
            50.6402809,
            55.670249,
            63.2467777,
            22.3511148,
            52.865196,
            0.3448612,
            45.9852129,
            1.357107,
            46.1199444,
            39.3260685,
            59.6749712,
            24.93836745,
            38.9597594
           ],
           "lon": [
            -64.9672817,
            14.12456,
            27.6971358,
            4.6667145,
            10.3333283,
            25.9209164,
            78.6677428,
            -7.9794599,
            173.6641773,
            24.6859225,
            103.8194992,
            14.8153333,
            -4.8379791,
            14.5208584,
            118.58541419241348,
            34.9249653
           ],
           "marker": {
            "size": [
             10.781232532819054,
             10.784410910762901,
             10.333900569968375,
             10.407731825853954,
             10.058369700252022,
             10.123319828184151,
             10.497216029714858,
             10.211236679899542,
             11.021488506765113,
             10.5967331915008,
             9.922310373232268,
             10.204255582403174,
             10.883355844109445,
             11.15473986301143,
             10.55594139056693,
             10.485502130063216
            ]
           },
           "text": [
            "ARGENTINA: 10.022.000 visitatori",
            "AUSTRIA: 10.042.000 visitatori",
            "BELARUS: 7.464.000 visitatori",
            "BELGIUM: 7.852.000 visitatori",
            "DENMARK: 6.129.000 visitatori",
            "FINLAND: 6.428.000 visitatori",
            "INDIA: 8.340.000 visitatori",
            "IRELAND: 6.848.000 visitatori",
            "KIRIBATI: 11.610.000 visitatori",
            "ROMANIA: 8.906.000 visitatori",
            "SINGAPORE: 5.533.000 visitatori",
            "SLOVENIA: 6.814.000 visitatori",
            "SPAIN: 10.678.000 visitatori",
            "SWEDEN: 12.559.000 visitatori",
            "TAIWAN PROVINCE OF CHINA: 8.671.000 visitatori",
            "TÜRKIYE: 8.275.000 visitatori"
           ],
           "type": "scattergeo"
          },
          {
           "lat": [
            46.603354,
            47.1817585,
            36.5748441,
            49.6112768,
            52.2434979,
            39.6621648,
            64.6863136,
            49.4871968
           ],
           "lon": [
            1.8883335,
            19.5060937,
            139.2394179,
            6.129799,
            5.6343227,
            -8.1353519,
            97.7453061,
            31.2718321
           ],
           "marker": {
            "size": [
             12.661656243497063,
             11.656723240829002,
             11.761342003778136,
             12.549347982326026,
             11.667835115235857,
             11.852226802606626,
             12.82162039470856,
             11.68813192270055
            ]
           },
           "text": [
            "FRANCE: 27.107.000 visitatori",
            "HUNGARY: 16.597.000 visitatori",
            "JAPAN: 17.535.000 visitatori",
            "LUXEMBOURG: 25.759.000 visitatori",
            "NETHERLANDS: 16.695.000 visitatori",
            "PORTUGAL: 18.378.000 visitatori",
            "RUSSIAN FEDERATION: 29.107.000 visitatori",
            "UKRAINE: 16.875.000 visitatori"
           ],
           "type": "scattergeo"
          },
          {
           "lat": [
            61.0666922,
            35.0000663,
            42.6384261,
            52.215933
           ],
           "lon": [
            -107.991707,
            104.999955,
            12.674297,
            19.134422
           ],
           "marker": {
            "size": [
             13.998030377557606,
             13.220968255039878,
             13.967051840719165,
             13.870058354402929
            ]
           },
           "text": [
            "CANADA: 46.912.000 visitatori",
            "CHINA: 34.524.000 visitatori",
            "ITALY: 46.369.000 visitatori",
            "POLAND: 44.696.000 visitatori"
           ],
           "type": "scattergeo"
          },
          {
           "lat": [
            51.1638175,
            22.2793278,
            23.6585116,
            54.7023545,
            39.7837304
           ],
           "lon": [
            10.4478313,
            114.1628131,
            -102.0077097,
            -3.2765753,
            -100.445882
           ],
           "marker": {
            "size": [
             15.62663718287617,
             15.38572267522968,
             16.999369195113434,
             15.119232770431443,
             17.743780911373108
            ]
           },
           "text": [
            "GERMANY: 81.801.000 visitatori",
            "HONG KONG: 75.812.000 visitatori",
            "MEXICO: 122.022.000 visitatori",
            "UNITED KINGDOM: 69.536.000 visitatori",
            "UNITED STATES OF AMERICA: 148.511.000 visitatori"
           ],
           "type": "scattergeo"
          }
         ],
         "name": "2006",
         "traces": [
          0,
          1,
          2,
          3,
          4,
          5,
          6,
          7
         ]
        },
        {
         "data": [
          {
           "lat": [],
           "lon": [],
           "marker": {
            "size": []
           },
           "text": [],
           "type": "scattergeo"
          },
          {
           "lat": [
            32.3040273,
            18.4024395,
            15.4542,
            -19.99697155,
            23.0131338,
            19.0974031,
            -18.1239696,
            15.2572432,
            64.9841821,
            3.7203503,
            35.8885993,
            -20.2759451,
            -21.3019905,
            8.559559,
            -23.3165935,
            -13.7693895,
            -4.6574977,
            8.6400349,
            1.5333554
           ],
           "lon": [
            -64.7563086,
            -64.5661642,
            18.7322,
            -157.78587140620786,
            -80.8328748,
            -70.3028026,
            179.0122737,
            -86.0755145,
            -18.1059013,
            73.2244152,
            14.4476911,
            57.5703566,
            165.4880773,
            -81.1308434,
            -58.1693445,
            -172.12005,
            55.4540146,
            -11.8400269,
            32.2166578
           ],
           "marker": {
            "size": [
             7.279348338173676,
             7.218777502950017,
             6.858415855933821,
             6.521438207914406,
             7.301184425158025,
             7.651474036341466,
             7.105848487178287,
             7.616064616066963,
             7.652805870818961,
             7.102867749036367,
             7.471237153066693,
             7.350800500301782,
             7.068959063644411,
             7.590610537153598,
             7.447338112322658,
             6.833003877467596,
             6.838210286866029,
             6.926821329268066,
             7.543233705380165
            ]
           },
           "text": [
            "BERMUDA: 192.000 visitatori",
            "BRITISH VIRGIN ISLANDS: 166.000 visitatori",
            "CHAD: 58.000 visitatori",
            "COOK ISLANDS: 13.000 visitatori",
            "CUBA: 202.000 visitatori",
            "DOMINICAN REPUBLIC: 413.000 visitatori",
            "FIJI: 124.000 visitatori",
            "HONDURAS: 387.000 visitatori",
            "ICELAND: 414.000 visitatori",
            "MALDIVES: 123.000 visitatori",
            "MALTA: 292.000 visitatori",
            "MAURITIUS: 226.000 visitatori",
            "NEW CALEDONIA: 112.000 visitatori",
            "PANAMA: 369.000 visitatori",
            "PARAGUAY: 278.000 visitatori",
            "SAMOA: 53.000 visitatori",
            "SEYCHELLES: 54.000 visitatori",
            "SIERRA LEONE: 73.000 visitatori",
            "UGANDA: 337.000 visitatori"
           ],
           "type": "scattergeo"
          },
          {
           "lat": [
            40.7696272,
            24.4769288,
            27.549511,
            12.5433216,
            10.2735633,
            -1.3397668,
            58.7523778,
            28.3780464,
            12.6090157,
            7.5554942,
            -32.8755548,
            -18.4554963
           ],
           "lon": [
            44.6736646,
            90.2934413,
            90.5119273,
            104.8144914,
            -84.0739102,
            -79.3666965,
            25.3319078,
            83.9999901,
            -85.2936911,
            80.7137847,
            -56.0201525,
            29.7468414
           ],
           "marker": {
            "size": [
             7.77870926392198,
             8.1210834276751,
             7.810317291522248,
             8.046582463343888,
             7.792392180585625,
             8.071449114968763,
             7.961509569563244,
             7.828981672131019,
             8.173895685951905,
             8.19220303784522,
             8.00041646160292,
             7.863116294932554
            ]
           },
           "text": [
            "ARMENIA: 516.000 visitatori",
            "BANGLADESH: 875.000 visitatori",
            "BHUTAN: 544.000 visitatori",
            "CAMBODIA: 786.000 visitatori",
            "COSTA RICA: 528.000 visitatori",
            "ECUADOR: 815.000 visitatori",
            "ESTONIA: 692.000 visitatori",
            "NEPAL: 561.000 visitatori",
            "NICARAGUA: 942.000 visitatori",
            "SRI LANKA: 966.000 visitatori",
            "URUGUAY: 734.000 visitatori",
            "ZIMBABWE: 593.000 visitatori"
           ],
           "type": "scattergeo"
          },
          {
           "lat": [
            41.000028,
            28.0000272,
            40.3936294,
            26.0667,
            -31.7613365,
            4.099917,
            45.3658443,
            34.9174159,
            -26.5624806,
            42.3154,
            38.9953683,
            15.5855545,
            30.8124247,
            31.1667049,
            48.1012954,
            41.5089324,
            56.8406494,
            55.3500003,
            31.1728205,
            -41.5000831,
            21.0000287,
            -6.8699697,
            12.7503486,
            18.2247706,
            25.6242618,
            48.7411522,
            9.8762687,
            33.8439408,
            38.9597594,
            41.32373,
            -16.5255069
           ],
           "lon": [
            19.9999619,
            2.9999825,
            47.7872508,
            50.5577,
            -71.3187697,
            -72.9088133,
            15.6575209,
            32.889902651331866,
            31.3991317,
            43.3569,
            21.9877132,
            -90.345759,
            34.8594762,
            36.941628,
            66.7780818,
            74.724091,
            24.7537645,
            23.7499997,
            -7.3362482,
            172.8344077,
            57.0036901,
            -75.0458515,
            122.7312101,
            -66.4858295,
            42.3528328,
            19.4528646,
            102.06908954680432,
            9.400138,
            34.9249653,
            63.9528098,
            168.1069154
           ],
           "marker": {
            "size": [
             9.434896337099309,
             8.56036141115424,
             8.867523349740015,
             9.299278498022456,
             8.934474980385788,
             8.813457197133634,
             9.631969009725704,
             8.363107742980537,
             8.341426633192953,
             8.733109392006781,
             9.449928226420838,
             8.405943174009675,
             9.579968762000599,
             8.922180734165256,
             9.614523326926355,
             8.91578084347602,
             9.455112885905313,
             9.474794524854659,
             9.341484296667973,
             8.778581798034352,
             9.233520592285174,
             8.752918724745491,
             9.319855960563562,
             8.503079798055621,
             9.715993471741061,
             9.424698204285015,
             9.493064337143291,
             9.239766945077411,
             9.764842435502201,
             8.323384101418691,
             8.669850090684974
            ]
           },
           "text": [
            "ALBANIA: 3.716.000 visitatori",
            "ALGERIA: 1.539.000 visitatori",
            "AZERBAIJAN: 2.162.000 visitatori",
            "BAHRAIN: 3.293.000 visitatori",
            "CHILE: 2.317.000 visitatori",
            "COLOMBIA: 2.042.000 visitatori",
            "CROATIA: 4.393.000 visitatori",
            "CYPRUS: 1.210.000 visitatori",
            "ESWATINI: 1.177.000 visitatori",
            "GEORGIA: 1.872.000 visitatori",
            "GREECE: 3.765.000 visitatori",
            "GUATEMALA: 1.277.000 visitatori",
            "ISRAEL: 4.207.000 visitatori",
            "JORDAN: 2.288.000 visitatori",
            "KAZAKHSTAN: 4.330.000 visitatori",
            "KYRGYZSTAN: 2.273.000 visitatori",
            "LATVIA: 3.782.000 visitatori",
            "LITHUANIA: 3.847.000 visitatori",
            "MOROCCO: 3.421.000 visitatori",
            "NEW ZEALAND: 1.967.000 visitatori",
            "OMAN: 3.100.000 visitatori",
            "PERU: 1.913.000 visitatori",
            "PHILIPPINES: 3.355.000 visitatori",
            "PUERTO RICO: 1.438.000 visitatori",
            "SAUDI ARABIA: 4.705.000 visitatori",
            "SLOVAKIA: 3.683.000 visitatori",
            "THAILAND: 3.908.000 visitatori",
            "TUNISIA: 3.118.000 visitatori",
            "TÜRKIYE: 4.893.000 visitatori",
            "UZBEKISTAN: 1.150.000 visitatori",
            "VANUATU: 1.745.000 visitatori"
           ],
           "type": "scattergeo"
          },
          {
           "lat": [
            -24.7761086,
            47.59397,
            53.4250605,
            50.6402809,
            -10.3333333,
            42.6073975,
            49.58247095,
            55.670249,
            63.2467777,
            22.3511148,
            -2.4833826,
            52.865196,
            0.3448612,
            45.9852129,
            1.357107,
            46.1199444,
            39.3260685,
            59.6749712,
            34.8021,
            24.93836745
           ],
           "lon": [
            134.755,
            14.12456,
            27.6971358,
            4.6667145,
            -53.2,
            25.4856617,
            17.289683404352353,
            10.3333283,
            25.9209164,
            78.6677428,
            117.8902853,
            -7.9794599,
            173.6641773,
            24.6859225,
            103.8194992,
            14.8153333,
            -4.8379791,
            14.5208584,
            38.9968,
            118.58541419241348
           ],
           "marker": {
            "size": [
             9.986244524114552,
             10.725727190112373,
             10.512799768162568,
             10.593461984334393,
             9.85132555292046,
             9.967626608353434,
             11.175723677632147,
             10.105927083500355,
             10.15261841850913,
             10.912149881242666,
             9.911172771740508,
             10.412404798932798,
             11.076533060018761,
             11.223990913061938,
             10.207132958064456,
             9.912123123563049,
             11.219991530919025,
             11.253002640411463,
             9.854998381345865,
             10.519572810088345
            ]
           },
           "text": [
            "AUSTRALIA: 5.808.000 visitatori",
            "AUSTRIA: 9.677.000 visitatori",
            "BELARUS: 8.427.000 visitatori",
            "BELGIUM: 8.887.000 visitatori",
            "BRAZIL: 5.238.000 visitatori",
            "BULGARIA: 5.727.000 visitatori",
            "CZECH REPUBLIC (CZECHIA): 12.713.000 visitatori",
            "DENMARK: 6.347.000 visitatori",
            "FINLAND: 6.566.000 visitatori",
            "INDIA: 10.868.000 visitatori",
            "INDONESIA: 5.486.000 visitatori",
            "IRELAND: 7.877.000 visitatori",
            "KIRIBATI: 11.996.000 visitatori",
            "ROMANIA: 13.072.000 visitatori",
            "SINGAPORE: 6.828.000 visitatori",
            "SLOVENIA: 5.490.000 visitatori",
            "SPAIN: 13.042.000 visitatori",
            "SWEDEN: 13.291.000 visitatori",
            "SYRIAN ARAB REPUBLIC: 5.253.000 visitatori",
            "TAIWAN PROVINCE OF CHINA: 8.465.000 visitatori"
           ],
           "type": "scattergeo"
          },
          {
           "lat": [
            -34.9964963,
            47.1817585,
            36.5748441,
            49.6112768,
            52.2434979,
            46.8182,
            49.4871968
           ],
           "lon": [
            -64.9672817,
            19.5060937,
            139.2394179,
            6.129799,
            5.6343227,
            8.2275,
            31.2718321
           ],
           "marker": {
            "size": [
             11.880431504579324,
             11.720197611549041,
             11.586554733792855,
             12.493099743685313,
             11.854455009926538,
             11.747289090976977,
             11.599686218741976
            ]
           },
           "text": [
            "ARGENTINA: 18.645.000 visitatori",
            "HUNGARY: 17.162.000 visitatori",
            "JAPAN: 15.987.000 visitatori",
            "LUXEMBOURG: 25.101.000 visitatori",
            "NETHERLANDS: 18.399.000 visitatori",
            "SWITZERLAND: 17.407.000 visitatori",
            "UKRAINE: 16.100.000 visitatori"
           ],
           "type": "scattergeo"
          },
          {
           "lat": [
            35.0000663,
            46.603354,
            64.6863136
           ],
           "lon": [
            104.999955,
            1.8883335,
            97.7453061
           ],
           "marker": {
            "size": [
             13.936869404959445,
             12.963411340375448,
             13.35873771152115
            ]
           },
           "text": [
            "CHINA: 45.844.000 visitatori",
            "FRANCE: 30.960.000 visitatori",
            "RUSSIAN FEDERATION: 36.538.000 visitatori"
           ],
           "type": "scattergeo"
          },
          {
           "lat": [
            61.0666922,
            51.1638175,
            22.2793278,
            42.6384261,
            23.6585116,
            52.215933,
            54.7023545,
            39.7837304
           ],
           "lon": [
            -107.991707,
            10.4478313,
            114.1628131,
            12.674297,
            -102.0077097,
            19.134422,
            -3.2765753,
            -100.445882
           ],
           "marker": {
            "size": [
             14.263337300125032,
             15.796234390655881,
             15.630950315915147,
             14.403829622549509,
             16.545086306836822,
             14.183019526128778,
             15.096224559535447,
             17.40841966140408
            ]
           },
           "text": [
            "CANADA: 51.737.000 visitatori",
            "GERMANY: 86.201.000 visitatori",
            "HONG KONG: 81.911.000 visitatori",
            "ITALY: 54.421.000 visitatori",
            "MEXICO: 107.519.000 visitatori",
            "POLAND: 50.243.000 visitatori",
            "UNITED KINGDOM: 69.011.000 visitatori",
            "UNITED STATES OF AMERICA: 136.148.000 visitatori"
           ],
           "type": "scattergeo"
          }
         ],
         "name": "2008",
         "traces": [
          0,
          1,
          2,
          3,
          4,
          5,
          6,
          7
         ]
        },
        {
         "data": [
          {
           "lat": [],
           "lon": [],
           "marker": {
            "size": []
           },
           "text": [],
           "type": "scattergeo"
          },
          {
           "lat": [
            18.4024395,
            7.0323598,
            15.4542,
            -19.99697155,
            23.0131338,
            19.0974031,
            -18.1239696,
            -17.0243749,
            15.2572432,
            64.9841821,
            35.8885993,
            -20.2759451,
            -21.3019905,
            8.559559,
            -23.3165935,
            -13.7693895,
            -4.6574977,
            8.6400349,
            10.7466905,
            1.5333554
           ],
           "lon": [
            -64.5661642,
            19.9981227,
            18.7322,
            -157.78587140620786,
            -80.8328748,
            -70.3028026,
            179.0122737,
            -144.6434898,
            -86.0755145,
            -18.1059013,
            14.4476911,
            57.5703566,
            165.4880773,
            -81.1308434,
            -58.1693445,
            -172.12005,
            55.4540146,
            -11.8400269,
            -61.0840075,
            32.2166578
           ],
           "marker": {
            "size": [
             7.180902518617646,
             6.745560570483002,
             6.752044031306418,
             6.507709724462665,
             7.398877356221455,
             7.635321665947904,
             7.117613715821372,
             6.990113697379655,
             7.644782414992591,
             7.482900901520756,
             7.529371575824142,
             7.322311231385651,
             7.129136318993401,
             7.622994652024577,
             7.4878439410802455,
             6.84843337107004,
             6.863321195877002,
             6.939347456723164,
             7.438608478303902,
             7.523129173387996
            ]
           },
           "text": [
            "BRITISH VIRGIN ISLANDS: 151.000 visitatori",
            "CENTRAL AFRICAN REPUBLIC: 38.000 visitatori",
            "CHAD: 39.000 visitatori",
            "COOK ISLANDS: 12.000 visitatori",
            "CUBA: 251.000 visitatori",
            "DOMINICAN REPUBLIC: 401.000 visitatori",
            "FIJI: 128.000 visitatori",
            "FRENCH POLYNESIA: 89.000 visitatori",
            "HONDURAS: 408.000 visitatori",
            "ICELAND: 299.000 visitatori",
            "MALTA: 328.000 visitatori",
            "MAURITIUS: 212.000 visitatori",
            "NEW CALEDONIA: 132.000 visitatori",
            "PANAMA: 392.000 visitatori",
            "PARAGUAY: 302.000 visitatori",
            "SAMOA: 56.000 visitatori",
            "SEYCHELLES: 59.000 visitatori",
            "SIERRA LEONE: 76.000 visitatori",
            "TRINIDAD AND TOBAGO: 273.000 visitatori",
            "UGANDA: 324.000 visitatori"
           ],
           "type": "scattergeo"
          },
          {
           "lat": [
            40.7696272,
            27.549511,
            12.5433216,
            10.2735633,
            -1.3397668,
            58.7523778,
            15.5855545,
            28.3780464,
            12.6090157,
            18.2247706,
            -18.4554963
           ],
           "lon": [
            44.6736646,
            90.5119273,
            104.8144914,
            -84.0739102,
            -79.3666965,
            25.3319078,
            -90.345759,
            83.9999901,
            -85.2936911,
            -66.4858295,
            29.7468414
           ],
           "marker": {
            "size": [
             7.831152572295931,
             7.874565900325549,
             7.765978963043931,
             7.932744278244019,
             8.140301538546009,
             8.183850260827002,
             7.963397452893684,
             8.028191125750578,
             8.14742011048531,
             8.202742637547415,
             7.9209947825512685
            ]
           },
           "text": [
            "ARMENIA: 563.000 visitatori",
            "BHUTAN: 604.000 visitatori",
            "CAMBODIA: 505.000 visitatori",
            "COSTA RICA: 662.000 visitatori",
            "ECUADOR: 899.000 visitatori",
            "ESTONIA: 955.000 visitatori",
            "GUATEMALA: 694.000 visitatori",
            "NEPAL: 765.000 visitatori",
            "NICARAGUA: 908.000 visitatori",
            "PUERTO RICO: 980.000 visitatori",
            "ZIMBABWE: 650.000 visitatori"
           ],
           "type": "scattergeo"
          },
          {
           "lat": [
            41.000028,
            28.0000272,
            40.3936294,
            26.0667,
            24.4769288,
            42.6073975,
            -31.7613365,
            4.099917,
            34.9174159,
            26.2540493,
            13.8000382,
            -26.5624806,
            42.3154,
            38.9953683,
            30.8124247,
            31.1667049,
            41.5089324,
            16.4990859,
            56.8406494,
            55.3500003,
            31.1728205,
            -41.5000831,
            21.0000287,
            -6.8699697,
            48.7411522,
            7.5554942,
            33.8439408,
            -32.8755548,
            41.32373,
            -16.5255069
           ],
           "lon": [
            19.9999619,
            2.9999825,
            47.7872508,
            50.5577,
            90.2934413,
            25.4856617,
            -71.3187697,
            -72.9088133,
            32.889902651331866,
            29.2675469,
            -88.9140683,
            31.3991317,
            43.3569,
            21.9877132,
            34.8594762,
            36.941628,
            74.724091,
            102.8330834,
            24.7537645,
            23.7499997,
            -7.3362482,
            172.8344077,
            57.0036901,
            -75.0458515,
            19.4528646,
            80.7137847,
            9.400138,
            -56.0201525,
            63.9528098,
            168.1069154
           ],
           "marker": {
            "size": [
             9.348631878440028,
             8.67595611559022,
             9.259732013663287,
             9.150756073550927,
             8.752918724745491,
             9.422527139817081,
             9.102034799688816,
             8.944991394021311,
             8.386314868393512,
             9.692946726079404,
             8.493176888706627,
             8.31730721899985,
             8.833521427118272,
             9.460282031961905,
             9.59746947876971,
             9.22864558076871,
             8.44609078593304,
             8.639414449169724,
             9.312252200910342,
             9.609228743507918,
             8.87325929417544,
             8.806089681386203,
             9.136409174627746,
             8.82078632747282,
             9.08494021238593,
             8.304372508589795,
             8.905912763376204,
             8.237408142715232,
             8.599144102464813,
             8.525506931826893
            ]
           },
           "text": [
            "ALBANIA: 3.443.000 visitatori",
            "ALGERIA: 1.757.000 visitatori",
            "AZERBAIJAN: 3.176.000 visitatori",
            "BAHRAIN: 2.868.000 visitatori",
            "BANGLADESH: 1.913.000 visitatori",
            "BULGARIA: 3.676.000 visitatori",
            "CHILE: 2.737.000 visitatori",
            "COLOMBIA: 2.342.000 visitatori",
            "CYPRUS: 1.246.000 visitatori",
            "EGYPT: 4.618.000 visitatori",
            "EL SALVADOR: 1.421.000 visitatori",
            "ESWATINI: 1.141.000 visitatori",
            "GEORGIA: 2.086.000 visitatori",
            "GREECE: 3.799.000 visitatori",
            "ISRAEL: 4.269.000 visitatori",
            "JORDAN: 3.086.000 visitatori",
            "KYRGYZSTAN: 1.342.000 visitatori",
            "LAO PEOPLE´S DEMOCRATIC REPUBLIC: 1.686.000 visitatori",
            "LATVIA: 3.332.000 visitatori",
            "LITHUANIA: 4.311.000 visitatori",
            "MOROCCO: 2.175.000 visitatori",
            "NEW ZEALAND: 2.026.000 visitatori",
            "OMAN: 2.829.000 visitatori",
            "PERU: 2.058.000 visitatori",
            "SLOVAKIA: 2.692.000 visitatori",
            "SRI LANKA: 1.122.000 visitatori",
            "TUNISIA: 2.250.000 visitatori",
            "URUGUAY: 1.027.000 visitatori",
            "UZBEKISTAN: 1.610.000 visitatori",
            "VANUATU: 1.477.000 visitatori"
           ],
           "type": "scattergeo"
          },
          {
           "lat": [
            -24.7761086,
            47.59397,
            53.4250605,
            50.6402809,
            -10.3333333,
            49.58247095,
            55.670249,
            63.2467777,
            22.3511148,
            -2.4833826,
            52.865196,
            48.1012954,
            0.3448612,
            61.1529386,
            45.9852129,
            1.357107,
            46.1199444,
            39.3260685,
            59.6749712,
            34.8021,
            24.93836745,
            9.8762687,
            38.9597594
           ],
           "lon": [
            134.755,
            14.12456,
            27.6971358,
            4.6667145,
            -53.2,
            17.289683404352353,
            10.3333283,
            25.9209164,
            78.6677428,
            117.8902853,
            -7.9794599,
            66.7780818,
            173.6641773,
            8.7876653,
            24.6859225,
            103.8194992,
            14.8153333,
            -4.8379791,
            14.5208584,
            38.9968,
            118.58541419241348,
            102.06908954680432,
            34.9249653
           ],
           "marker": {
            "size": [
             10.262872447388217,
             10.758864613812804,
             10.291289786543656,
             10.578596866999282,
             10.129511328967318,
             11.061678142131639,
             10.384027816170342,
             10.33796124748633,
             11.212777159966315,
             10.081632371755841,
             10.225333487639016,
             10.03394383822316,
             11.14500770854637,
             10.358151517599072,
             10.917718022574343,
             10.310158024950157,
             9.876164074949674,
             11.376925072059002,
             11.219991530919025,
             10.0868627249029,
             10.68268748406317,
             9.902837421198816,
             10.150720223020592
            ]
           },
           "text": [
            "AUSTRALIA: 7.103.000 visitatori",
            "AUSTRIA: 9.882.000 visitatori",
            "BELARUS: 7.246.000 visitatori",
            "BELGIUM: 8.801.000 visitatori",
            "BRAZIL: 6.457.000 visitatori",
            "CZECH REPUBLIC (CZECHIA): 11.891.000 visitatori",
            "DENMARK: 7.726.000 visitatori",
            "FINLAND: 7.485.000 visitatori",
            "INDIA: 12.988.000 visitatori",
            "INDONESIA: 6.235.000 visitatori",
            "IRELAND: 6.917.000 visitatori",
            "KAZAKHSTAN: 6.019.000 visitatori",
            "KIRIBATI: 12.488.000 visitatori",
            "NORWAY: 7.590.000 visitatori",
            "ROMANIA: 10.905.000 visitatori",
            "SINGAPORE: 7.342.000 visitatori",
            "SLOVENIA: 5.340.000 visitatori",
            "SPAIN: 14.254.000 visitatori",
            "SWEDEN: 13.042.000 visitatori",
            "SYRIAN ARAB REPUBLIC: 6.259.000 visitatori",
            "TAIWAN PROVINCE OF CHINA: 9.415.000 visitatori",
            "THAILAND: 5.451.000 visitatori",
            "TÜRKIYE: 6.557.000 visitatori"
           ],
           "type": "scattergeo"
          },
          {
           "lat": [
            -34.9964963,
            46.603354,
            47.1817585,
            36.5748441,
            49.6112768,
            52.2434979,
            25.6242618,
            46.8182,
            49.4871968
           ],
           "lon": [
            -64.9672817,
            1.8883335,
            19.5060937,
            139.2394179,
            6.129799,
            5.6343227,
            42.3528328,
            8.2275,
            31.2718321
           ],
           "marker": {
            "size": [
             11.855727510104618,
             12.888613276188163,
             11.597598600969754,
             11.661263969026141,
             12.53916195868295,
             11.851165154879498,
             11.878328157711318,
             11.576636232850156,
             11.783815512487106
            ]
           },
           "text": [
            "ARGENTINA: 18.411.000 visitatori",
            "FRANCE: 29.973.000 visitatori",
            "HUNGARY: 16.082.000 visitatori",
            "JAPAN: 16.637.000 visitatori",
            "LUXEMBOURG: 25.639.000 visitatori",
            "NETHERLANDS: 18.368.000 visitatori",
            "SAUDI ARABIA: 18.625.000 visitatori",
            "SWITZERLAND: 15.902.000 visitatori",
            "UKRAINE: 17.741.000 visitatori"
           ],
           "type": "scattergeo"
          },
          {
           "lat": [
            52.215933,
            64.6863136
           ],
           "lon": [
            19.134422,
            97.7453061
           ],
           "marker": {
            "size": [
             13.754746973192002,
             13.541144816687208
            ]
           },
           "text": [
            "POLAND: 42.760.000 visitatori",
            "RUSSIAN FEDERATION: 39.323.000 visitatori"
           ],
           "type": "scattergeo"
          },
          {
           "lat": [
            61.0666922,
            35.0000663,
            51.1638175,
            22.2793278,
            42.6384261,
            23.6585116,
            54.7023545,
            39.7837304
           ],
           "lon": [
            -107.991707,
            104.999955,
            10.4478313,
            114.1628131,
            12.674297,
            -102.0077097,
            -3.2765753,
            -100.445882
           ],
           "marker": {
            "size": [
             14.466063177300114,
             14.55375981031437,
             15.78375553253121,
             15.729142626880613,
             14.449037695442929,
             15.998738078005193,
             14.900297530891438,
             16.985891405904994
            ]
           },
           "text": [
            "CANADA: 55.639.000 visitatori",
            "CHINA: 57.386.000 visitatori",
            "GERMANY: 85.872.000 visitatori",
            "HONG KONG: 84.442.000 visitatori",
            "ITALY: 55.304.000 visitatori",
            "MEXICO: 91.658.000 visitatori",
            "UNITED KINGDOM: 64.647.000 visitatori",
            "UNITED STATES OF AMERICA: 121.574.000 visitatori"
           ],
           "type": "scattergeo"
          }
         ],
         "name": "2010",
         "traces": [
          0,
          1,
          2,
          3,
          4,
          5,
          6,
          7
         ]
        },
        {
         "data": [
          {
           "lat": [],
           "lon": [],
           "marker": {
            "size": []
           },
           "text": [],
           "type": "scattergeo"
          },
          {
           "lat": [
            18.4024395,
            15.4542,
            -0.7264327,
            -19.99697155,
            23.0131338,
            19.0974031,
            -18.1239696,
            -17.0243749,
            15.2572432,
            64.9841821,
            35.8885993,
            -20.2759451,
            -21.3019905,
            8.559559,
            -23.3165935,
            -13.7693895,
            -4.6574977,
            8.6400349,
            1.5333554
           ],
           "lon": [
            -64.5661642,
            18.7322,
            15.6419155,
            -157.78587140620786,
            -80.8328748,
            -70.3028026,
            179.0122737,
            -144.6434898,
            -86.0755145,
            -18.1059013,
            14.4476911,
            57.5703566,
            165.4880773,
            -81.1308434,
            -58.1693445,
            -172.12005,
            55.4540146,
            -11.8400269,
            32.2166578
           ],
           "marker": {
            "size": [
             7.148753021027327,
             6.951548137489539,
             7.206415824295118,
             6.507709724462665,
             7.324387076601048,
             7.658111865067697,
             7.129136318993401,
             6.967344345149016,
             7.716831711867641,
             7.574645302699169,
             7.589172371326805,
             7.372369892421101,
             7.096857451244236,
             7.695603251917017,
             7.633961164765843,
             6.84843337107004,
             6.788786079719635,
             7.042876415828813,
             7.722976473312122
            ]
           },
           "text": [
            "BRITISH VIRGIN ISLANDS: 139.000 visitatori",
            "CHAD: 79.000 visitatori",
            "CONGO: 161.000 visitatori",
            "COOK ISLANDS: 12.000 visitatori",
            "CUBA: 213.000 visitatori",
            "DOMINICAN REPUBLIC: 418.000 visitatori",
            "FIJI: 132.000 visitatori",
            "FRENCH POLYNESIA: 83.000 visitatori",
            "HONDURAS: 464.000 visitatori",
            "ICELAND: 358.000 visitatori",
            "MALTA: 368.000 visitatori",
            "MAURITIUS: 237.000 visitatori",
            "NEW CALEDONIA: 121.000 visitatori",
            "PANAMA: 447.000 visitatori",
            "PARAGUAY: 400.000 visitatori",
            "SAMOA: 56.000 visitatori",
            "SEYCHELLES: 45.000 visitatori",
            "SIERRA LEONE: 104.000 visitatori",
            "UGANDA: 469.000 visitatori"
           ],
           "type": "scattergeo"
          },
          {
           "lat": [
            40.7696272,
            26.0667,
            27.549511,
            12.5433216,
            10.2735633,
            15.5855545,
            28.3780464,
            12.6090157,
            18.2247706,
            -18.4554963
           ],
           "lon": [
            44.6736646,
            50.5577,
            90.5119273,
            104.8144914,
            -84.0739102,
            -90.345759,
            83.9999901,
            -85.2936911,
            -66.4858295,
            29.7468414
           ],
           "marker": {
            "size": [
             8.191446322894576,
             8.01663676258844,
             8.048316856092034,
             8.051776857357588,
             8.035236570521944,
             7.988536138483431,
             8.110526558967194,
             8.201993150372326,
             8.121891151830733,
             7.9876163714056485
            ]
           },
           "text": [
            "ARMENIA: 965.000 visitatori",
            "BAHRAIN: 752.000 visitatori",
            "BHUTAN: 788.000 visitatori",
            "CAMBODIA: 792.000 visitatori",
            "COSTA RICA: 773.000 visitatori",
            "GUATEMALA: 721.000 visitatori",
            "NEPAL: 862.000 visitatori",
            "NICARAGUA: 979.000 visitatori",
            "PUERTO RICO: 876.000 visitatori",
            "ZIMBABWE: 720.000 visitatori"
           ],
           "type": "scattergeo"
          },
          {
           "lat": [
            41.000028,
            28.0000272,
            -34.9964963,
            40.3936294,
            24.4769288,
            42.6073975,
            -31.7613365,
            4.099917,
            34.9174159,
            -1.3397668,
            13.8000382,
            58.7523778,
            -26.5624806,
            42.3154,
            38.9953683,
            30.8124247,
            31.1667049,
            41.5089324,
            16.4990859,
            56.8406494,
            55.3500003,
            31.1728205,
            -41.5000831,
            21.0000287,
            -6.8699697,
            39.6621648,
            48.7411522,
            46.1199444,
            7.5554942,
            33.8439408,
            -32.8755548,
            -16.5255069
           ],
           "lon": [
            19.9999619,
            2.9999825,
            -64.9672817,
            47.7872508,
            90.2934413,
            25.4856617,
            -71.3187697,
            -72.9088133,
            32.889902651331866,
            -79.3666965,
            -88.9140683,
            25.3319078,
            31.3991317,
            43.3569,
            21.9877132,
            34.8594762,
            36.941628,
            74.724091,
            102.8330834,
            24.7537645,
            23.7499997,
            -7.3362482,
            172.8344077,
            57.0036901,
            -75.0458515,
            -8.1353519,
            19.4528646,
            14.8153333,
            80.7137847,
            9.400138,
            -56.0201525,
            168.1069154
           ],
           "marker": {
            "size": [
             9.508193721803554,
             8.75195901794827,
             9.545601689609502,
             9.482904811205625,
             8.91578084347602,
             9.447788830267566,
             9.35025207991135,
             9.25733540276932,
             8.352645590503604,
             8.233771257008033,
             8.516928377509362,
             8.321362008054741,
             8.482604986921103,
             9.100901014938817,
             9.709664324345741,
             9.619802444522188,
             8.687582062599255,
             9.405372108969953,
             8.818042370169493,
             8.712514674370262,
             9.551664039428374,
             8.93700579231755,
             8.871937647579507,
             9.5120294286757,
             8.925582577439748,
             8.457580626960103,
             9.08379382052549,
             9.651703890255991,
             8.400908488777977,
             9.16134018247778,
             8.705579800168014,
             8.664228261071838
            ]
           },
           "text": [
            "ALBANIA: 3.959.000 visitatori",
            "ALGERIA: 1.911.000 visitatori",
            "ARGENTINA: 4.087.000 visitatori",
            "AZERBAIJAN: 3.874.000 visitatori",
            "BANGLADESH: 2.273.000 visitatori",
            "BULGARIA: 3.758.000 visitatori",
            "CHILE: 3.448.000 visitatori",
            "COLOMBIA: 3.169.000 visitatori",
            "CYPRUS: 1.194.000 visitatori",
            "ECUADOR: 1.022.000 visitatori",
            "EL SALVADOR: 1.462.000 visitatori",
            "ESTONIA: 1.147.000 visitatori",
            "ESWATINI: 1.403.000 visitatori",
            "GEORGIA: 2.734.000 visitatori",
            "GREECE: 4.681.000 visitatori",
            "ISRAEL: 4.349.000 visitatori",
            "JORDAN: 1.780.000 visitatori",
            "KYRGYZSTAN: 3.621.000 visitatori",
            "LAO PEOPLE´S DEMOCRATIC REPUBLIC: 2.052.000 visitatori",
            "LATVIA: 1.830.000 visitatori",
            "LITHUANIA: 4.108.000 visitatori",
            "MOROCCO: 2.323.000 visitatori",
            "NEW ZEALAND: 2.172.000 visitatori",
            "OMAN: 3.972.000 visitatori",
            "PERU: 2.296.000 visitatori",
            "PORTUGAL: 1.361.000 visitatori",
            "SLOVAKIA: 2.689.000 visitatori",
            "SLOVENIA: 4.465.000 visitatori",
            "SRI LANKA: 1.269.000 visitatori",
            "TUNISIA: 2.897.000 visitatori",
            "URUGUAY: 1.816.000 visitatori",
            "VANUATU: 1.734.000 visitatori"
           ],
           "type": "scattergeo"
          },
          {
           "lat": [
            -24.7761086,
            47.59397,
            53.4250605,
            50.6402809,
            -10.3333333,
            45.3658443,
            55.670249,
            26.2540493,
            63.2467777,
            22.3511148,
            -2.4833826,
            52.865196,
            48.1012954,
            0.3448612,
            61.1529386,
            45.9852129,
            1.357107,
            39.3260685,
            24.93836745,
            9.8762687,
            38.9597594
           ],
           "lon": [
            134.755,
            14.12456,
            27.6971358,
            4.6667145,
            -53.2,
            15.6575209,
            10.3333283,
            29.2675469,
            25.9209164,
            78.6677428,
            117.8902853,
            -7.9794599,
            66.7780818,
            173.6641773,
            8.7876653,
            24.6859225,
            103.8194992,
            -4.8379791,
            118.58541419241348,
            102.06908954680432,
            34.9249653
           ],
           "marker": {
            "size": [
             10.474089972110544,
             10.925971760711413,
             10.497216029714858,
             10.709228665004474,
             10.525260719890387,
             9.831865373165492,
             10.406047127578297,
             9.956278559929617,
             10.774225187108708,
             11.459396967068827,
             10.331964236688574,
             10.159773765430549,
             10.624097379119428,
             11.311114926756796,
             10.655171056949008,
             10.95412588935259,
             10.444105794302594,
             11.458909041696037,
             10.815651518842,
             9.966240537809774,
             9.985100300926335
            ]
           },
           "text": [
            "AUSTRALIA: 8.212.000 visitatori",
            "AUSTRIA: 10.960.000 visitatori",
            "BELARUS: 8.340.000 visitatori",
            "BELGIUM: 9.576.000 visitatori",
            "BRAZIL: 8.497.000 visitatori",
            "CROATIA: 5.159.000 visitatori",
            "DENMARK: 7.843.000 visitatori",
            "EGYPT: 5.678.000 visitatori",
            "FINLAND: 9.978.000 visitatori",
            "INDIA: 14.920.000 visitatori",
            "INDONESIA: 7.454.000 visitatori",
            "IRELAND: 6.600.000 visitatori",
            "KAZAKHSTAN: 9.066.000 visitatori",
            "KIRIBATI: 13.737.000 visitatori",
            "NORWAY: 9.250.000 visitatori",
            "ROMANIA: 11.149.000 visitatori",
            "SINGAPORE: 8.048.000 visitatori",
            "SPAIN: 14.916.000 visitatori",
            "TAIWAN PROVINCE OF CHINA: 10.240.000 visitatori",
            "THAILAND: 5.721.000 visitatori",
            "TÜRKIYE: 5.803.000 visitatori"
           ],
           "type": "scattergeo"
          },
          {
           "lat": [
            46.603354,
            47.1817585,
            36.5748441,
            49.6112768,
            52.2434979,
            25.6242618,
            59.6749712,
            46.8182,
            49.4871968
           ],
           "lon": [
            1.8883335,
            19.5060937,
            139.2394179,
            6.129799,
            5.6343227,
            42.3528328,
            14.5208584,
            8.2275,
            31.2718321
           ],
           "marker": {
            "size": [
             12.863161744917232,
             11.604667015017583,
             11.86419674615449,
             12.389537245375946,
             11.878643755701708,
             12.02798001781688,
             11.534944159380577,
             12.048817546847886,
             12.190723809104629
            ]
           },
           "text": [
            "FRANCE: 29.642.000 visitatori",
            "HUNGARY: 16.143.000 visitatori",
            "JAPAN: 18.491.000 visitatori",
            "LUXEMBOURG: 23.919.000 visitatori",
            "NETHERLANDS: 18.628.000 visitatori",
            "SAUDI ARABIA: 20.084.000 visitatori",
            "SWEDEN: 15.548.000 visitatori",
            "SWITZERLAND: 20.293.000 visitatori",
            "UKRAINE: 21.755.000 visitatori"
           ],
           "type": "scattergeo"
          },
          {
           "lat": [
            52.215933,
            64.6863136
           ],
           "lon": [
            19.134422,
            97.7453061
           ],
           "marker": {
            "size": [
             14.075587644461027,
             14.048909873529155
            ]
           },
           "text": [
            "POLAND: 48.290.000 visitatori",
            "RUSSIAN FEDERATION: 47.813.000 visitatori"
           ],
           "type": "scattergeo"
          },
          {
           "lat": [
            61.0666922,
            35.0000663,
            51.1638175,
            22.2793278,
            42.6384261,
            23.6585116,
            54.7023545,
            39.7837304
           ],
           "lon": [
            -107.991707,
            104.999955,
            10.4478313,
            114.1628131,
            12.674297,
            -102.0077097,
            -3.2765753,
            -100.445882
           ],
           "marker": {
            "size": [
             14.924645290616889,
             15.68050883877368,
             15.662903847137077,
             15.76106804040878,
             14.347709145480488,
             15.838892189980202,
             15.000628986093297,
             16.825577281292972
            ]
           },
           "text": [
            "CANADA: 65.179.000 visitatori",
            "CHINA: 83.182.000 visitatori",
            "GERMANY: 82.729.000 visitatori",
            "HONG KONG: 85.276.000 visitatori",
            "ITALY: 53.338.000 visitatori",
            "MEXICO: 87.332.000 visitatori",
            "UNITED KINGDOM: 66.858.000 visitatori",
            "UNITED STATES OF AMERICA: 116.329.000 visitatori"
           ],
           "type": "scattergeo"
          }
         ],
         "name": "2012",
         "traces": [
          0,
          1,
          2,
          3,
          4,
          5,
          6,
          7
         ]
        },
        {
         "data": [
          {
           "lat": [],
           "lon": [],
           "marker": {
            "size": []
           },
           "text": [],
           "type": "scattergeo"
          },
          {
           "lat": [
            -19.99697155,
            23.0131338,
            19.0974031,
            -17.0243749,
            64.9841821,
            35.8885993,
            -20.2759451,
            -21.3019905,
            -23.3165935,
            -13.7693895,
            -4.6574977,
            8.6400349
           ],
           "lon": [
            -157.78587140620786,
            -80.8328748,
            -70.3028026,
            -144.6434898,
            -18.1059013,
            14.4476911,
            57.5703566,
            165.4880773,
            -58.1693445,
            -172.12005,
            55.4540146,
            -11.8400269
           ],
           "marker": {
            "size": [
             6.507709724462665,
             7.570234508438478,
             7.669927787633545,
             6.80593895070652,
             7.633961164765843,
             7.673829502255037,
             7.344796863285424,
             7.105848487178287,
             7.668623156018394,
             6.85345380371808,
             6.8169805823829215,
             7.004730029301967
            ]
           },
           "text": [
            "COOK ISLANDS: 12.000 visitatori",
            "CUBA: 355.000 visitatori",
            "DOMINICAN REPUBLIC: 427.000 visitatori",
            "FRENCH POLYNESIA: 48.000 visitatori",
            "ICELAND: 400.000 visitatori",
            "MALTA: 430.000 visitatori",
            "MAURITIUS: 223.000 visitatori",
            "NEW CALEDONIA: 124.000 visitatori",
            "PARAGUAY: 426.000 visitatori",
            "SAMOA: 57.000 visitatori",
            "SEYCHELLES: 50.000 visitatori",
            "SIERRA LEONE: 93.000 visitatori"
           ],
           "type": "scattergeo"
          },
          {
           "lat": [
            27.549511,
            12.5433216,
            10.2735633,
            15.5855545,
            15.2572432,
            12.6090157,
            8.559559,
            18.2247706,
            1.5333554
           ],
           "lon": [
            90.5119273,
            104.8144914,
            -84.0739102,
            -90.345759,
            -86.0755145,
            -85.2936911,
            -81.1308434,
            -66.4858295,
            32.2166578
           ],
           "marker": {
            "size": [
             8.166175820913585,
             8.184612246325273,
             8.056945082862054,
             8.211696974356574,
             7.824624343719057,
             8.186895019403355,
             8.103155626193843,
             8.052640036616907,
             7.772945421615439
            ]
           },
           "text": [
            "BHUTAN: 932.000 visitatori",
            "CAMBODIA: 956.000 visitatori",
            "COSTA RICA: 798.000 visitatori",
            "GUATEMALA: 992.000 visitatori",
            "HONDURAS: 557.000 visitatori",
            "NICARAGUA: 959.000 visitatori",
            "PANAMA: 853.000 visitatori",
            "PUERTO RICO: 793.000 visitatori",
            "UGANDA: 511.000 visitatori"
           ],
           "type": "scattergeo"
          },
          {
           "lat": [
            41.000028,
            28.0000272,
            40.7696272,
            40.3936294,
            42.6073975,
            -31.7613365,
            4.099917,
            45.3658443,
            34.9174159,
            -1.3397668,
            13.8000382,
            58.7523778,
            -26.5624806,
            42.3154,
            31.1667049,
            41.5089324,
            16.4990859,
            56.8406494,
            55.3500003,
            31.1728205,
            -41.5000831,
            21.0000287,
            -6.8699697,
            12.7503486,
            39.6621648,
            48.7411522,
            46.1199444,
            7.5554942,
            33.8439408,
            -32.8755548,
            41.32373,
            -16.5255069,
            -18.4554963
           ],
           "lon": [
            19.9999619,
            2.9999825,
            44.6736646,
            47.7872508,
            25.4856617,
            -71.3187697,
            -72.9088133,
            15.6575209,
            32.889902651331866,
            -79.3666965,
            -88.9140683,
            25.3319078,
            31.3991317,
            43.3569,
            36.941628,
            74.724091,
            102.8330834,
            24.7537645,
            23.7499997,
            -7.3362482,
            172.8344077,
            57.0036901,
            -75.0458515,
            122.7312101,
            -8.1353519,
            19.4528646,
            14.8153333,
            80.7137847,
            9.400138,
            -56.0201525,
            63.9528098,
            168.1069154,
            29.7468414
           ],
           "marker": {
            "size": [
             9.562581696958674,
             9.140100373955754,
             8.355269848775663,
             9.59043325857252,
             9.566015512768182,
             9.473288459077905,
             9.493957932561436,
             9.698270283580484,
             8.362456569692409,
             8.286433551920997,
             8.546982400622031,
             8.49609767030049,
             8.624193784849243,
             9.235605390149846,
             8.484962078284182,
             9.45754735060783,
             9.308271124717077,
             8.720397071530318,
             9.603918580494105,
             8.722360548986806,
             8.917063069166126,
             9.72177631026868,
             8.98632419543338,
             9.36315764677834,
             8.539676365074872,
             8.971576675098499,
             9.707285317072264,
             8.427109091222565,
             9.063786110807408,
             8.967454060655173,
             9.120437131506343,
             8.587793983610243,
             9.261783450336715
            ]
           },
           "text": [
            "ALBANIA: 4.146.000 visitatori",
            "ALGERIA: 2.839.000 visitatori",
            "ARMENIA: 1.198.000 visitatori",
            "AZERBAIJAN: 4.244.000 visitatori",
            "BULGARIA: 4.158.000 visitatori",
            "CHILE: 3.842.000 visitatori",
            "COLOMBIA: 3.911.000 visitatori",
            "CROATIA: 4.638.000 visitatori",
            "CYPRUS: 1.209.000 visitatori",
            "ECUADOR: 1.096.000 visitatori",
            "EL SALVADOR: 1.515.000 visitatori",
            "ESTONIA: 1.426.000 visitatori",
            "ESWATINI: 1.657.000 visitatori",
            "GEORGIA: 3.106.000 visitatori",
            "JORDAN: 1.407.000 visitatori",
            "KYRGYZSTAN: 3.790.000 visitatori",
            "LAO PEOPLE´S DEMOCRATIC REPUBLIC: 3.320.000 visitatori",
            "LATVIA: 1.846.000 visitatori",
            "LITHUANIA: 4.292.000 visitatori",
            "MOROCCO: 1.850.000 visitatori",
            "NEW ZEALAND: 2.276.000 visitatori",
            "OMAN: 4.727.000 visitatori",
            "PERU: 2.442.000 visitatori",
            "PHILIPPINES: 3.488.000 visitatori",
            "PORTUGAL: 1.502.000 visitatori",
            "SLOVAKIA: 2.406.000 visitatori",
            "SLOVENIA: 4.672.000 visitatori",
            "SRI LANKA: 1.311.000 visitatori",
            "TUNISIA: 2.637.000 visitatori",
            "URUGUAY: 2.396.000 visitatori",
            "UZBEKISTAN: 2.786.000 visitatori",
            "VANUATU: 1.589.000 visitatori",
            "ZIMBABWE: 3.182.000 visitatori"
           ],
           "type": "scattergeo"
          },
          {
           "lat": [
            -34.9964963,
            -24.7761086,
            47.59397,
            53.4250605,
            50.6402809,
            -10.3333333,
            55.670249,
            26.2540493,
            63.2467777,
            38.9953683,
            -2.4833826,
            52.865196,
            30.8124247,
            48.1012954,
            61.1529386,
            45.9852129,
            1.357107,
            39.3260685,
            24.93836745,
            9.8762687,
            38.9597594
           ],
           "lon": [
            -64.9672817,
            134.755,
            14.12456,
            27.6971358,
            4.6667145,
            -53.2,
            10.3333283,
            29.2675469,
            25.9209164,
            21.9877132,
            117.8902853,
            -7.9794599,
            34.8594762,
            66.7780818,
            8.7876653,
            24.6859225,
            103.8194992,
            -4.8379791,
            118.58541419241348,
            102.06908954680432,
            34.9249653
           ],
           "marker": {
            "size": [
             10.415017346262813,
             10.69343901196674,
             10.931060268913026,
             10.667885595776795,
             10.930611705254687,
             10.715940008343235,
             10.530757280513006,
             10.069595316315127,
             10.742919471199208,
             9.98487137742509,
             10.448886383452013,
             10.175679676169235,
             9.83730450803641,
             10.848348505399166,
             10.645083980796834,
             11.118919897243007,
             10.596216994619256,
             11.338679986430833,
             11.055142720864668,
             10.12673812598031,
             10.431924032791462
            ]
           },
           "text": [
            "ARGENTINA: 7.891.000 visitatori",
            "AUSTRALIA: 9.480.000 visitatori",
            "AUSTRIA: 10.994.000 visitatori",
            "BELARUS: 9.326.000 visitatori",
            "BELGIUM: 10.991.000 visitatori",
            "BRAZIL: 9.617.000 visitatori",
            "DENMARK: 8.528.000 visitatori",
            "EGYPT: 6.180.000 visitatori",
            "FINLAND: 9.783.000 visitatori",
            "GREECE: 5.802.000 visitatori",
            "INDONESIA: 8.074.000 visitatori",
            "IRELAND: 6.676.000 visitatori",
            "ISRAEL: 5.181.000 visitatori",
            "KAZAKHSTAN: 10.450.000 visitatori",
            "NORWAY: 9.190.000 visitatori",
            "ROMANIA: 12.299.000 visitatori",
            "SINGAPORE: 8.903.000 visitatori",
            "SPAIN: 13.952.000 visitatori",
            "TAIWAN PROVINCE OF CHINA: 11.845.000 visitatori",
            "THAILAND: 6.444.000 visitatori",
            "TÜRKIYE: 7.982.000 visitatori"
           ],
           "type": "scattergeo"
          },
          {
           "lat": [
            47.1817585,
            22.3511148,
            36.5748441,
            0.3448612,
            49.6112768,
            52.2434979,
            25.6242618,
            46.8182,
            49.4871968
           ],
           "lon": [
            19.5060937,
            78.6677428,
            139.2394179,
            173.6641773,
            6.129799,
            5.6343227,
            42.3528328,
            8.2275,
            31.2718321
           ],
           "marker": {
            "size": [
             11.627373621755986,
             11.847127375732684,
             11.691276212797309,
             11.597482576540225,
             12.370424695734918,
             11.804066070894098,
             12.244139343791971,
             12.00276309354087,
             12.273280258385839
            ]
           },
           "text": [
            "HUNGARY: 16.340.000 visitatori",
            "INDIA: 18.330.000 visitatori",
            "JAPAN: 16.903.000 visitatori",
            "KIRIBATI: 16.081.000 visitatori",
            "LUXEMBOURG: 23.705.000 visitatori",
            "NETHERLANDS: 17.928.000 visitatori",
            "SAUDI ARABIA: 22.323.000 visitatori",
            "SWITZERLAND: 19.833.000 visitatori",
            "UKRAINE: 22.637.000 visitatori"
           ],
           "type": "scattergeo"
          },
          {
           "lat": [
            46.603354,
            52.215933,
            64.6863136
           ],
           "lon": [
            1.8883335,
            19.134422,
            97.7453061
           ],
           "marker": {
            "size": [
             13.036195579585044,
             13.28153297250033,
             13.939465472243173
            ]
           },
           "text": [
            "FRANCE: 31.941.000 visitatori",
            "POLAND: 35.400.000 visitatori",
            "RUSSIAN FEDERATION: 45.889.000 visitatori"
           ],
           "type": "scattergeo"
          },
          {
           "lat": [
            61.0666922,
            35.0000663,
            51.1638175,
            22.2793278,
            42.6384261,
            23.6585116,
            54.7023545,
            39.7837304
           ],
           "lon": [
            -107.991707,
            104.999955,
            10.4478313,
            114.1628131,
            12.674297,
            -102.0077097,
            -3.2765753,
            -100.445882
           ],
           "marker": {
            "size": [
             14.858338513735832,
             16.833760374513954,
             15.67375423486927,
             15.732098961369061,
             14.4421572440331,
             15.974096358623122,
             15.23440289803616,
             16.989655275508365
            ]
           },
           "text": [
            "CANADA: 63.737.000 visitatori",
            "CHINA: 116.593.000 visitatori",
            "GERMANY: 83.008.000 visitatori",
            "HONG KONG: 84.519.000 visitatori",
            "ITALY: 55.169.000 visitatori",
            "MEXICO: 90.982.000 visitatori",
            "UNITED KINGDOM: 72.204.000 visitatori",
            "UNITED STATES OF AMERICA: 121.699.000 visitatori"
           ],
           "type": "scattergeo"
          }
         ],
         "name": "2014",
         "traces": [
          0,
          1,
          2,
          3,
          4,
          5,
          6,
          7
         ]
        },
        {
         "data": [
          {
           "lat": [],
           "lon": [],
           "marker": {
            "size": []
           },
           "text": [],
           "type": "scattergeo"
          },
          {
           "lat": [
            15.4542,
            -0.7264327,
            -19.99697155,
            23.0131338,
            -18.1239696,
            -17.0243749,
            8.0300284,
            -20.2759451,
            -21.3019905,
            -4.6574977,
            8.6400349,
            8.7800265
           ],
           "lon": [
            18.7322,
            15.6419155,
            -157.78587140620786,
            -80.8328748,
            179.0122737,
            -144.6434898,
            -1.0800271,
            57.5703566,
            165.4880773,
            55.4540146,
            -11.8400269,
            1.0199765
           ],
           "marker": {
            "size": [
             6.84843337107004,
             7.666007754935192,
             6.534479531822205,
             7.6132758881514455,
             7.193795486422213,
             6.80593895070652,
             7.27712338005179,
             7.415401057528543,
             7.134810466131583,
             6.905158645761124,
             7.0011158612729965,
             7.27712338005179
            ]
           },
           "text": [
            "CHAD: 56.000 visitatori",
            "CONGO: 424.000 visitatori",
            "COOK ISLANDS: 14.000 visitatori",
            "CUBA: 385.000 visitatori",
            "FIJI: 156.000 visitatori",
            "FRENCH POLYNESIA: 48.000 visitatori",
            "GHANA: 191.000 visitatori",
            "MAURITIUS: 260.000 visitatori",
            "NEW CALEDONIA: 134.000 visitatori",
            "SEYCHELLES: 68.000 visitatori",
            "SIERRA LEONE: 92.000 visitatori",
            "TOGO: 191.000 visitatori"
           ],
           "type": "scattergeo"
          },
          {
           "lat": [
            27.549511,
            19.0974031,
            15.2572432,
            64.9841821,
            35.8885993,
            12.6090157,
            18.2247706,
            1.5333554
           ],
           "lon": [
            90.5119273,
            -70.3028026,
            -86.0755145,
            -18.1059013,
            14.4476911,
            -85.2936911,
            -66.4858295,
            32.2166578
           ],
           "marker": {
            "size": [
             8.172356099257065,
             7.760131307768217,
             7.934688690298032,
             7.801399327721797,
             7.816948549601341,
             8.203491615040546,
             8.049182952117482,
             7.836557422331228
            ]
           },
           "text": [
            "BHUTAN: 940.000 visitatori",
            "DOMINICAN REPUBLIC: 500.000 visitatori",
            "HONDURAS: 664.000 visitatori",
            "ICELAND: 536.000 visitatori",
            "MALTA: 550.000 visitatori",
            "NICARAGUA: 981.000 visitatori",
            "PUERTO RICO: 789.000 visitatori",
            "UGANDA: 568.000 visitatori"
           ],
           "type": "scattergeo"
          },
          {
           "lat": [
            41.000028,
            28.0000272,
            40.7696272,
            40.3936294,
            53.4250605,
            12.5433216,
            -31.7613365,
            4.099917,
            10.2735633,
            45.3658443,
            34.9174159,
            -1.3397668,
            13.8000382,
            58.7523778,
            -26.5624806,
            42.3154,
            15.5855545,
            31.1667049,
            41.5089324,
            16.4990859,
            56.8406494,
            55.3500003,
            31.1728205,
            -41.5000831,
            8.559559,
            -23.3165935,
            -6.8699697,
            39.6621648,
            48.7411522,
            7.5554942,
            33.8439408,
            -32.8755548,
            41.32373,
            -16.5255069,
            -18.4554963
           ],
           "lon": [
            19.9999619,
            2.9999825,
            44.6736646,
            47.7872508,
            27.6971358,
            104.8144914,
            -71.3187697,
            -72.9088133,
            -84.0739102,
            15.6575209,
            32.889902651331866,
            -79.3666965,
            -88.9140683,
            25.3319078,
            31.3991317,
            43.3569,
            -90.345759,
            36.941628,
            74.724091,
            102.8330834,
            24.7537645,
            23.7499997,
            -7.3362482,
            172.8344077,
            -81.1308434,
            -58.1693445,
            -75.0458515,
            -8.1353519,
            19.4528646,
            80.7137847,
            9.400138,
            -56.0201525,
            63.9528098,
            168.1069154,
            29.7468414
           ],
           "marker": {
            "size": [
             9.754297323580364,
             9.669338692211534,
             8.397118571682048,
             9.601117461239877,
             9.129371860675374,
             8.500756752824966,
             9.59746947876971,
             9.459067151836786,
             8.243924902263617,
             9.04194297180154,
             8.400277666760298,
             8.460586477102494,
             8.69960719840288,
             8.444266705624988,
             8.692104082449031,
             9.334632962250657,
             8.353302203875822,
             8.669850090684974,
             9.57371751404427,
             9.219201974593338,
             8.765334484545463,
             9.56172220797551,
             8.729210514542334,
             9.053683508746305,
             8.254702804912121,
             8.54023986106964,
             9.10731486911209,
             8.766284934692322,
             9.23178120486386,
             8.50886862486618,
             8.712514674370262,
             8.654461563926922,
             9.475095581390981,
             8.555360692543132,
             9.265196788376041
            ]
           },
           "text": [
            "ALBANIA: 4.852.000 visitatori",
            "ALGERIA: 4.530.000 visitatori",
            "ARMENIA: 1.263.000 visitatori",
            "AZERBAIJAN: 4.282.000 visitatori",
            "BELARUS: 2.810.000 visitatori",
            "CAMBODIA: 1.434.000 visitatori",
            "CHILE: 4.269.000 visitatori",
            "COLOMBIA: 3.795.000 visitatori",
            "COSTA RICA: 1.036.000 visitatori",
            "CROATIA: 2.581.000 visitatori",
            "CYPRUS: 1.268.000 visitatori",
            "ECUADOR: 1.366.000 visitatori",
            "EL SALVADOR: 1.804.000 visitatori",
            "ESTONIA: 1.339.000 visitatori",
            "ESWATINI: 1.789.000 visitatori",
            "GEORGIA: 3.400.000 visitatori",
            "GUATEMALA: 1.195.000 visitatori",
            "JORDAN: 1.745.000 visitatori",
            "KYRGYZSTAN: 4.185.000 visitatori",
            "LAO PEOPLE´S DEMOCRATIC REPUBLIC: 3.059.000 visitatori",
            "LATVIA: 1.939.000 visitatori",
            "LITHUANIA: 4.143.000 visitatori",
            "MOROCCO: 1.864.000 visitatori",
            "NEW ZEALAND: 2.611.000 visitatori",
            "PANAMA: 1.051.000 visitatori",
            "PARAGUAY: 1.503.000 visitatori",
            "PERU: 2.751.000 visitatori",
            "PORTUGAL: 1.941.000 visitatori",
            "SLOVAKIA: 3.095.000 visitatori",
            "SRI LANKA: 1.448.000 visitatori",
            "TUNISIA: 1.830.000 visitatori",
            "URUGUAY: 1.715.000 visitatori",
            "UZBEKISTAN: 3.848.000 visitatori",
            "VANUATU: 1.530.000 visitatori",
            "ZIMBABWE: 3.192.000 visitatori"
           ],
           "type": "scattergeo"
          },
          {
           "lat": [
            -24.7761086,
            47.59397,
            50.6402809,
            -10.3333333,
            42.6073975,
            55.670249,
            63.2467777,
            38.9953683,
            -2.4833826,
            52.865196,
            30.8124247,
            48.1012954,
            61.1529386,
            21.0000287,
            12.7503486,
            1.357107,
            46.1199444,
            24.93836745,
            9.8762687,
            38.9597594
           ],
           "lon": [
            134.755,
            14.12456,
            4.6667145,
            -53.2,
            25.4856617,
            10.3333283,
            25.9209164,
            21.9877132,
            117.8902853,
            -7.9794599,
            34.8594762,
            66.7780818,
            8.7876653,
            57.0036901,
            122.7312101,
            103.8194992,
            14.8153333,
            118.58541419241348,
            102.06908954680432,
            34.9249653
           ],
           "marker": {
            "size": [
             10.839051553526268,
             11.010507487471735,
             11.263652246923218,
             10.59087615740631,
             9.888705260631465,
             10.721491059349002,
             10.821601026085947,
             10.289117181226754,
             10.497216029714858,
             10.368843599571058,
             10.197457567986104,
             10.73855213956622,
             10.440790121004337,
             10.007634760380071,
             9.962076502687673,
             10.692448625988408,
             9.892547857262628,
             11.418722463554587,
             10.47263663760124,
             10.41520383850542
            ]
           },
           "text": [
            "AUSTRALIA: 10.390.000 visitatori",
            "AUSTRIA: 11.534.000 visitatori",
            "BELGIUM: 13.372.000 visitatori",
            "BRAZIL: 8.872.000 visitatori",
            "BULGARIA: 5.392.000 visitatori",
            "DENMARK: 9.651.000 visitatori",
            "FINLAND: 10.278.000 visitatori",
            "GREECE: 7.235.000 visitatori",
            "INDONESIA: 8.340.000 visitatori",
            "IRELAND: 7.646.000 visitatori",
            "ISRAEL: 6.781.000 visitatori",
            "KAZAKHSTAN: 9.756.000 visitatori",
            "NORWAY: 8.030.000 visitatori",
            "OMAN: 5.902.000 visitatori",
            "PHILIPPINES: 5.703.000 visitatori",
            "SINGAPORE: 9.474.000 visitatori",
            "SLOVENIA: 5.408.000 visitatori",
            "TAIWAN PROVINCE OF CHINA: 14.589.000 visitatori",
            "THAILAND: 8.204.000 visitatori",
            "TÜRKIYE: 7.892.000 visitatori"
           ],
           "type": "scattergeo"
          },
          {
           "lat": [
            46.603354,
            47.1817585,
            22.3511148,
            36.5748441,
            0.3448612,
            49.6112768,
            52.2434979,
            45.9852129,
            25.6242618,
            39.3260685,
            46.8182,
            49.4871968,
            24.0002488
           ],
           "lon": [
            1.8883335,
            19.5060937,
            78.6677428,
            139.2394179,
            173.6641773,
            6.129799,
            5.6343227,
            24.6859225,
            42.3528328,
            -4.8379791,
            8.2275,
            31.2718321,
            53.9994829
           ],
           "marker": {
            "size": [
             12.86269864358351,
             11.906597335990067,
             12.201802029877634,
             11.715082346570956,
             12.249728694083142,
             12.623261577056645,
             11.828138906011961,
             11.60293053361538,
             12.703256040177424,
             11.841486406198609,
             12.16988042477186,
             12.503860190107847,
             11.889144356317697
            ]
           },
           "text": [
            "FRANCE: 29.636.000 visitatori",
            "HUNGARY: 18.895.000 visitatori",
            "INDIA: 21.872.000 visitatori",
            "JAPAN: 17.116.000 visitatori",
            "KIRIBATI: 22.383.000 visitatori",
            "LUXEMBOURG: 26.641.000 visitatori",
            "NETHERLANDS: 18.152.000 visitatori",
            "ROMANIA: 16.128.000 visitatori",
            "SAUDI ARABIA: 27.618.000 visitatori",
            "SPAIN: 18.277.000 visitatori",
            "SWITZERLAND: 21.536.000 visitatori",
            "UKRAINE: 25.226.000 visitatori",
            "UNITED ARAB EMIRATES: 18.728.000 visitatori"
           ],
           "type": "scattergeo"
          },
          {
           "lat": [
            52.215933,
            64.6863136
           ],
           "lon": [
            19.134422,
            97.7453061
           ],
           "marker": {
            "size": [
             13.858537623942944,
             13.015427336685162
            ]
           },
           "text": [
            "POLAND: 44.500.000 visitatori",
            "RUSSIAN FEDERATION: 31.659.000 visitatori"
           ],
           "type": "scattergeo"
          },
          {
           "lat": [
            61.0666922,
            35.0000663,
            51.1638175,
            22.2793278,
            42.6384261,
            23.6585116,
            54.7023545,
            39.7837304
           ],
           "lon": [
            -107.991707,
            104.999955,
            10.4478313,
            114.1628131,
            12.674297,
            -102.0077097,
            -3.2765753,
            -100.445882
           ],
           "marker": {
            "size": [
             14.328938435534925,
             17.379914314142994,
             15.97351164627159,
             16.002373004955324,
             14.558427701437598,
             16.202339310239235,
             15.624910846996384,
             17.556699226162714
            ]
           },
           "text": [
            "CANADA: 52.979.000 visitatori",
            "CHINA: 135.130.000 visitatori",
            "GERMANY: 90.966.000 visitatori",
            "HONG KONG: 91.758.000 visitatori",
            "ITALY: 57.480.000 visitatori",
            "MEXICO: 97.372.000 visitatori",
            "UNITED KINGDOM: 81.757.000 visitatori",
            "UNITED STATES OF AMERICA: 141.526.000 visitatori"
           ],
           "type": "scattergeo"
          }
         ],
         "name": "2016",
         "traces": [
          0,
          1,
          2,
          3,
          4,
          5,
          6,
          7
         ]
        },
        {
         "data": [
          {
           "lat": [],
           "lon": [],
           "marker": {
            "size": []
           },
           "text": [],
           "type": "scattergeo"
          },
          {
           "lat": [
            -19.99697155,
            -18.1239696,
            -17.0243749,
            8.0300284,
            -20.2759451,
            -21.3019905,
            -13.7693895,
            -4.6574977,
            8.6400349,
            8.7800265
           ],
           "lon": [
            -157.78587140620786,
            179.0122737,
            -144.6434898,
            -1.0800271,
            57.5703566,
            165.4880773,
            -172.12005,
            55.4540146,
            -11.8400269,
            1.0199765
           ],
           "marker": {
            "size": [
             6.534479531822205,
             7.238049899365619,
             6.800302829592659,
             7.364605257271167,
             7.477924686578554,
             7.148753021027327,
             6.887050594094467,
             6.922569795502241,
             7.068959063644411,
             7.3704369745215965
            ]
           },
           "text": [
            "COOK ISLANDS: 14.000 visitatori",
            "FIJI: 174.000 visitatori",
            "FRENCH POLYNESIA: 47.000 visitatori",
            "GHANA: 233.000 visitatori",
            "MAURITIUS: 296.000 visitatori",
            "NEW CALEDONIA: 139.000 visitatori",
            "SAMOA: 64.000 visitatori",
            "SEYCHELLES: 72.000 visitatori",
            "SIERRA LEONE: 112.000 visitatori",
            "TOGO: 236.000 visitatori"
           ],
           "type": "scattergeo"
          },
          {
           "lat": [
            23.0131338,
            19.0974031,
            15.2572432,
            64.9841821,
            35.8885993,
            12.6090157,
            18.2247706
           ],
           "lon": [
            -80.8328748,
            -70.3028026,
            -86.0755145,
            -18.1059013,
            14.4476911,
            -85.2936911,
            -66.4858295
           ],
           "marker": {
            "size": [
             7.819148247330046,
             7.7764082144397975,
             7.761303947227525,
             7.938565832312076,
             7.994950815616841,
             8.198238038804906,
             7.997687377093488
            ]
           },
           "text": [
            "CUBA: 552.000 visitatori",
            "DOMINICAN REPUBLIC: 514.000 visitatori",
            "HONDURAS: 501.000 visitatori",
            "ICELAND: 668.000 visitatori",
            "MALTA: 728.000 visitatori",
            "NICARAGUA: 974.000 visitatori",
            "PUERTO RICO: 731.000 visitatori"
           ],
           "type": "scattergeo"
          },
          {
           "lat": [
            40.7696272,
            40.3936294,
            53.4250605,
            27.549511,
            12.5433216,
            -31.7613365,
            4.099917,
            10.2735633,
            45.3658443,
            34.9174159,
            -1.3397668,
            13.8000382,
            58.7523778,
            -26.5624806,
            42.3154,
            15.5855545,
            31.1667049,
            16.4990859,
            56.8406494,
            55.3500003,
            31.1728205,
            -41.5000831,
            8.559559,
            -23.3165935,
            -6.8699697,
            39.6621648,
            48.7411522,
            7.5554942,
            33.8439408,
            -32.8755548,
            -18.4554963
           ],
           "lon": [
            44.6736646,
            47.7872508,
            27.6971358,
            90.5119273,
            104.8144914,
            -71.3187697,
            -72.9088133,
            -84.0739102,
            15.6575209,
            32.889902651331866,
            -79.3666965,
            -88.9140683,
            25.3319078,
            31.3991317,
            43.3569,
            -90.345759,
            36.941628,
            102.8330834,
            24.7537645,
            23.7499997,
            -7.3362482,
            172.8344077,
            -81.1308434,
            -58.1693445,
            -75.0458515,
            -8.1353519,
            19.4528646,
            80.7137847,
            9.400138,
            -56.0201525,
            29.7468414
           ],
           "marker": {
            "size": [
             8.60612098361783,
             9.7686856827967,
             9.481405755837873,
             8.261120399689908,
             8.791703984644515,
             9.6894781663159,
             9.625066208744634,
             8.274550313719402,
             9.191247501483497,
             8.507712996593579,
             8.482015014230894,
             8.691602385813773,
             8.825803096264158,
             8.655493023740824,
             9.429341238989423,
             8.559806740120601,
             8.53911261891538,
             9.270303454170001,
             8.87325929417544,
             9.715203507118675,
             8.757707251920323,
             9.211818457902119,
             8.232313181360702,
             8.737967399727223,
             9.22585323725177,
             9.004153419002233,
             9.704638389628723,
             8.524936839949326,
             9.015789764516615,
             8.769132373588533,
             8.922180734165256
            ]
           },
           "text": [
            "ARMENIA: 1.623.000 visitatori",
            "AZERBAIJAN: 4.908.000 visitatori",
            "BELARUS: 3.869.000 visitatori",
            "BHUTAN: 1.060.000 visitatori",
            "CAMBODIA: 1.995.000 visitatori",
            "CHILE: 4.605.000 visitatori",
            "COLOMBIA: 4.368.000 visitatori",
            "COSTA RICA: 1.079.000 visitatori",
            "CROATIA: 2.980.000 visitatori",
            "CYPRUS: 1.446.000 visitatori",
            "ECUADOR: 1.402.000 visitatori",
            "EL SALVADOR: 1.788.000 visitatori",
            "ESTONIA: 2.069.000 visitatori",
            "ESWATINI: 1.717.000 visitatori",
            "GEORGIA: 3.698.000 visitatori",
            "GUATEMALA: 1.538.000 visitatori",
            "JORDAN: 1.501.000 visitatori",
            "LAO PEOPLE´S DEMOCRATIC REPUBLIC: 3.207.000 visitatori",
            "LATVIA: 2.175.000 visitatori",
            "LITHUANIA: 4.702.000 visitatori",
            "MOROCCO: 1.923.000 visitatori",
            "NEW ZEALAND: 3.038.000 visitatori",
            "PANAMA: 1.020.000 visitatori",
            "PARAGUAY: 1.882.000 visitatori",
            "PERU: 3.078.000 visitatori",
            "PORTUGAL: 2.486.000 visitatori",
            "SLOVAKIA: 4.662.000 visitatori",
            "SRI LANKA: 1.476.000 visitatori",
            "TUNISIA: 2.515.000 visitatori",
            "URUGUAY: 1.947.000 visitatori",
            "ZIMBABWE: 2.288.000 visitatori"
           ],
           "type": "scattergeo"
          },
          {
           "lat": [
            41.000028,
            28.0000272,
            -24.7761086,
            47.59397,
            -10.3333333,
            42.6073975,
            55.670249,
            63.2467777,
            38.9953683,
            -2.4833826,
            52.865196,
            30.8124247,
            48.1012954,
            41.5089324,
            61.1529386,
            21.0000287,
            1.357107,
            46.1199444,
            9.8762687,
            38.9597594,
            41.32373
           ],
           "lon": [
            19.9999619,
            2.9999825,
            134.755,
            14.12456,
            -53.2,
            25.4856617,
            10.3333283,
            25.9209164,
            21.9877132,
            117.8902853,
            -7.9794599,
            34.8594762,
            66.7780818,
            74.724091,
            8.7876653,
            57.0036901,
            103.8194992,
            14.8153333,
            102.06908954680432,
            34.9249653,
            63.9528098
           ],
           "marker": {
            "size": [
             9.894226610166257,
             9.940421561871588,
             10.99146589271944,
             10.938375285333866,
             10.875721771125324,
             10.180469497961134,
             10.33602854005854,
             10.852983640636438,
             10.428033940732417,
             10.691457821772726,
             10.551032156095722,
             10.520996129573088,
             10.878472790199408,
             10.20939099521614,
             10.455488747405653,
             10.024090163888918,
             10.837187870864172,
             9.892787767762915,
             10.772310518691175,
             10.504931812679242,
             10.542415420813802
            ]
           },
           "text": [
            "ALBANIA: 5.415.000 visitatori",
            "ALGERIA: 5.610.000 visitatori",
            "AUSTRALIA: 11.403.000 visitatori",
            "AUSTRIA: 11.043.000 visitatori",
            "BRAZIL: 10.628.000 visitatori",
            "BULGARIA: 6.699.000 visitatori",
            "DENMARK: 7.475.000 visitatori",
            "FINLAND: 10.480.000 visitatori",
            "GREECE: 7.961.000 visitatori",
            "INDONESIA: 9.468.000 visitatori",
            "IRELAND: 8.643.000 visitatori",
            "ISRAEL: 8.473.000 visitatori",
            "KAZAKHSTAN: 10.646.000 visitatori",
            "KYRGYZSTAN: 6.839.000 visitatori",
            "NORWAY: 8.110.000 visitatori",
            "OMAN: 5.975.000 visitatori",
            "SINGAPORE: 10.378.000 visitatori",
            "SLOVENIA: 5.409.000 visitatori",
            "THAILAND: 9.966.000 visitatori",
            "TÜRKIYE: 8.383.000 visitatori",
            "UZBEKISTAN: 8.594.000 visitatori"
           ],
           "type": "scattergeo"
          },
          {
           "lat": [
            50.6402809,
            47.1817585,
            22.3511148,
            36.5748441,
            0.3448612,
            49.6112768,
            52.2434979,
            45.9852129,
            25.6242618,
            39.3260685,
            59.6749712,
            46.8182,
            24.93836745,
            49.4871968,
            24.0002488
           ],
           "lon": [
            4.6667145,
            19.5060937,
            78.6677428,
            139.2394179,
            173.6641773,
            6.129799,
            5.6343227,
            24.6859225,
            42.3528328,
            -4.8379791,
            14.5208584,
            8.2275,
            118.58541419241348,
            31.2718321,
            53.9994829
           ],
           "marker": {
            "size": [
             11.544302749823565,
             12.288761028620428,
             12.594546933072445,
             11.912738769337382,
             12.789360264884051,
             12.768951718735313,
             12.11641757700886,
             12.122048478420258,
             12.687604969865031,
             12.240780924779823,
             12.01343827562786,
             12.447161786780784,
             11.662171241057383,
             12.732175784871586,
             11.914090252531725
            ]
           },
           "text": [
            "BELGIUM: 15.627.000 visitatori",
            "HUNGARY: 22.805.000 visitatori",
            "INDIA: 26.296.000 visitatori",
            "JAPAN: 18.954.000 visitatori",
            "KIRIBATI: 28.696.000 visitatori",
            "LUXEMBOURG: 28.438.000 visitatori",
            "NETHERLANDS: 20.981.000 visitatori",
            "ROMANIA: 21.039.000 visitatori",
            "SAUDI ARABIA: 27.425.000 visitatori",
            "SPAIN: 22.287.000 visitatori",
            "SWEDEN: 19.939.000 visitatori",
            "SWITZERLAND: 24.572.000 visitatori",
            "TAIWAN PROVINCE OF CHINA: 16.645.000 visitatori",
            "UKRAINE: 27.977.000 visitatori",
            "UNITED ARAB EMIRATES: 18.967.000 visitatori"
           ],
           "type": "scattergeo"
          },
          {
           "lat": [
            46.603354,
            52.215933,
            64.6863136
           ],
           "lon": [
            1.8883335,
            19.134422,
            97.7453061
           ],
           "marker": {
            "size": [
             14.063249448905607,
             14.092831340363906,
             13.706325684733304
            ]
           },
           "text": [
            "FRANCE: 48.069.000 visitatori",
            "POLAND: 48.600.000 visitatori",
            "RUSSIAN FEDERATION: 41.964.000 visitatori"
           ],
           "type": "scattergeo"
          },
          {
           "lat": [
            61.0666922,
            35.0000663,
            51.1638175,
            22.2793278,
            42.6384261,
            23.6585116,
            54.7023545,
            39.7837304
           ],
           "lon": [
            -107.991707,
            104.999955,
            10.4478313,
            114.1628131,
            12.674297,
            -102.0077097,
            -3.2765753,
            -100.445882
           ],
           "marker": {
            "size": [
             14.501469752631518,
             17.775562790740956,
             16.578424878632728,
             16.01891487707614,
             14.738972636249638,
             15.799226104671444,
             15.959054768282734,
             18
            ]
           },
           "text": [
            "CANADA: 56.340.000 visitatori",
            "CHINA: 149.720.000 visitatori",
            "GERMANY: 108.542.000 visitatori",
            "HONG KONG: 92.214.000 visitatori",
            "ITALY: 61.195.000 visitatori",
            "MEXICO: 86.280.000 visitatori",
            "UNITED KINGDOM: 90.571.000 visitatori",
            "UNITED STATES OF AMERICA: 158.445.000 visitatori"
           ],
           "type": "scattergeo"
          }
         ],
         "name": "2018",
         "traces": [
          0,
          1,
          2,
          3,
          4,
          5,
          6,
          7
         ]
        },
        {
         "data": [
          {
           "lat": [
            15.4542,
            -19.99697155
           ],
           "lon": [
            18.7322,
            -157.78587140620786
           ],
           "marker": {
            "size": [
             6.4029694753532596,
             6.352026261553643
            ]
           },
           "text": [
            "CHAD: 6.000 visitatori",
            "COOK ISLANDS: 4.000 visitatori"
           ],
           "type": "scattergeo"
          },
          {
           "lat": [
            40.7696272,
            27.549511,
            12.5433216,
            10.2735633,
            23.0131338,
            34.9174159,
            19.0974031,
            -26.5624806,
            -18.1239696,
            -17.0243749,
            8.0300284,
            64.9841821,
            31.1667049,
            35.8885993,
            -20.2759451,
            -21.3019905,
            12.6090157,
            8.559559,
            -23.3165935,
            -13.7693895,
            -4.6574977,
            8.6400349,
            7.5554942,
            1.5333554
           ],
           "lon": [
            44.6736646,
            90.5119273,
            104.8144914,
            -84.0739102,
            -80.8328748,
            32.889902651331866,
            -70.3028026,
            31.3991317,
            179.0122737,
            -144.6434898,
            -1.0800271,
            -18.1059013,
            36.941628,
            14.4476911,
            57.5703566,
            165.4880773,
            -85.2936911,
            -81.1308434,
            -58.1693445,
            -172.12005,
            55.4540146,
            -11.8400269,
            80.7137847,
            32.2166578
           ],
           "marker": {
            "size": [
             7.556851177085191,
             7.676420573732058,
             7.526256757475135,
             7.523129173387996,
             7.435086778835762,
             7.738751079023772,
             7.318139874862419,
             7.7459360824609895,
             6.758417589693407,
             6.507709724462665,
             7.270401553588513,
             7.1234045638388555,
             7.6420904586020555,
             7.334669996607708,
             6.891646793211837,
             7.042876415828813,
             7.524694569323653,
             7.635321665947904,
             7.75424453701469,
             6.591751816945364,
             6.591751816945364,
             6.745560570483002,
             7.492754352721617,
             7.290358761922421
            ]
           },
           "text": [
            "ARMENIA: 346.000 visitatori",
            "BHUTAN: 432.000 visitatori",
            "CAMBODIA: 326.000 visitatori",
            "COSTA RICA: 324.000 visitatori",
            "CUBA: 271.000 visitatori",
            "CYPRUS: 482.000 visitatori",
            "DOMINICAN REPUBLIC: 210.000 visitatori",
            "ESWATINI: 488.000 visitatori",
            "FIJI: 40.000 visitatori",
            "FRENCH POLYNESIA: 12.000 visitatori",
            "GHANA: 188.000 visitatori",
            "ICELAND: 130.000 visitatori",
            "JORDAN: 406.000 visitatori",
            "MALTA: 218.000 visitatori",
            "MAURITIUS: 65.000 visitatori",
            "NEW CALEDONIA: 104.000 visitatori",
            "NICARAGUA: 325.000 visitatori",
            "PANAMA: 401.000 visitatori",
            "PARAGUAY: 495.000 visitatori",
            "SAMOA: 19.000 visitatori",
            "SEYCHELLES: 19.000 visitatori",
            "SIERRA LEONE: 38.000 visitatori",
            "SRI LANKA: 305.000 visitatori",
            "UGANDA: 197.000 visitatori"
           ],
           "type": "scattergeo"
          },
          {
           "lat": [
            45.3658443,
            -1.3397668,
            13.8000382,
            58.7523778,
            15.5855545,
            16.4990859,
            56.8406494,
            31.1728205,
            -41.5000831,
            -6.8699697,
            39.6621648,
            18.2247706,
            33.8439408,
            -18.4554963
           ],
           "lon": [
            15.6575209,
            -79.3666965,
            -88.9140683,
            25.3319078,
            -90.345759,
            102.8330834,
            24.7537645,
            -7.3362482,
            172.8344077,
            -75.0458515,
            -8.1353519,
            -66.4858295,
            9.400138,
            29.7468414
           ],
           "marker": {
            "size": [
             7.948191441131277,
             7.769469049124532,
             7.777559483857617,
             7.825715626481443,
             7.769469049124532,
             7.975581137905618,
             7.959618045179276,
             7.917046169603594,
             7.772945421615439,
             8.05091295121026,
             7.950105186410047,
             7.957722862135097,
             8.004948458201834,
             8.212439902519389
            ]
           },
           "text": [
            "CROATIA: 678.000 visitatori",
            "ECUADOR: 508.000 visitatori",
            "EL SALVADOR: 515.000 visitatori",
            "ESTONIA: 558.000 visitatori",
            "GUATEMALA: 508.000 visitatori",
            "LAO PEOPLE´S DEMOCRATIC REPUBLIC: 707.000 visitatori",
            "LATVIA: 690.000 visitatori",
            "MOROCCO: 646.000 visitatori",
            "NEW ZEALAND: 511.000 visitatori",
            "PERU: 791.000 visitatori",
            "PORTUGAL: 680.000 visitatori",
            "PUERTO RICO: 688.000 visitatori",
            "TUNISIA: 739.000 visitatori",
            "ZIMBABWE: 993.000 visitatori"
           ],
           "type": "scattergeo"
          },
          {
           "lat": [
            41.000028,
            28.0000272,
            -24.7761086,
            47.59397,
            40.3936294,
            42.6073975,
            -31.7613365,
            4.099917,
            55.670249,
            63.2467777,
            38.9953683,
            -2.4833826,
            52.865196,
            30.8124247,
            36.5748441,
            48.1012954,
            0.3448612,
            41.5089324,
            55.3500003,
            61.1529386,
            21.0000287,
            1.357107,
            48.7411522,
            46.1199444,
            24.93836745,
            9.8762687,
            38.9597594
           ],
           "lon": [
            19.9999619,
            2.9999825,
            134.755,
            14.12456,
            47.7872508,
            25.4856617,
            -71.3187697,
            -72.9088133,
            10.3333283,
            25.9209164,
            21.9877132,
            117.8902853,
            -7.9794599,
            34.8594762,
            139.2394179,
            66.7780818,
            173.6641773,
            74.724091,
            23.7499997,
            8.7876653,
            57.0036901,
            103.8194992,
            19.4528646,
            14.8153333,
            118.58541419241348,
            102.06908954680432,
            34.9249653
           ],
           "marker": {
            "size": [
             9.16497349240159,
             8.472537060287078,
             9.137517446513138,
             9.509669985957679,
             8.33344216664226,
             9.512324136189768,
             8.331437490254554,
             8.404686478469465,
             9.586480899219671,
             9.084176045841815,
             8.937427170485787,
             9.16896052231749,
             8.938269564329067,
             8.56313116819404,
             9.259047627329156,
             9.149657100293465,
             9.599434695826048,
             8.54978128463298,
             8.616782264043717,
             8.641500119298108,
             8.624193784849243,
             8.562577695672365,
             8.249685967091024,
             8.742808229112889,
             8.942474306133386,
             8.649810044646454,
             8.902896093649735
            ]
           },
           "text": [
            "ALBANIA: 2.907.000 visitatori",
            "ALGERIA: 1.386.000 visitatori",
            "AUSTRALIA: 2.832.000 visitatori",
            "AUSTRIA: 3.964.000 visitatori",
            "AZERBAIJAN: 1.165.000 visitatori",
            "BULGARIA: 3.973.000 visitatori",
            "CHILE: 1.162.000 visitatori",
            "COLOMBIA: 1.275.000 visitatori",
            "DENMARK: 4.230.000 visitatori",
            "FINLAND: 2.690.000 visitatori",
            "GREECE: 2.324.000 visitatori",
            "INDONESIA: 2.918.000 visitatori",
            "IRELAND: 2.326.000 visitatori",
            "ISRAEL: 1.544.000 visitatori",
            "JAPAN: 3.174.000 visitatori",
            "KAZAKHSTAN: 2.865.000 visitatori",
            "KIRIBATI: 4.276.000 visitatori",
            "KYRGYZSTAN: 1.520.000 visitatori",
            "LITHUANIA: 1.643.000 visitatori",
            "NORWAY: 1.690.000 visitatori",
            "OMAN: 1.657.000 visitatori",
            "SINGAPORE: 1.543.000 visitatori",
            "SLOVAKIA: 1.044.000 visitatori",
            "SLOVENIA: 1.892.000 visitatori",
            "TAIWAN PROVINCE OF CHINA: 2.336.000 visitatori",
            "THAILAND: 1.706.000 visitatori",
            "TÜRKIYE: 2.243.000 visitatori"
           ],
           "type": "scattergeo"
          },
          {
           "lat": [
            50.6402809,
            61.0666922,
            22.2793278,
            47.1817585,
            22.3511148,
            49.6112768,
            52.2434979,
            45.9852129,
            64.6863136,
            25.6242618,
            39.3260685,
            59.6749712,
            46.8182,
            49.4871968,
            24.0002488
           ],
           "lon": [
            4.6667145,
            -107.991707,
            114.1628131,
            19.5060937,
            78.6677428,
            6.129799,
            5.6343227,
            24.6859225,
            97.7453061,
            42.3528328,
            -4.8379791,
            14.5208584,
            8.2275,
            31.2718321,
            53.9994829
           ],
           "marker": {
            "size": [
             10.26387246442016,
             11.420702674301552,
             10.48297111385451,
             11.177622876593961,
             10.300941134036197,
             11.398466064932446,
             10.372839669379806,
             10.698384683710096,
             11.127507078404559,
             10.171714562392335,
             10.081850570856638,
             10.047747385160502,
             10.37796676592384,
             10.969188154994269,
             10.129724498043112
            ]
           },
           "text": [
            "BELGIUM: 7.108.000 visitatori",
            "CANADA: 14.605.000 visitatori",
            "HONG KONG: 8.261.000 visitatori",
            "HUNGARY: 12.727.000 visitatori",
            "INDIA: 7.295.000 visitatori",
            "LUXEMBOURG: 14.426.000 visitatori",
            "NETHERLANDS: 7.667.000 visitatori",
            "ROMANIA: 9.510.000 visitatori",
            "RUSSIAN FEDERATION: 12.361.000 visitatori",
            "SAUDI ARABIA: 6.657.000 visitatori",
            "SPAIN: 6.236.000 visitatori",
            "SWEDEN: 6.081.000 visitatori",
            "SWITZERLAND: 7.694.000 visitatori",
            "UKRAINE: 11.251.000 visitatori",
            "UNITED ARAB EMIRATES: 6.458.000 visitatori"
           ],
           "type": "scattergeo"
          },
          {
           "lat": [
            35.0000663,
            46.603354,
            42.6384261,
            52.215933,
            54.7023545
           ],
           "lon": [
            104.999955,
            1.8883335,
            12.674297,
            19.134422,
            -3.2765753
           ],
           "marker": {
            "size": [
             12.052888485690357,
             12.146009395287631,
             12.161465202341649,
             12.645149853059168,
             12.381334662904246
            ]
           },
           "text": [
            "CHINA: 20.334.000 visitatori",
            "FRANCE: 21.287.000 visitatori",
            "ITALY: 21.448.000 visitatori",
            "POLAND: 26.906.000 visitatori",
            "UNITED KINGDOM: 23.827.000 visitatori"
           ],
           "type": "scattergeo"
          },
          {
           "lat": [
            51.1638175,
            23.6585116
           ],
           "lon": [
            10.4478313,
            -102.0077097
           ],
           "marker": {
            "size": [
             13.38075856904621,
             13.326236173874012
            ]
           },
           "text": [
            "GERMANY: 36.867.000 visitatori",
            "MEXICO: 36.056.000 visitatori"
           ],
           "type": "scattergeo"
          },
          {
           "lat": [
            39.7837304
           ],
           "lon": [
            -100.445882
           ],
           "marker": {
            "size": [
             14.70816098135805
            ]
           },
           "text": [
            "UNITED STATES OF AMERICA: 60.550.000 visitatori"
           ],
           "type": "scattergeo"
          }
         ],
         "name": "2020",
         "traces": [
          0,
          1,
          2,
          3,
          4,
          5,
          6,
          7
         ]
        },
        {
         "data": [
          {
           "lat": [
            -19.99697155
           ],
           "lon": [
            -157.78587140620786
           ],
           "marker": {
            "size": [
             6.461284897751121
            ]
           },
           "text": [
            "COOK ISLANDS: 9.000 visitatori"
           ],
           "type": "scattergeo"
          },
          {
           "lat": [
            -18.1239696,
            -20.2759451,
            -21.3019905,
            -13.7693895,
            -4.6574977,
            1.5333554
           ],
           "lon": [
            179.0122737,
            57.5703566,
            165.4880773,
            -172.12005,
            55.4540146,
            32.2166578
           ],
           "marker": {
            "size": [
             7.0593282783227345,
             7.356751240119243,
             7.201399484342046,
             6.64843791795612,
             6.822391207496295,
             7.6298660068316435
            ]
           },
           "text": [
            "FIJI: 109.000 visitatori",
            "MAURITIUS: 229.000 visitatori",
            "NEW CALEDONIA: 159.000 visitatori",
            "SAMOA: 25.000 visitatori",
            "SEYCHELLES: 51.000 visitatori",
            "UGANDA: 397.000 visitatori"
           ],
           "type": "scattergeo"
          },
          {
           "lat": [
            27.549511,
            12.5433216,
            10.2735633,
            7.9897371,
            23.0131338,
            19.0974031,
            -26.5624806,
            35.8885993,
            12.6090157,
            8.559559
           ],
           "lon": [
            90.5119273,
            104.8144914,
            -84.0739102,
            -5.5679458,
            -80.8328748,
            -70.3028026,
            31.3991317,
            14.4476911,
            -85.2936911,
            -81.1308434
           ],
           "marker": {
            "size": [
             8.076520002069136,
             8.195224686105107,
             8.16772419586605,
             7.997687377093488,
             7.998597900180863,
             8.041361567033192,
             7.979299887647158,
             7.964340034628919,
             7.968101345938571,
             8.101510607434111
            ]
           },
           "text": [
            "BHUTAN: 821.000 visitatori",
            "CAMBODIA: 970.000 visitatori",
            "COSTA RICA: 934.000 visitatori",
            "COTE D´IVOIRE: 731.000 visitatori",
            "CUBA: 732.000 visitatori",
            "DOMINICAN REPUBLIC: 780.000 visitatori",
            "ESWATINI: 711.000 visitatori",
            "MALTA: 695.000 visitatori",
            "NICARAGUA: 699.000 visitatori",
            "PANAMA: 851.000 visitatori"
           ],
           "type": "scattergeo"
          },
          {
           "lat": [
            28.0000272,
            40.7696272,
            40.3936294,
            -31.7613365,
            4.099917,
            45.3658443,
            -1.3397668,
            13.8000382,
            58.7523778,
            15.5855545,
            22.2793278,
            -2.4833826,
            36.5748441,
            31.1667049,
            41.5089324,
            56.8406494,
            55.3500003,
            31.1728205,
            -41.5000831,
            -23.3165935,
            -6.8699697,
            39.6621648,
            18.2247706,
            46.1199444,
            7.5554942,
            24.93836745,
            33.8439408,
            -18.4554963
           ],
           "lon": [
            2.9999825,
            44.6736646,
            47.7872508,
            -71.3187697,
            -72.9088133,
            15.6575209,
            -79.3666965,
            -88.9140683,
            25.3319078,
            -90.345759,
            114.1628131,
            117.8902853,
            139.2394179,
            36.941628,
            74.724091,
            24.7537645,
            23.7499997,
            -7.3362482,
            172.8344077,
            -58.1693445,
            -75.0458515,
            -8.1353519,
            -66.4858295,
            14.8153333,
            80.7137847,
            118.58541419241348,
            9.400138,
            29.7468414
           ],
           "marker": {
            "size": [
             9.149657100293465,
             8.31595246439759,
             8.532894820472896,
             8.955016973965485,
             9.774563482427773,
             8.795895738664715,
             8.443658073452012,
             8.728234052736433,
             8.28225359095025,
             8.48731470650901,
             8.875898945907297,
             9.380106431189724,
             9.11520148890088,
             8.480243411191957,
             9.440433525089231,
             8.661665022755583,
             9.519969235868809,
             8.803316863689647,
             8.609328520373309,
             8.414703512528433,
             8.84838518772183,
             9.071512246435756,
             8.279458421477393,
             9.72177631026868,
             8.30847282419163,
             8.528922090729598,
             9.306276988534858,
             8.599144102464813
            ]
           },
           "text": [
            "ALGERIA: 2.865.000 visitatori",
            "ARMENIA: 1.139.000 visitatori",
            "AZERBAIJAN: 1.490.000 visitatori",
            "CHILE: 2.366.000 visitatori",
            "COLOMBIA: 4.931.000 visitatori",
            "CROATIA: 2.004.000 visitatori",
            "ECUADOR: 1.338.000 visitatori",
            "EL SALVADOR: 1.862.000 visitatori",
            "ESTONIA: 1.090.000 visitatori",
            "GUATEMALA: 1.411.000 visitatori",
            "HONG KONG: 2.181.000 visitatori",
            "INDONESIA: 3.541.000 visitatori",
            "JAPAN: 2.772.000 visitatori",
            "JORDAN: 1.399.000 visitatori",
            "KYRGYZSTAN: 3.734.000 visitatori",
            "LATVIA: 1.729.000 visitatori",
            "LITHUANIA: 3.999.000 visitatori",
            "MOROCCO: 2.020.000 visitatori",
            "NEW ZEALAND: 1.629.000 visitatori",
            "PARAGUAY: 1.291.000 visitatori",
            "PERU: 2.119.000 visitatori",
            "PORTUGAL: 2.657.000 visitatori",
            "PUERTO RICO: 1.086.000 visitatori",
            "SLOVENIA: 4.727.000 visitatori",
            "SRI LANKA: 1.128.000 visitatori",
            "TAIWAN PROVINCE OF CHINA: 1.483.000 visitatori",
            "TUNISIA: 3.314.000 visitatori",
            "ZIMBABWE: 1.610.000 visitatori"
           ],
           "type": "scattergeo"
          },
          {
           "lat": [
            41.000028,
            -24.7761086,
            47.59397,
            42.6073975,
            55.670249,
            63.2467777,
            38.9953683,
            30.8124247,
            48.1012954,
            0.3448612,
            61.1529386,
            21.0000287,
            1.357107,
            38.9597594
           ],
           "lon": [
            19.9999619,
            134.755,
            14.12456,
            25.4856617,
            10.3333283,
            25.9209164,
            21.9877132,
            34.8594762,
            66.7780818,
            173.6641773,
            8.7876653,
            57.0036901,
            103.8194992,
            34.9249653
           ],
           "marker": {
            "size": [
             10.003102771033756,
             9.848382238397663,
             11.058838729344888,
             10.292473917339557,
             10.039298341058164,
             10.197251223596432,
             9.815704316255884,
             10.513692119638836,
             10.373409940600327,
             10.150087105222024,
             10.25023183076357,
             9.839031912228325,
             9.830627050505203,
             10.295431389625156
            ]
           },
           "text": [
            "ALBANIA: 5.882.000 visitatori",
            "AUSTRALIA: 5.226.000 visitatori",
            "AUSTRIA: 11.871.000 visitatori",
            "BULGARIA: 7.252.000 visitatori",
            "DENMARK: 6.043.000 visitatori",
            "FINLAND: 6.780.000 visitatori",
            "GREECE: 5.094.000 visitatori",
            "ISRAEL: 8.432.000 visitatori",
            "KAZAKHSTAN: 7.670.000 visitatori",
            "KIRIBATI: 6.554.000 visitatori",
            "NORWAY: 7.040.000 visitatori",
            "OMAN: 5.188.000 visitatori",
            "SINGAPORE: 5.154.000 visitatori",
            "TÜRKIYE: 7.267.000 visitatori"
           ],
           "type": "scattergeo"
          },
          {
           "lat": [
            50.6402809,
            47.1817585,
            22.3511148,
            49.6112768,
            52.2434979,
            45.9852129,
            25.6242618,
            39.3260685,
            46.8182,
            49.4871968
           ],
           "lon": [
            4.6667145,
            19.5060937,
            78.6677428,
            6.129799,
            5.6343227,
            24.6859225,
            42.3528328,
            -4.8379791,
            8.2275,
            31.2718321
           ],
           "marker": {
            "size": [
             11.58865060895995,
             11.813224333239093,
             12.175986198597691,
             12.13318266879999,
             12.31995107152961,
             11.731618300420063,
             12.420110931499458,
             11.83892841740749,
             11.570082362613782,
             11.53387598100229
            ]
           },
           "text": [
            "BELGIUM: 16.005.000 visitatori",
            "HUNGARY: 18.013.000 visitatori",
            "INDIA: 21.600.000 visitatori",
            "LUXEMBOURG: 21.154.000 visitatori",
            "NETHERLANDS: 23.146.000 visitatori",
            "ROMANIA: 17.265.000 visitatori",
            "SAUDI ARABIA: 24.264.000 visitatori",
            "SPAIN: 18.253.000 visitatori",
            "SWITZERLAND: 15.846.000 visitatori",
            "UKRAINE: 15.539.000 visitatori"
           ],
           "type": "scattergeo"
          },
          {
           "lat": [
            61.0666922,
            46.603354,
            42.6384261,
            23.6585116,
            52.215933
           ],
           "lon": [
            -107.991707,
            1.8883335,
            12.674297,
            -102.0077097,
            19.134422
           ],
           "marker": {
            "size": [
             13.035828414981715,
             13.551422695447604,
             13.985679198333566,
             13.701854484824926,
             13.166455578780312
            ]
           },
           "text": [
            "CANADA: 31.936.000 visitatori",
            "FRANCE: 39.484.000 visitatori",
            "ITALY: 46.695.000 visitatori",
            "MEXICO: 41.891.000 visitatori",
            "POLAND: 33.748.000 visitatori"
           ],
           "type": "scattergeo"
          },
          {
           "lat": [
            51.1638175,
            54.7023545
           ],
           "lon": [
            10.4478313,
            -3.2765753
           ],
           "marker": {
            "size": [
             15.812194310439896,
             15.180631021623459
            ]
           },
           "text": [
            "GERMANY: 86.623.000 visitatori",
            "UNITED KINGDOM: 70.950.000 visitatori"
           ],
           "type": "scattergeo"
          }
         ],
         "name": "2022",
         "traces": [
          0,
          1,
          2,
          3,
          4,
          5,
          6,
          7
         ]
        }
       ],
       "layout": {
        "geo": {
         "countrycolor": "black",
         "countrywidth": 0.5,
         "landcolor": "white",
         "oceancolor": "#f0f0f0",
         "projection": {
          "type": "equirectangular"
         },
         "showcoastlines": true,
         "showcountries": true,
         "showframe": false,
         "showland": true,
         "showocean": true
        },
        "legend": {
         "itemsizing": "constant",
         "title": {
          "text": "Range di visitatori"
         },
         "traceorder": "normal",
         "x": 1.05,
         "y": 0.5
        },
        "sliders": [
         {
          "steps": [
           {
            "args": [
             [
              "1996"
             ],
             {
              "frame": {
               "duration": 500,
               "redraw": true
              },
              "mode": "immediate"
             }
            ],
            "label": "1996",
            "method": "animate"
           },
           {
            "args": [
             [
              "1998"
             ],
             {
              "frame": {
               "duration": 500,
               "redraw": true
              },
              "mode": "immediate"
             }
            ],
            "label": "1998",
            "method": "animate"
           },
           {
            "args": [
             [
              "2000"
             ],
             {
              "frame": {
               "duration": 500,
               "redraw": true
              },
              "mode": "immediate"
             }
            ],
            "label": "2000",
            "method": "animate"
           },
           {
            "args": [
             [
              "2002"
             ],
             {
              "frame": {
               "duration": 500,
               "redraw": true
              },
              "mode": "immediate"
             }
            ],
            "label": "2002",
            "method": "animate"
           },
           {
            "args": [
             [
              "2004"
             ],
             {
              "frame": {
               "duration": 500,
               "redraw": true
              },
              "mode": "immediate"
             }
            ],
            "label": "2004",
            "method": "animate"
           },
           {
            "args": [
             [
              "2006"
             ],
             {
              "frame": {
               "duration": 500,
               "redraw": true
              },
              "mode": "immediate"
             }
            ],
            "label": "2006",
            "method": "animate"
           },
           {
            "args": [
             [
              "2008"
             ],
             {
              "frame": {
               "duration": 500,
               "redraw": true
              },
              "mode": "immediate"
             }
            ],
            "label": "2008",
            "method": "animate"
           },
           {
            "args": [
             [
              "2010"
             ],
             {
              "frame": {
               "duration": 500,
               "redraw": true
              },
              "mode": "immediate"
             }
            ],
            "label": "2010",
            "method": "animate"
           },
           {
            "args": [
             [
              "2012"
             ],
             {
              "frame": {
               "duration": 500,
               "redraw": true
              },
              "mode": "immediate"
             }
            ],
            "label": "2012",
            "method": "animate"
           },
           {
            "args": [
             [
              "2014"
             ],
             {
              "frame": {
               "duration": 500,
               "redraw": true
              },
              "mode": "immediate"
             }
            ],
            "label": "2014",
            "method": "animate"
           },
           {
            "args": [
             [
              "2016"
             ],
             {
              "frame": {
               "duration": 500,
               "redraw": true
              },
              "mode": "immediate"
             }
            ],
            "label": "2016",
            "method": "animate"
           },
           {
            "args": [
             [
              "2018"
             ],
             {
              "frame": {
               "duration": 500,
               "redraw": true
              },
              "mode": "immediate"
             }
            ],
            "label": "2018",
            "method": "animate"
           },
           {
            "args": [
             [
              "2020"
             ],
             {
              "frame": {
               "duration": 500,
               "redraw": true
              },
              "mode": "immediate"
             }
            ],
            "label": "2020",
            "method": "animate"
           },
           {
            "args": [
             [
              "2022"
             ],
             {
              "frame": {
               "duration": 500,
               "redraw": true
              },
              "mode": "immediate"
             }
            ],
            "label": "2022",
            "method": "animate"
           }
          ],
          "transition": {
           "duration": 500
          },
          "x": 0.1,
          "xanchor": "left",
          "y": -0.05,
          "yanchor": "top"
         }
        ],
        "template": {
         "data": {
          "bar": [
           {
            "error_x": {
             "color": "#2a3f5f"
            },
            "error_y": {
             "color": "#2a3f5f"
            },
            "marker": {
             "line": {
              "color": "#E5ECF6",
              "width": 0.5
             },
             "pattern": {
              "fillmode": "overlay",
              "size": 10,
              "solidity": 0.2
             }
            },
            "type": "bar"
           }
          ],
          "barpolar": [
           {
            "marker": {
             "line": {
              "color": "#E5ECF6",
              "width": 0.5
             },
             "pattern": {
              "fillmode": "overlay",
              "size": 10,
              "solidity": 0.2
             }
            },
            "type": "barpolar"
           }
          ],
          "carpet": [
           {
            "aaxis": {
             "endlinecolor": "#2a3f5f",
             "gridcolor": "white",
             "linecolor": "white",
             "minorgridcolor": "white",
             "startlinecolor": "#2a3f5f"
            },
            "baxis": {
             "endlinecolor": "#2a3f5f",
             "gridcolor": "white",
             "linecolor": "white",
             "minorgridcolor": "white",
             "startlinecolor": "#2a3f5f"
            },
            "type": "carpet"
           }
          ],
          "choropleth": [
           {
            "colorbar": {
             "outlinewidth": 0,
             "ticks": ""
            },
            "type": "choropleth"
           }
          ],
          "contour": [
           {
            "colorbar": {
             "outlinewidth": 0,
             "ticks": ""
            },
            "colorscale": [
             [
              0,
              "#0d0887"
             ],
             [
              0.1111111111111111,
              "#46039f"
             ],
             [
              0.2222222222222222,
              "#7201a8"
             ],
             [
              0.3333333333333333,
              "#9c179e"
             ],
             [
              0.4444444444444444,
              "#bd3786"
             ],
             [
              0.5555555555555556,
              "#d8576b"
             ],
             [
              0.6666666666666666,
              "#ed7953"
             ],
             [
              0.7777777777777778,
              "#fb9f3a"
             ],
             [
              0.8888888888888888,
              "#fdca26"
             ],
             [
              1,
              "#f0f921"
             ]
            ],
            "type": "contour"
           }
          ],
          "contourcarpet": [
           {
            "colorbar": {
             "outlinewidth": 0,
             "ticks": ""
            },
            "type": "contourcarpet"
           }
          ],
          "heatmap": [
           {
            "colorbar": {
             "outlinewidth": 0,
             "ticks": ""
            },
            "colorscale": [
             [
              0,
              "#0d0887"
             ],
             [
              0.1111111111111111,
              "#46039f"
             ],
             [
              0.2222222222222222,
              "#7201a8"
             ],
             [
              0.3333333333333333,
              "#9c179e"
             ],
             [
              0.4444444444444444,
              "#bd3786"
             ],
             [
              0.5555555555555556,
              "#d8576b"
             ],
             [
              0.6666666666666666,
              "#ed7953"
             ],
             [
              0.7777777777777778,
              "#fb9f3a"
             ],
             [
              0.8888888888888888,
              "#fdca26"
             ],
             [
              1,
              "#f0f921"
             ]
            ],
            "type": "heatmap"
           }
          ],
          "heatmapgl": [
           {
            "colorbar": {
             "outlinewidth": 0,
             "ticks": ""
            },
            "colorscale": [
             [
              0,
              "#0d0887"
             ],
             [
              0.1111111111111111,
              "#46039f"
             ],
             [
              0.2222222222222222,
              "#7201a8"
             ],
             [
              0.3333333333333333,
              "#9c179e"
             ],
             [
              0.4444444444444444,
              "#bd3786"
             ],
             [
              0.5555555555555556,
              "#d8576b"
             ],
             [
              0.6666666666666666,
              "#ed7953"
             ],
             [
              0.7777777777777778,
              "#fb9f3a"
             ],
             [
              0.8888888888888888,
              "#fdca26"
             ],
             [
              1,
              "#f0f921"
             ]
            ],
            "type": "heatmapgl"
           }
          ],
          "histogram": [
           {
            "marker": {
             "pattern": {
              "fillmode": "overlay",
              "size": 10,
              "solidity": 0.2
             }
            },
            "type": "histogram"
           }
          ],
          "histogram2d": [
           {
            "colorbar": {
             "outlinewidth": 0,
             "ticks": ""
            },
            "colorscale": [
             [
              0,
              "#0d0887"
             ],
             [
              0.1111111111111111,
              "#46039f"
             ],
             [
              0.2222222222222222,
              "#7201a8"
             ],
             [
              0.3333333333333333,
              "#9c179e"
             ],
             [
              0.4444444444444444,
              "#bd3786"
             ],
             [
              0.5555555555555556,
              "#d8576b"
             ],
             [
              0.6666666666666666,
              "#ed7953"
             ],
             [
              0.7777777777777778,
              "#fb9f3a"
             ],
             [
              0.8888888888888888,
              "#fdca26"
             ],
             [
              1,
              "#f0f921"
             ]
            ],
            "type": "histogram2d"
           }
          ],
          "histogram2dcontour": [
           {
            "colorbar": {
             "outlinewidth": 0,
             "ticks": ""
            },
            "colorscale": [
             [
              0,
              "#0d0887"
             ],
             [
              0.1111111111111111,
              "#46039f"
             ],
             [
              0.2222222222222222,
              "#7201a8"
             ],
             [
              0.3333333333333333,
              "#9c179e"
             ],
             [
              0.4444444444444444,
              "#bd3786"
             ],
             [
              0.5555555555555556,
              "#d8576b"
             ],
             [
              0.6666666666666666,
              "#ed7953"
             ],
             [
              0.7777777777777778,
              "#fb9f3a"
             ],
             [
              0.8888888888888888,
              "#fdca26"
             ],
             [
              1,
              "#f0f921"
             ]
            ],
            "type": "histogram2dcontour"
           }
          ],
          "mesh3d": [
           {
            "colorbar": {
             "outlinewidth": 0,
             "ticks": ""
            },
            "type": "mesh3d"
           }
          ],
          "parcoords": [
           {
            "line": {
             "colorbar": {
              "outlinewidth": 0,
              "ticks": ""
             }
            },
            "type": "parcoords"
           }
          ],
          "pie": [
           {
            "automargin": true,
            "type": "pie"
           }
          ],
          "scatter": [
           {
            "fillpattern": {
             "fillmode": "overlay",
             "size": 10,
             "solidity": 0.2
            },
            "type": "scatter"
           }
          ],
          "scatter3d": [
           {
            "line": {
             "colorbar": {
              "outlinewidth": 0,
              "ticks": ""
             }
            },
            "marker": {
             "colorbar": {
              "outlinewidth": 0,
              "ticks": ""
             }
            },
            "type": "scatter3d"
           }
          ],
          "scattercarpet": [
           {
            "marker": {
             "colorbar": {
              "outlinewidth": 0,
              "ticks": ""
             }
            },
            "type": "scattercarpet"
           }
          ],
          "scattergeo": [
           {
            "marker": {
             "colorbar": {
              "outlinewidth": 0,
              "ticks": ""
             }
            },
            "type": "scattergeo"
           }
          ],
          "scattergl": [
           {
            "marker": {
             "colorbar": {
              "outlinewidth": 0,
              "ticks": ""
             }
            },
            "type": "scattergl"
           }
          ],
          "scattermapbox": [
           {
            "marker": {
             "colorbar": {
              "outlinewidth": 0,
              "ticks": ""
             }
            },
            "type": "scattermapbox"
           }
          ],
          "scatterpolar": [
           {
            "marker": {
             "colorbar": {
              "outlinewidth": 0,
              "ticks": ""
             }
            },
            "type": "scatterpolar"
           }
          ],
          "scatterpolargl": [
           {
            "marker": {
             "colorbar": {
              "outlinewidth": 0,
              "ticks": ""
             }
            },
            "type": "scatterpolargl"
           }
          ],
          "scatterternary": [
           {
            "marker": {
             "colorbar": {
              "outlinewidth": 0,
              "ticks": ""
             }
            },
            "type": "scatterternary"
           }
          ],
          "surface": [
           {
            "colorbar": {
             "outlinewidth": 0,
             "ticks": ""
            },
            "colorscale": [
             [
              0,
              "#0d0887"
             ],
             [
              0.1111111111111111,
              "#46039f"
             ],
             [
              0.2222222222222222,
              "#7201a8"
             ],
             [
              0.3333333333333333,
              "#9c179e"
             ],
             [
              0.4444444444444444,
              "#bd3786"
             ],
             [
              0.5555555555555556,
              "#d8576b"
             ],
             [
              0.6666666666666666,
              "#ed7953"
             ],
             [
              0.7777777777777778,
              "#fb9f3a"
             ],
             [
              0.8888888888888888,
              "#fdca26"
             ],
             [
              1,
              "#f0f921"
             ]
            ],
            "type": "surface"
           }
          ],
          "table": [
           {
            "cells": {
             "fill": {
              "color": "#EBF0F8"
             },
             "line": {
              "color": "white"
             }
            },
            "header": {
             "fill": {
              "color": "#C8D4E3"
             },
             "line": {
              "color": "white"
             }
            },
            "type": "table"
           }
          ]
         },
         "layout": {
          "annotationdefaults": {
           "arrowcolor": "#2a3f5f",
           "arrowhead": 0,
           "arrowwidth": 1
          },
          "autotypenumbers": "strict",
          "coloraxis": {
           "colorbar": {
            "outlinewidth": 0,
            "ticks": ""
           }
          },
          "colorscale": {
           "diverging": [
            [
             0,
             "#8e0152"
            ],
            [
             0.1,
             "#c51b7d"
            ],
            [
             0.2,
             "#de77ae"
            ],
            [
             0.3,
             "#f1b6da"
            ],
            [
             0.4,
             "#fde0ef"
            ],
            [
             0.5,
             "#f7f7f7"
            ],
            [
             0.6,
             "#e6f5d0"
            ],
            [
             0.7,
             "#b8e186"
            ],
            [
             0.8,
             "#7fbc41"
            ],
            [
             0.9,
             "#4d9221"
            ],
            [
             1,
             "#276419"
            ]
           ],
           "sequential": [
            [
             0,
             "#0d0887"
            ],
            [
             0.1111111111111111,
             "#46039f"
            ],
            [
             0.2222222222222222,
             "#7201a8"
            ],
            [
             0.3333333333333333,
             "#9c179e"
            ],
            [
             0.4444444444444444,
             "#bd3786"
            ],
            [
             0.5555555555555556,
             "#d8576b"
            ],
            [
             0.6666666666666666,
             "#ed7953"
            ],
            [
             0.7777777777777778,
             "#fb9f3a"
            ],
            [
             0.8888888888888888,
             "#fdca26"
            ],
            [
             1,
             "#f0f921"
            ]
           ],
           "sequentialminus": [
            [
             0,
             "#0d0887"
            ],
            [
             0.1111111111111111,
             "#46039f"
            ],
            [
             0.2222222222222222,
             "#7201a8"
            ],
            [
             0.3333333333333333,
             "#9c179e"
            ],
            [
             0.4444444444444444,
             "#bd3786"
            ],
            [
             0.5555555555555556,
             "#d8576b"
            ],
            [
             0.6666666666666666,
             "#ed7953"
            ],
            [
             0.7777777777777778,
             "#fb9f3a"
            ],
            [
             0.8888888888888888,
             "#fdca26"
            ],
            [
             1,
             "#f0f921"
            ]
           ]
          },
          "colorway": [
           "#636efa",
           "#EF553B",
           "#00cc96",
           "#ab63fa",
           "#FFA15A",
           "#19d3f3",
           "#FF6692",
           "#B6E880",
           "#FF97FF",
           "#FECB52"
          ],
          "font": {
           "color": "#2a3f5f"
          },
          "geo": {
           "bgcolor": "white",
           "lakecolor": "white",
           "landcolor": "#E5ECF6",
           "showlakes": true,
           "showland": true,
           "subunitcolor": "white"
          },
          "hoverlabel": {
           "align": "left"
          },
          "hovermode": "closest",
          "mapbox": {
           "style": "light"
          },
          "paper_bgcolor": "white",
          "plot_bgcolor": "#E5ECF6",
          "polar": {
           "angularaxis": {
            "gridcolor": "white",
            "linecolor": "white",
            "ticks": ""
           },
           "bgcolor": "#E5ECF6",
           "radialaxis": {
            "gridcolor": "white",
            "linecolor": "white",
            "ticks": ""
           }
          },
          "scene": {
           "xaxis": {
            "backgroundcolor": "#E5ECF6",
            "gridcolor": "white",
            "gridwidth": 2,
            "linecolor": "white",
            "showbackground": true,
            "ticks": "",
            "zerolinecolor": "white"
           },
           "yaxis": {
            "backgroundcolor": "#E5ECF6",
            "gridcolor": "white",
            "gridwidth": 2,
            "linecolor": "white",
            "showbackground": true,
            "ticks": "",
            "zerolinecolor": "white"
           },
           "zaxis": {
            "backgroundcolor": "#E5ECF6",
            "gridcolor": "white",
            "gridwidth": 2,
            "linecolor": "white",
            "showbackground": true,
            "ticks": "",
            "zerolinecolor": "white"
           }
          },
          "shapedefaults": {
           "line": {
            "color": "#2a3f5f"
           }
          },
          "ternary": {
           "aaxis": {
            "gridcolor": "white",
            "linecolor": "white",
            "ticks": ""
           },
           "baxis": {
            "gridcolor": "white",
            "linecolor": "white",
            "ticks": ""
           },
           "bgcolor": "#E5ECF6",
           "caxis": {
            "gridcolor": "white",
            "linecolor": "white",
            "ticks": ""
           }
          },
          "title": {
           "x": 0.05
          },
          "xaxis": {
           "automargin": true,
           "gridcolor": "white",
           "linecolor": "white",
           "ticks": "",
           "title": {
            "standoff": 15
           },
           "zerolinecolor": "white",
           "zerolinewidth": 2
          },
          "yaxis": {
           "automargin": true,
           "gridcolor": "white",
           "linecolor": "white",
           "ticks": "",
           "title": {
            "standoff": 15
           },
           "zerolinecolor": "white",
           "zerolinewidth": 2
          }
         }
        },
        "title": {
         "text": "Paesi destinazione scelti dai turisti dal 1996 al 2022"
        },
        "updatemenus": [
         {
          "buttons": [
           {
            "args": [
             null,
             {
              "frame": {
               "duration": 1000,
               "redraw": true
              },
              "fromcurrent": true
             }
            ],
            "label": "Play",
            "method": "animate"
           },
           {
            "args": [
             [
              null
             ],
             {
              "frame": {
               "duration": 0,
               "redraw": false
              },
              "mode": "immediate"
             }
            ],
            "label": "Pause",
            "method": "animate"
           }
          ],
          "showactive": false,
          "type": "buttons",
          "x": 1,
          "xanchor": "right",
          "y": 0,
          "yanchor": "top"
         }
        ]
       }
      }
     },
     "metadata": {},
     "output_type": "display_data"
    }
   ],
   "source": [
    "# Carica i dati dal file CSV come stringhe\n",
    "columns = ['Country', 'Latitude', 'Longitude', '1996', '1998', '2000', '2002', '2004', \n",
    "           '2006', '2008', '2010', '2012', '2014', '2016', '2018', '2020', '2022']\n",
    "df = pd.read_csv('datasets/normalized_completo.csv', delimiter=';', header=None, dtype=str)\n",
    "df.columns = columns\n",
    "\n",
    "# Converti Latitude e Longitude in float, gestendo eventuali \"?\"\n",
    "df['Latitude'] = pd.to_numeric(df['Latitude'], errors='coerce')\n",
    "df['Longitude'] = pd.to_numeric(df['Longitude'], errors='coerce')\n",
    "\n",
    "# Funzione per convertire i visitatori moltiplicando per 1.000\n",
    "def convert_visitors(value):\n",
    "    if pd.isna(value) or value == '..':\n",
    "        return np.nan\n",
    "    try:\n",
    "        value = value.replace('.', '')  # Rimuove il separatore delle migliaia\n",
    "        return int(value) * 1000  # Moltiplica per 1.000\n",
    "    except ValueError:\n",
    "        return np.nan\n",
    "\n",
    "# Applica la conversione alle colonne degli anni\n",
    "for year in columns[3:]:\n",
    "    df[year] = df[year].apply(convert_visitors)\n",
    "\n",
    "# Range e colori per i visitatori\n",
    "visitor_bins = [0, 10_000, 500_000, 1_000_000, 5_000_000, 15_000_000, 30_000_000, 50_000_000, float('inf')]\n",
    "colors = ['#d3d3d3', '#b6d7a8', '#76a5af', '#6fa8dc', '#3d85c6', '#ff9900', '#cc0000', '#660000']\n",
    "bin_labels = []\n",
    "for i in range(len(visitor_bins) - 1):\n",
    "    start = visitor_bins[i]\n",
    "    end = visitor_bins[i + 1]\n",
    "    label = f\"{start:,} - {int(end-1):,}\".replace(',', '.') if end != float('inf') else f\"Oltre {start:,}\".replace(',', '.')\n",
    "    bin_labels.append(label)\n",
    "\n",
    "# Funzione di scaling per le dimensioni dei marker\n",
    "def scale_marker_size(visitors, min_size=6, max_size=18):\n",
    "    if pd.isna(visitors) or visitors <= 0:\n",
    "        return min_size\n",
    "    max_visitors = df.iloc[:, 3:].max().max()\n",
    "    scaled_size = min_size + (max_size - min_size) * (np.cbrt(visitors) / np.cbrt(max_visitors))\n",
    "    return scaled_size\n",
    "\n",
    "# Funzione per assegnare i bin ai visitatori\n",
    "def assign_visitor_bin(visitors):\n",
    "    for i in range(len(visitor_bins) - 1):\n",
    "        if visitor_bins[i] <= visitors < visitor_bins[i + 1]:\n",
    "            return i\n",
    "    return None\n",
    "\n",
    "# Inizializza le tracce per ogni bin di visitatori\n",
    "traces = []\n",
    "for i in range(len(visitor_bins) - 1):\n",
    "    trace = go.Scattergeo(\n",
    "        lon=[],\n",
    "        lat=[],\n",
    "        text=[],\n",
    "        marker=dict(\n",
    "            size=[],\n",
    "            color=colors[i],\n",
    "            line_width=0,\n",
    "            showscale=False\n",
    "        ),\n",
    "        hoverinfo='text',\n",
    "        name=bin_labels[i],\n",
    "        legendgroup=bin_labels[i],\n",
    "        showlegend=True\n",
    "    )\n",
    "    traces.append(trace)\n",
    "\n",
    "# Anno iniziale\n",
    "initial_year = '1996'\n",
    "\n",
    "# Funzione per aggiornare i dati delle tracce per un anno specifico\n",
    "def update_traces(year_data):\n",
    "    data = []\n",
    "    for i in range(len(visitor_bins) - 1):\n",
    "        bin_data = year_data[year_data['VisitorBin'] == i]\n",
    "        data_dict = dict(\n",
    "            type='scattergeo',\n",
    "            lon=bin_data['Longitude'].tolist() if not bin_data.empty else [],\n",
    "            lat=bin_data['Latitude'].tolist() if not bin_data.empty else [],\n",
    "            text=bin_data['Text'].tolist() if not bin_data.empty else [],\n",
    "            marker=dict(size=bin_data['Size'].tolist() if not bin_data.empty else [])\n",
    "        )\n",
    "        data.append(data_dict)\n",
    "    return data\n",
    "\n",
    "# Prepara i dati per l'anno iniziale\n",
    "year_data = df[df[initial_year].notna()].copy()\n",
    "year_data['Size'] = year_data[initial_year].apply(scale_marker_size)\n",
    "year_data['Text'] = year_data.apply(\n",
    "    lambda row: f\"{row['Country']}: {int(row[initial_year]):,} visitatori\".replace(',', '.'),\n",
    "    axis=1\n",
    ")\n",
    "year_data['VisitorBin'] = year_data[initial_year].apply(assign_visitor_bin)\n",
    "\n",
    "# Aggiorna le tracce iniziali con i dati dell'anno iniziale\n",
    "initial_data = update_traces(year_data)\n",
    "for i in range(len(traces)):\n",
    "    traces[i].lon = initial_data[i]['lon']\n",
    "    traces[i].lat = initial_data[i]['lat']\n",
    "    traces[i].text = initial_data[i]['text']\n",
    "    traces[i].marker.size = initial_data[i]['marker']['size']\n",
    "\n",
    "# Crea i frame per gli altri anni\n",
    "frames = []\n",
    "for year in columns[4:]:\n",
    "    year_data = df[df[year].notna()].copy()\n",
    "    year_data['Size'] = year_data[year].apply(scale_marker_size)\n",
    "    year_data['Text'] = year_data.apply(\n",
    "        lambda row: f\"{row['Country']}: {int(row[year]):,} visitatori\".replace(',', '.'),\n",
    "        axis=1\n",
    "    )\n",
    "    year_data['VisitorBin'] = year_data[year].apply(assign_visitor_bin)\n",
    "    frame_data = update_traces(year_data)\n",
    "    frames.append(go.Frame(data=frame_data, name=year, traces=list(range(len(traces)))))\n",
    "\n",
    "# Crea la figura\n",
    "fig = go.Figure(data=traces, frames=frames)\n",
    "\n",
    "# Imposta layout della mappa\n",
    "fig.update_layout(\n",
    "    title_text=\"Paesi destinazione scelti dai turisti dal 1996 al 2022\",\n",
    "    geo=dict(\n",
    "        showframe=False,\n",
    "        showcoastlines=True,\n",
    "        projection_type='equirectangular',\n",
    "        showland=True,\n",
    "        landcolor='white',\n",
    "        showocean=True,\n",
    "        # grigio chiarissimo per l'oceano in esadecimale\n",
    "        oceancolor='#f0f0f0',\n",
    "        showcountries=True,\n",
    "        countrycolor='black',\n",
    "        countrywidth=0.5\n",
    "    ),\n",
    "    legend=dict(\n",
    "        title=\"Range di visitatori\",\n",
    "        x=1.05,\n",
    "        y=0.5,\n",
    "        traceorder=\"normal\",\n",
    "        itemsizing='constant'\n",
    "    ),\n",
    "    updatemenus=[\n",
    "        {\n",
    "            'type': 'buttons',\n",
    "            'showactive': False,\n",
    "            'x': 1,\n",
    "            'y': 0,\n",
    "            'xanchor': 'right',\n",
    "            'yanchor': 'top',\n",
    "            'buttons': [\n",
    "                {\n",
    "                    'label': 'Play',\n",
    "                    'method': 'animate',\n",
    "                    'args': [\n",
    "                        None,\n",
    "                        {'frame': {'duration': 1000, 'redraw': True}, 'fromcurrent': True}\n",
    "                    ]\n",
    "                },\n",
    "                {\n",
    "                    'label': 'Pause',\n",
    "                    'method': 'animate',\n",
    "                    'args': [\n",
    "                        [None],\n",
    "                        {'frame': {'duration': 0, 'redraw': False}, 'mode': 'immediate'}\n",
    "                    ]\n",
    "                }\n",
    "            ]\n",
    "        }\n",
    "    ]\n",
    ")\n",
    "\n",
    "# Aggiungi lo slider per cambiare anno\n",
    "fig.update_layout(\n",
    "    sliders=[{\n",
    "        'steps': [\n",
    "            {\n",
    "                'method': 'animate',\n",
    "                'label': str(year),\n",
    "                'args': [\n",
    "                    [str(year)],\n",
    "                    {'frame': {'duration': 500, 'redraw': True}, 'mode': 'immediate'}\n",
    "                ]\n",
    "            }\n",
    "            for year in columns[3:]\n",
    "        ],\n",
    "        'transition': {'duration': 500},\n",
    "        'x': 0.1,\n",
    "        'xanchor': 'left',\n",
    "        'y': -0.05,\n",
    "        'yanchor': 'top'\n",
    "    }]\n",
    ")\n",
    "\n",
    "# Mostra la mappa\n",
    "fig.show()"
   ]
  },
  {
   "cell_type": "markdown",
   "metadata": {},
   "source": [
    "![Francia vs Italia](ITAvsFRA_ChartJunk.jpg)"
   ]
  },
  {
   "cell_type": "code",
   "execution_count": 4,
   "metadata": {},
   "outputs": [
    {
     "data": {
      "image/png": "[encoded data removed]",
      "text/plain": [
       "<Figure size 1200x2000 with 5 Axes>"
      ]
     },
     "metadata": {},
     "output_type": "display_data"
    }
   ],
   "source": [
    "# Carica il dataset\n",
    "df = pd.read_csv('datasets/ArrivalDepartures.csv')\n",
    "\n",
    "# Lista dei paesi da visualizzare\n",
    "countries = ['Italy', 'United Kingdom', 'Germany', 'United States', 'France']\n",
    "\n",
    "# Crea una lista degli anni dal 2000 al 2020\n",
    "years = [f\"{year} [YR{year}]\" for year in range(2000, 2021)]\n",
    "numeric_years = list(range(2000, 2021))  # Lista degli anni come numeri\n",
    "\n",
    "# Colori pastello e saturi per l'Italia\n",
    "colors = {\n",
    "    'arrivals': {'default': '#93c9f7', 'Italy': '#1f78b4'},  # Blu pastello e blu saturo\n",
    "    'departures': {'default': '#ffb380', 'Italy': '#ff4500'}  # Arancione pastello e rosso saturo\n",
    "}\n",
    "\n",
    "# Funzione per formattare l'asse verticale\n",
    "def millions_formatter(x, pos):\n",
    "    return f'{x / 1e6:.1f}M'\n",
    "\n",
    "# Calcola il valore massimo tra arrivi e partenze per fissare l'intervallo delle y\n",
    "max_value = 0\n",
    "for country in countries:\n",
    "    country_data = df[df['Country Name'] == country]\n",
    "    arrivals = pd.to_numeric(country_data[years].iloc[0], errors='coerce') \\\n",
    "               .interpolate(method='linear', limit_direction='both').values\n",
    "    departures = pd.to_numeric(country_data[years].iloc[1], errors='coerce') \\\n",
    "                 .interpolate(method='linear', limit_direction='both').values\n",
    "    max_value = max(max_value, max(arrivals), max(departures))\n",
    "\n",
    "# Creazione di sottotrame (5 grafici separati)\n",
    "fig, axes = plt.subplots(len(countries), 1, figsize=(12, len(countries) * 4), sharex=False)\n",
    "\n",
    "# Titolo generale all'inizio\n",
    "fig.suptitle('Arrivi e Partenze Turistiche', fontsize=16, y=1.02)\n",
    "\n",
    "# Estrarre i dati e creare i grafici\n",
    "for i, country in enumerate(countries):\n",
    "    country_data = df[df['Country Name'] == country]\n",
    "    \n",
    "    # Gestione dei dati: converte a numerico e interpola i valori mancanti\n",
    "    arrivals = pd.to_numeric(country_data[years].iloc[0], errors='coerce') \\\n",
    "               .interpolate(method='linear', limit_direction='both').values\n",
    "    departures = pd.to_numeric(country_data[years].iloc[1], errors='coerce') \\\n",
    "                 .interpolate(method='linear', limit_direction='both').values\n",
    "    \n",
    "    # Dati per il grafico\n",
    "    x = np.arange(len(numeric_years))  # Posizioni degli anni\n",
    "    width = 0.4  # Larghezza delle barre\n",
    "    \n",
    "    # Colori in base al paese\n",
    "    color_arrivals = colors['arrivals']['Italy'] if country == 'Italy' else colors['arrivals']['default']\n",
    "    color_departures = colors['departures']['Italy'] if country == 'Italy' else colors['departures']['default']\n",
    "    \n",
    "    # Disegna le barre\n",
    "    axes[i].bar(x - width / 2, arrivals, width=width, color=color_arrivals, alpha=0.8, label='Arrivi')\n",
    "    axes[i].bar(x + width / 2, departures, width=width, color=color_departures, alpha=0.8, label='Partenze')\n",
    "    \n",
    "    # Aggiungi titolo del paese\n",
    "    axes[i].set_title(f'{country}', fontsize=12)\n",
    "    \n",
    "    # Formattazione dell'asse verticale\n",
    "    axes[i].yaxis.set_major_formatter(FuncFormatter(millions_formatter))\n",
    "    \n",
    "    # Imposta un limite personalizzato per alcuni grafici\n",
    "    if country in ['Italy', 'Germany', 'United Kingdom']:\n",
    "        axes[i].set_ylim(0, 110e6)  # Fissa il massimo a 110 milioni\n",
    "    else:\n",
    "        axes[i].set_ylim(0, max_value * 1.1)  # Usa il massimo calcolato per gli altri\n",
    "    \n",
    "    # Mostra gli anni su ogni grafico\n",
    "    axes[i].set_xticks(x)\n",
    "    axes[i].set_xticklabels(numeric_years, rotation=45, fontsize=10)\n",
    "    \n",
    "    # Mostra la legenda solo nei primi due grafici\n",
    "    if i < 2:\n",
    "        axes[i].legend(fontsize=10)\n",
    "    else:\n",
    "        axes[i].legend().remove()  # Rimuove la legenda per gli altri grafici\n",
    "    \n",
    "    # Mostra \"Numero di Turisti\" solo per il primo grafico\n",
    "    if i == 0:\n",
    "        axes[i].set_ylabel('Numero di Turisti', fontsize=10)\n",
    "    \n",
    "    # Rimuove le linee di contorno superiore e destra\n",
    "    axes[i].spines['top'].set_visible(False)\n",
    "    axes[i].spines['right'].set_visible(False)\n",
    "\n",
    "# Miglioramenti estetici\n",
    "plt.tight_layout()\n",
    "\n",
    "# Mostra il grafico\n",
    "plt.show()"
   ]
  },
  {
   "cell_type": "code",
   "execution_count": 5,
   "metadata": {},
   "outputs": [
    {
     "name": "stderr",
     "output_type": "stream",
     "text": [
      "/var/folders/wk/j7524f5j4wbd819y1wd18p600000gn/T/ipykernel_60439/2765839394.py:20: SettingWithCopyWarning:\n",
      "\n",
      "\n",
      "A value is trying to be set on a copy of a slice from a DataFrame.\n",
      "Try using .loc[row_indexer,col_indexer] = value instead\n",
      "\n",
      "See the caveats in the documentation: https://pandas.pydata.org/pandas-docs/stable/user_guide/indexing.html#returning-a-view-versus-a-copy\n",
      "\n"
     ]
    },
    {
     "data": {
      "image/png": "[encoded data removed]",
      "text/plain": [
       "<Figure size 1200x700 with 1 Axes>"
      ]
     },
     "metadata": {},
     "output_type": "display_data"
    }
   ],
   "source": [
    "# Funzione per convertire il colore RGB (0-255) in formato esadecimale\n",
    "def rgb_to_hex(r, g, b):\n",
    "    return f\"#{r:02x}{g:02x}{b:02x}\"\n",
    "\n",
    "# Carica i dati\n",
    "file_path = \"datasets/Receipts.csv\"\n",
    "df = pd.read_csv(file_path)\n",
    "\n",
    "# Seleziona i paesi di interesse\n",
    "countries = [\"Italy\", \"France\", \"Germany\", \"United Kingdom\", \"United States\"]\n",
    "df_filtered = df[df[\"Country Name\"].isin(countries)]\n",
    "\n",
    "# Estrai i nomi delle colonne che rappresentano gli anni\n",
    "years = [col for col in df.columns if col.startswith(\"20\")]\n",
    "\n",
    "# Filtra i dati per escludere gli anni dal 2021 in poi\n",
    "years = [year for year in years if int(year[:4]) <= 2020]\n",
    "\n",
    "# Interpolazione dei valori mancanti\n",
    "df_filtered[years] = df_filtered[years].replace(\"..\", None).astype(float).interpolate(axis=1)\n",
    "\n",
    "# Trasforma il dataset in formato lungo\n",
    "df_long = df_filtered.melt(id_vars=[\"Country Name\"], \n",
    "                           value_vars=years, \n",
    "                           var_name=\"Year\", value_name=\"Receipts\")\n",
    "\n",
    "# Converte l'anno in formato numerico\n",
    "df_long[\"Year\"] = df_long[\"Year\"].str[:4].astype(int)\n",
    "\n",
    "# Crea una palette pastello per gli altri paesi\n",
    "colors_pastel = sns.color_palette(\"Pastel1\", len(countries) - 1)\n",
    "\n",
    "# Crea un dizionario per i colori dei paesi\n",
    "color_dict = {country: rgb_to_hex(int(color[0] * 255), int(color[1] * 255), int(color[2] * 255))\n",
    "              for country, color in zip(countries[1:], colors_pastel)}\n",
    "\n",
    "# Colore molto saturo per l'Italia\n",
    "color_dict[\"Italy\"] = rgb_to_hex(255, 0, 0)  # Rosso molto saturo per l'Italia\n",
    "\n",
    "# Crea il grafico con Matplotlib\n",
    "plt.figure(figsize=(12, 7))  # Dimensioni aumentate per evitare sovrapposizioni\n",
    "\n",
    "# Disegna prima i grafici degli altri paesi\n",
    "for country in countries:\n",
    "    if country != \"Italy\":\n",
    "        country_data = df_long[df_long[\"Country Name\"] == country]\n",
    "        plt.plot(country_data[\"Year\"], country_data[\"Receipts\"], label=country, \n",
    "                 color=color_dict.get(country, \"#1f77b4\"), marker='o', markersize=6, linewidth=2)\n",
    "\n",
    "# Disegna il grafico dell'Italia sopra gli altri\n",
    "italy_data = df_long[df_long[\"Country Name\"] == \"Italy\"]\n",
    "plt.plot(italy_data[\"Year\"], italy_data[\"Receipts\"], label=\"Italy\", \n",
    "         color=color_dict[\"Italy\"], marker='o', zorder=10)\n",
    "\n",
    "# Personalizza il grafico\n",
    "plt.title(\"Entrate Turistiche\")\n",
    "plt.ylabel(\"US$\")\n",
    "plt.legend(bbox_to_anchor=(1.05, 1), loc='upper left')\n",
    "\n",
    "# Rimuovi griglia e bordi superiore e destro\n",
    "plt.grid(False)\n",
    "plt.gca().spines['top'].set_visible(False)\n",
    "plt.gca().spines['right'].set_visible(False)\n",
    "\n",
    "# Formatta l'asse Y per mostrare i numeri in miliardi\n",
    "plt.gca().get_yaxis().set_major_formatter(plt.FuncFormatter(lambda x, _: f'{x / 1e9:.1f}B'))\n",
    "\n",
    "# Mostra ogni anno sull'asse X e ruota leggermente le etichette\n",
    "plt.xticks(range(2000, 2021, 1), rotation=45, ha='right')\n",
    "\n",
    "# Layout compatto per evitare sovrapposizioni\n",
    "plt.tight_layout()\n",
    "\n",
    "# Mostra il grafico\n",
    "plt.show()"
   ]
  },
  {
   "cell_type": "code",
   "execution_count": 6,
   "metadata": {},
   "outputs": [
    {
     "data": {
      "image/png": "[encoded data removed]",
      "text/plain": [
       "<Figure size 1000x600 with 1 Axes>"
      ]
     },
     "metadata": {},
     "output_type": "display_data"
    }
   ],
   "source": [
    "# Caricamento dei dati dal file CSV\n",
    "file_path = \"datasets/investments.csv\"  # Percorso del file\n",
    "df = pd.read_csv(file_path)\n",
    "\n",
    "# Filtrare i paesi desiderati\n",
    "countries_to_show = ['United States', 'United Kingdom', 'Germany', 'France', 'Italy']\n",
    "df = df[df['Country'].isin(countries_to_show)]\n",
    "\n",
    "# Ordinamento dei dati per investimenti in modo decrescente\n",
    "df = df.sort_values(by='Estimated_Investment_bn', ascending=True)\n",
    "\n",
    "# Colori pastello\n",
    "pastel_colors = ['#ff4444', '#ffe5cc', '#cce5ff', '#ccffcc', '#e5e5f7']\n",
    "\n",
    "# Creazione del grafico a barre orizzontali\n",
    "plt.figure(figsize=(10, 6))\n",
    "bar_height = 0.75  # Altezza delle barre (più basso = barre più strette)\n",
    "bars = plt.barh(\n",
    "    df['Country'], \n",
    "    df['Estimated_Investment_bn'], \n",
    "    color=pastel_colors[:len(df)],\n",
    "    height=bar_height  # Imposta altezza barre\n",
    ")\n",
    "\n",
    "# Aggiunta dei valori sulle barre\n",
    "for bar, value in zip(bars, df['Estimated_Investment_bn']):\n",
    "    plt.text(\n",
    "        bar.get_width() + 0.05,  # Posizione del testo\n",
    "        bar.get_y() + bar.get_height() / 2,  # Altezza del testo\n",
    "        f\"{value:.1f}\",  # Testo con formato\n",
    "        va='center', \n",
    "        fontsize=10.5\n",
    "    )\n",
    "\n",
    "# Personalizzazione del grafico\n",
    "plt.title(\"Investimenti nel Turismo (Miliardi di $)\", fontsize=14, pad=20)\n",
    "plt.gca().xaxis.set_visible(False)  # Rimuove l'asse orizzontale\n",
    "plt.gca().spines['left'].set_visible(False)  # Nasconde il bordo dell'asse y\n",
    "plt.gca().spines['bottom'].set_visible(False)  # Nasconde il bordo dell'asse x\n",
    "plt.gca().spines['right'].set_visible(False)  # Nasconde il bordo destro\n",
    "plt.gca().spines['top'].set_visible(False)  # Nasconde il bordo superiore\n",
    "\n",
    "# Rimuove i titoli degli assi\n",
    "plt.xlabel(\"\")\n",
    "plt.ylabel(\"\")\n",
    "\n",
    "# Sfondo bianco\n",
    "plt.gca().set_facecolor('white')\n",
    "\n",
    "# Mostra il grafico\n",
    "plt.tight_layout()\n",
    "plt.show()"
   ]
  },
  {
   "cell_type": "code",
   "execution_count": 7,
   "metadata": {},
   "outputs": [
    {
     "data": {
      "application/vnd.plotly.v1+json": {
       "config": {
        "plotlyServerURL": "https://plot.ly"
       },
       "data": [
        {
         "hovertemplate": "Regioni di residenza=ABRUZZO<br>mese=%{x}<br>Visitatori=%{y}<extra></extra>",
         "legendgroup": "ABRUZZO",
         "line": {
          "color": "#FECB52",
          "dash": "solid"
         },
         "marker": {
          "symbol": "circle"
         },
         "mode": "lines+markers",
         "name": "ABRUZZO",
         "orientation": "v",
         "showlegend": true,
         "type": "scatter",
         "x": [
          "Agosto",
          "Aprile",
          "Dicembre",
          "Febbraio",
          "Gennaio",
          "Giugno",
          "Luglio",
          "Maggio",
          "Marzo",
          "Novembre",
          "Ottobre",
          "Settembre"
         ],
         "xaxis": "x",
         "y": [
          1123,
          2911,
          2957,
          2964,
          2601,
          2686,
          2420,
          3212,
          2989,
          3695,
          3556,
          3099
         ],
         "yaxis": "y"
        },
        {
         "hovertemplate": "Regioni di residenza=BASILICATA<br>mese=%{x}<br>Visitatori=%{y}<extra></extra>",
         "legendgroup": "BASILICATA",
         "line": {
          "color": "#FF97FF",
          "dash": "solid"
         },
         "marker": {
          "symbol": "circle"
         },
         "mode": "lines+markers",
         "name": "BASILICATA",
         "orientation": "v",
         "showlegend": true,
         "type": "scatter",
         "x": [
          "Agosto",
          "Aprile",
          "Dicembre",
          "Febbraio",
          "Gennaio",
          "Giugno",
          "Luglio",
          "Maggio",
          "Marzo",
          "Novembre",
          "Ottobre",
          "Settembre"
         ],
         "xaxis": "x",
         "y": [
          571,
          1172,
          1207,
          1251,
          1128,
          1006,
          1038,
          1157,
          1164,
          1402,
          1310,
          1304
         ],
         "yaxis": "y"
        },
        {
         "hovertemplate": "Regioni di residenza=CALABRIA<br>mese=%{x}<br>Visitatori=%{y}<extra></extra>",
         "legendgroup": "CALABRIA",
         "line": {
          "color": "#B6E880",
          "dash": "solid"
         },
         "marker": {
          "symbol": "circle"
         },
         "mode": "lines+markers",
         "name": "CALABRIA",
         "orientation": "v",
         "showlegend": true,
         "type": "scatter",
         "x": [
          "Agosto",
          "Aprile",
          "Dicembre",
          "Febbraio",
          "Gennaio",
          "Giugno",
          "Luglio",
          "Maggio",
          "Marzo",
          "Novembre",
          "Ottobre",
          "Settembre"
         ],
         "xaxis": "x",
         "y": [
          1583,
          3774,
          3676,
          3945,
          3511,
          3435,
          3125,
          4004,
          3894,
          4827,
          4614,
          4163
         ],
         "yaxis": "y"
        },
        {
         "hovertemplate": "Regioni di residenza=CAMPANIA<br>mese=%{x}<br>Visitatori=%{y}<extra></extra>",
         "legendgroup": "CAMPANIA",
         "line": {
          "color": "#FF6692",
          "dash": "solid"
         },
         "marker": {
          "symbol": "circle"
         },
         "mode": "lines+markers",
         "name": "CAMPANIA",
         "orientation": "v",
         "showlegend": true,
         "type": "scatter",
         "x": [
          "Agosto",
          "Aprile",
          "Dicembre",
          "Febbraio",
          "Gennaio",
          "Giugno",
          "Luglio",
          "Maggio",
          "Marzo",
          "Novembre",
          "Ottobre",
          "Settembre"
         ],
         "xaxis": "x",
         "y": [
          4642,
          11872,
          10924,
          12606,
          10856,
          10186,
          10600,
          12180,
          10657,
          15377,
          13372,
          12529
         ],
         "yaxis": "y"
        },
        {
         "hovertemplate": "Regioni di residenza=EMILIA ROMAGNA<br>mese=%{x}<br>Visitatori=%{y}<extra></extra>",
         "legendgroup": "EMILIA ROMAGNA",
         "line": {
          "color": "#19D3F3",
          "dash": "solid"
         },
         "marker": {
          "symbol": "circle"
         },
         "mode": "lines+markers",
         "name": "EMILIA ROMAGNA",
         "orientation": "v",
         "showlegend": true,
         "type": "scatter",
         "x": [
          "Agosto",
          "Aprile",
          "Dicembre",
          "Febbraio",
          "Gennaio",
          "Giugno",
          "Luglio",
          "Maggio",
          "Marzo",
          "Novembre",
          "Ottobre",
          "Settembre"
         ],
         "xaxis": "x",
         "y": [
          3664,
          9791,
          10981,
          10822,
          8506,
          9552,
          7497,
          10075,
          10034,
          12350,
          11947,
          9691
         ],
         "yaxis": "y"
        },
        {
         "hovertemplate": "Regioni di residenza=FRIULI VENEZIA GIULIA<br>mese=%{x}<br>Visitatori=%{y}<extra></extra>",
         "legendgroup": "FRIULI VENEZIA GIULIA",
         "line": {
          "color": "#FFA15A",
          "dash": "solid"
         },
         "marker": {
          "symbol": "circle"
         },
         "mode": "lines+markers",
         "name": "FRIULI VENEZIA GIULIA",
         "orientation": "v",
         "showlegend": true,
         "type": "scatter",
         "x": [
          "Agosto",
          "Aprile",
          "Dicembre",
          "Febbraio",
          "Gennaio",
          "Giugno",
          "Luglio",
          "Maggio",
          "Marzo",
          "Novembre",
          "Ottobre",
          "Settembre"
         ],
         "xaxis": "x",
         "y": [
          1195,
          4055,
          3717,
          3803,
          2861,
          3778,
          2928,
          3787,
          3699,
          4454,
          4152,
          3555
         ],
         "yaxis": "y"
        },
        {
         "hovertemplate": "Regioni di residenza=LAZIO<br>mese=%{x}<br>Visitatori=%{y}<extra></extra>",
         "legendgroup": "LAZIO",
         "line": {
          "color": "#AB63FA",
          "dash": "solid"
         },
         "marker": {
          "symbol": "circle"
         },
         "mode": "lines+markers",
         "name": "LAZIO",
         "orientation": "v",
         "showlegend": true,
         "type": "scatter",
         "x": [
          "Agosto",
          "Aprile",
          "Dicembre",
          "Febbraio",
          "Gennaio",
          "Giugno",
          "Luglio",
          "Maggio",
          "Marzo",
          "Novembre",
          "Ottobre",
          "Settembre"
         ],
         "xaxis": "x",
         "y": [
          7262,
          21312,
          22029,
          21696,
          18854,
          21131,
          19200,
          24658,
          22558,
          27644,
          24368,
          21941
         ],
         "yaxis": "y"
        },
        {
         "hovertemplate": "Regioni di residenza=LIGURIA<br>mese=%{x}<br>Visitatori=%{y}<extra></extra>",
         "legendgroup": "LIGURIA",
         "line": {
          "color": "#00CC96",
          "dash": "solid"
         },
         "marker": {
          "symbol": "circle"
         },
         "mode": "lines+markers",
         "name": "LIGURIA",
         "orientation": "v",
         "showlegend": true,
         "type": "scatter",
         "x": [
          "Agosto",
          "Aprile",
          "Dicembre",
          "Febbraio",
          "Gennaio",
          "Giugno",
          "Luglio",
          "Maggio",
          "Marzo",
          "Novembre",
          "Ottobre",
          "Settembre"
         ],
         "xaxis": "x",
         "y": [
          1893,
          4488,
          5419,
          4756,
          4284,
          4690,
          3458,
          5072,
          4844,
          6042,
          5720,
          4569
         ],
         "yaxis": "y"
        },
        {
         "hovertemplate": "Regioni di residenza=LOMBARDIA<br>mese=%{x}<br>Visitatori=%{y}<extra></extra>",
         "legendgroup": "LOMBARDIA",
         "line": {
          "color": "#EF553B",
          "dash": "solid"
         },
         "marker": {
          "symbol": "circle"
         },
         "mode": "lines+markers",
         "name": "LOMBARDIA",
         "orientation": "v",
         "showlegend": true,
         "type": "scatter",
         "x": [
          "Agosto",
          "Aprile",
          "Dicembre",
          "Febbraio",
          "Gennaio",
          "Giugno",
          "Luglio",
          "Maggio",
          "Marzo",
          "Novembre",
          "Ottobre",
          "Settembre"
         ],
         "xaxis": "x",
         "y": [
          18830,
          37286,
          39742,
          40606,
          34478,
          36426,
          32968,
          38927,
          38185,
          42621,
          40922,
          34788
         ],
         "yaxis": "y"
        },
        {
         "hovertemplate": "Regioni di residenza=MARCHE<br>mese=%{x}<br>Visitatori=%{y}<extra></extra>",
         "legendgroup": "MARCHE",
         "line": {
          "color": "#636EFA",
          "dash": "solid"
         },
         "marker": {
          "symbol": "circle"
         },
         "mode": "lines+markers",
         "name": "MARCHE",
         "orientation": "v",
         "showlegend": true,
         "type": "scatter",
         "x": [
          "Agosto",
          "Aprile",
          "Dicembre",
          "Febbraio",
          "Gennaio",
          "Giugno",
          "Luglio",
          "Maggio",
          "Marzo",
          "Novembre",
          "Ottobre",
          "Settembre"
         ],
         "xaxis": "x",
         "y": [
          1924,
          4887,
          4484,
          5203,
          3797,
          3893,
          3205,
          4220,
          4427,
          5123,
          5002,
          5286
         ],
         "yaxis": "y"
        },
        {
         "hovertemplate": "Regioni di residenza=MOLISE<br>mese=%{x}<br>Visitatori=%{y}<extra></extra>",
         "legendgroup": "MOLISE",
         "line": {
          "color": "#FECB52",
          "dash": "solid"
         },
         "marker": {
          "symbol": "circle"
         },
         "mode": "lines+markers",
         "name": "MOLISE",
         "orientation": "v",
         "showlegend": true,
         "type": "scatter",
         "x": [
          "Agosto",
          "Aprile",
          "Dicembre",
          "Febbraio",
          "Gennaio",
          "Giugno",
          "Luglio",
          "Maggio",
          "Marzo",
          "Novembre",
          "Ottobre",
          "Settembre"
         ],
         "xaxis": "x",
         "y": [
          286,
          645,
          633,
          688,
          482,
          592,
          619,
          720,
          701,
          854,
          774,
          782
         ],
         "yaxis": "y"
        },
        {
         "hovertemplate": "Regioni di residenza=PIEMONTE<br>mese=%{x}<br>Visitatori=%{y}<extra></extra>",
         "legendgroup": "PIEMONTE",
         "line": {
          "color": "#FF97FF",
          "dash": "solid"
         },
         "marker": {
          "symbol": "circle"
         },
         "mode": "lines+markers",
         "name": "PIEMONTE",
         "orientation": "v",
         "showlegend": true,
         "type": "scatter",
         "x": [
          "Agosto",
          "Aprile",
          "Dicembre",
          "Febbraio",
          "Gennaio",
          "Giugno",
          "Luglio",
          "Maggio",
          "Marzo",
          "Novembre",
          "Ottobre",
          "Settembre"
         ],
         "xaxis": "x",
         "y": [
          3068,
          7390,
          8607,
          8280,
          7073,
          7869,
          6216,
          8506,
          8078,
          9253,
          8805,
          7304
         ],
         "yaxis": "y"
        },
        {
         "hovertemplate": "Regioni di residenza=PUGLIA<br>mese=%{x}<br>Visitatori=%{y}<extra></extra>",
         "legendgroup": "PUGLIA",
         "line": {
          "color": "#B6E880",
          "dash": "solid"
         },
         "marker": {
          "symbol": "circle"
         },
         "mode": "lines+markers",
         "name": "PUGLIA",
         "orientation": "v",
         "showlegend": true,
         "type": "scatter",
         "x": [
          "Agosto",
          "Aprile",
          "Dicembre",
          "Febbraio",
          "Gennaio",
          "Giugno",
          "Luglio",
          "Maggio",
          "Marzo",
          "Novembre",
          "Ottobre",
          "Settembre"
         ],
         "xaxis": "x",
         "y": [
          3540,
          8948,
          8502,
          9330,
          8349,
          7591,
          7998,
          9357,
          8683,
          11304,
          10514,
          9870
         ],
         "yaxis": "y"
        },
        {
         "hovertemplate": "Regioni di residenza=SARDEGNA<br>mese=%{x}<br>Visitatori=%{y}<extra></extra>",
         "legendgroup": "SARDEGNA",
         "line": {
          "color": "#FF6692",
          "dash": "solid"
         },
         "marker": {
          "symbol": "circle"
         },
         "mode": "lines+markers",
         "name": "SARDEGNA",
         "orientation": "v",
         "showlegend": true,
         "type": "scatter",
         "x": [
          "Agosto",
          "Aprile",
          "Dicembre",
          "Febbraio",
          "Gennaio",
          "Giugno",
          "Luglio",
          "Maggio",
          "Marzo",
          "Novembre",
          "Ottobre",
          "Settembre"
         ],
         "xaxis": "x",
         "y": [
          1379,
          3615,
          3922,
          3237,
          3362,
          3215,
          2935,
          3761,
          3468,
          4488,
          4307,
          3643
         ],
         "yaxis": "y"
        },
        {
         "hovertemplate": "Regioni di residenza=SICILIA<br>mese=%{x}<br>Visitatori=%{y}<extra></extra>",
         "legendgroup": "SICILIA",
         "line": {
          "color": "#19D3F3",
          "dash": "solid"
         },
         "marker": {
          "symbol": "circle"
         },
         "mode": "lines+markers",
         "name": "SICILIA",
         "orientation": "v",
         "showlegend": true,
         "type": "scatter",
         "x": [
          "Agosto",
          "Aprile",
          "Dicembre",
          "Febbraio",
          "Gennaio",
          "Giugno",
          "Luglio",
          "Maggio",
          "Marzo",
          "Novembre",
          "Ottobre",
          "Settembre"
         ],
         "xaxis": "x",
         "y": [
          2969,
          8548,
          8492,
          8082,
          8164,
          7589,
          6850,
          9416,
          8545,
          12133,
          9955,
          8450
         ],
         "yaxis": "y"
        },
        {
         "hovertemplate": "Regioni di residenza=TOSCANA<br>mese=%{x}<br>Visitatori=%{y}<extra></extra>",
         "legendgroup": "TOSCANA",
         "line": {
          "color": "#FFA15A",
          "dash": "solid"
         },
         "marker": {
          "symbol": "circle"
         },
         "mode": "lines+markers",
         "name": "TOSCANA",
         "orientation": "v",
         "showlegend": true,
         "type": "scatter",
         "x": [
          "Agosto",
          "Aprile",
          "Dicembre",
          "Febbraio",
          "Gennaio",
          "Giugno",
          "Luglio",
          "Maggio",
          "Marzo",
          "Novembre",
          "Ottobre",
          "Settembre"
         ],
         "xaxis": "x",
         "y": [
          3568,
          10074,
          11600,
          11424,
          9492,
          9903,
          8293,
          10746,
          10133,
          13016,
          11543,
          11345
         ],
         "yaxis": "y"
        },
        {
         "hovertemplate": "Regioni di residenza=TRENTINO ALTO ADIGE<br>mese=%{x}<br>Visitatori=%{y}<extra></extra>",
         "legendgroup": "TRENTINO ALTO ADIGE",
         "line": {
          "color": "#AB63FA",
          "dash": "solid"
         },
         "marker": {
          "symbol": "circle"
         },
         "mode": "lines+markers",
         "name": "TRENTINO ALTO ADIGE",
         "orientation": "v",
         "showlegend": true,
         "type": "scatter",
         "x": [
          "Agosto",
          "Aprile",
          "Dicembre",
          "Febbraio",
          "Gennaio",
          "Giugno",
          "Luglio",
          "Maggio",
          "Marzo",
          "Novembre",
          "Ottobre",
          "Settembre"
         ],
         "xaxis": "x",
         "y": [
          738,
          2612,
          2068,
          2145,
          1753,
          2157,
          1575,
          2174,
          2140,
          2628,
          2508,
          2058
         ],
         "yaxis": "y"
        },
        {
         "hovertemplate": "Regioni di residenza=UMBRIA<br>mese=%{x}<br>Visitatori=%{y}<extra></extra>",
         "legendgroup": "UMBRIA",
         "line": {
          "color": "#00CC96",
          "dash": "solid"
         },
         "marker": {
          "symbol": "circle"
         },
         "mode": "lines+markers",
         "name": "UMBRIA",
         "orientation": "v",
         "showlegend": true,
         "type": "scatter",
         "x": [
          "Agosto",
          "Aprile",
          "Dicembre",
          "Febbraio",
          "Gennaio",
          "Giugno",
          "Luglio",
          "Maggio",
          "Marzo",
          "Novembre",
          "Ottobre",
          "Settembre"
         ],
         "xaxis": "x",
         "y": [
          899,
          2656,
          2423,
          2614,
          2299,
          2102,
          1910,
          2587,
          2401,
          3048,
          2746,
          2391
         ],
         "yaxis": "y"
        },
        {
         "hovertemplate": "Regioni di residenza=VALLE D'AOSTA<br>mese=%{x}<br>Visitatori=%{y}<extra></extra>",
         "legendgroup": "VALLE D'AOSTA",
         "line": {
          "color": "#EF553B",
          "dash": "solid"
         },
         "marker": {
          "symbol": "circle"
         },
         "mode": "lines+markers",
         "name": "VALLE D'AOSTA",
         "orientation": "v",
         "showlegend": true,
         "type": "scatter",
         "x": [
          "Agosto",
          "Aprile",
          "Dicembre",
          "Febbraio",
          "Gennaio",
          "Giugno",
          "Luglio",
          "Maggio",
          "Marzo",
          "Novembre",
          "Ottobre",
          "Settembre"
         ],
         "xaxis": "x",
         "y": [
          241,
          413,
          675,
          324,
          309,
          349,
          290,
          384,
          331,
          510,
          346,
          352
         ],
         "yaxis": "y"
        },
        {
         "hovertemplate": "Regioni di residenza=VENETO<br>mese=%{x}<br>Visitatori=%{y}<extra></extra>",
         "legendgroup": "VENETO",
         "line": {
          "color": "#636EFA",
          "dash": "solid"
         },
         "marker": {
          "symbol": "circle"
         },
         "mode": "lines+markers",
         "name": "VENETO",
         "orientation": "v",
         "showlegend": true,
         "type": "scatter",
         "x": [
          "Agosto",
          "Aprile",
          "Dicembre",
          "Febbraio",
          "Gennaio",
          "Giugno",
          "Luglio",
          "Maggio",
          "Marzo",
          "Novembre",
          "Ottobre",
          "Settembre"
         ],
         "xaxis": "x",
         "y": [
          4235,
          12339,
          12610,
          12831,
          10240,
          12394,
          9232,
          12390,
          12566,
          14670,
          13846,
          11329
         ],
         "yaxis": "y"
        }
       ],
       "layout": {
        "legend": {
         "title": {
          "text": "Regioni di residenza"
         },
         "tracegroupgap": 0
        },
        "paper_bgcolor": "white",
        "plot_bgcolor": "white",
        "showlegend": true,
        "template": {
         "data": {
          "bar": [
           {
            "error_x": {
             "color": "#2a3f5f"
            },
            "error_y": {
             "color": "#2a3f5f"
            },
            "marker": {
             "line": {
              "color": "#E5ECF6",
              "width": 0.5
             },
             "pattern": {
              "fillmode": "overlay",
              "size": 10,
              "solidity": 0.2
             }
            },
            "type": "bar"
           }
          ],
          "barpolar": [
           {
            "marker": {
             "line": {
              "color": "#E5ECF6",
              "width": 0.5
             },
             "pattern": {
              "fillmode": "overlay",
              "size": 10,
              "solidity": 0.2
             }
            },
            "type": "barpolar"
           }
          ],
          "carpet": [
           {
            "aaxis": {
             "endlinecolor": "#2a3f5f",
             "gridcolor": "white",
             "linecolor": "white",
             "minorgridcolor": "white",
             "startlinecolor": "#2a3f5f"
            },
            "baxis": {
             "endlinecolor": "#2a3f5f",
             "gridcolor": "white",
             "linecolor": "white",
             "minorgridcolor": "white",
             "startlinecolor": "#2a3f5f"
            },
            "type": "carpet"
           }
          ],
          "choropleth": [
           {
            "colorbar": {
             "outlinewidth": 0,
             "ticks": ""
            },
            "type": "choropleth"
           }
          ],
          "contour": [
           {
            "colorbar": {
             "outlinewidth": 0,
             "ticks": ""
            },
            "colorscale": [
             [
              0,
              "#0d0887"
             ],
             [
              0.1111111111111111,
              "#46039f"
             ],
             [
              0.2222222222222222,
              "#7201a8"
             ],
             [
              0.3333333333333333,
              "#9c179e"
             ],
             [
              0.4444444444444444,
              "#bd3786"
             ],
             [
              0.5555555555555556,
              "#d8576b"
             ],
             [
              0.6666666666666666,
              "#ed7953"
             ],
             [
              0.7777777777777778,
              "#fb9f3a"
             ],
             [
              0.8888888888888888,
              "#fdca26"
             ],
             [
              1,
              "#f0f921"
             ]
            ],
            "type": "contour"
           }
          ],
          "contourcarpet": [
           {
            "colorbar": {
             "outlinewidth": 0,
             "ticks": ""
            },
            "type": "contourcarpet"
           }
          ],
          "heatmap": [
           {
            "colorbar": {
             "outlinewidth": 0,
             "ticks": ""
            },
            "colorscale": [
             [
              0,
              "#0d0887"
             ],
             [
              0.1111111111111111,
              "#46039f"
             ],
             [
              0.2222222222222222,
              "#7201a8"
             ],
             [
              0.3333333333333333,
              "#9c179e"
             ],
             [
              0.4444444444444444,
              "#bd3786"
             ],
             [
              0.5555555555555556,
              "#d8576b"
             ],
             [
              0.6666666666666666,
              "#ed7953"
             ],
             [
              0.7777777777777778,
              "#fb9f3a"
             ],
             [
              0.8888888888888888,
              "#fdca26"
             ],
             [
              1,
              "#f0f921"
             ]
            ],
            "type": "heatmap"
           }
          ],
          "heatmapgl": [
           {
            "colorbar": {
             "outlinewidth": 0,
             "ticks": ""
            },
            "colorscale": [
             [
              0,
              "#0d0887"
             ],
             [
              0.1111111111111111,
              "#46039f"
             ],
             [
              0.2222222222222222,
              "#7201a8"
             ],
             [
              0.3333333333333333,
              "#9c179e"
             ],
             [
              0.4444444444444444,
              "#bd3786"
             ],
             [
              0.5555555555555556,
              "#d8576b"
             ],
             [
              0.6666666666666666,
              "#ed7953"
             ],
             [
              0.7777777777777778,
              "#fb9f3a"
             ],
             [
              0.8888888888888888,
              "#fdca26"
             ],
             [
              1,
              "#f0f921"
             ]
            ],
            "type": "heatmapgl"
           }
          ],
          "histogram": [
           {
            "marker": {
             "pattern": {
              "fillmode": "overlay",
              "size": 10,
              "solidity": 0.2
             }
            },
            "type": "histogram"
           }
          ],
          "histogram2d": [
           {
            "colorbar": {
             "outlinewidth": 0,
             "ticks": ""
            },
            "colorscale": [
             [
              0,
              "#0d0887"
             ],
             [
              0.1111111111111111,
              "#46039f"
             ],
             [
              0.2222222222222222,
              "#7201a8"
             ],
             [
              0.3333333333333333,
              "#9c179e"
             ],
             [
              0.4444444444444444,
              "#bd3786"
             ],
             [
              0.5555555555555556,
              "#d8576b"
             ],
             [
              0.6666666666666666,
              "#ed7953"
             ],
             [
              0.7777777777777778,
              "#fb9f3a"
             ],
             [
              0.8888888888888888,
              "#fdca26"
             ],
             [
              1,
              "#f0f921"
             ]
            ],
            "type": "histogram2d"
           }
          ],
          "histogram2dcontour": [
           {
            "colorbar": {
             "outlinewidth": 0,
             "ticks": ""
            },
            "colorscale": [
             [
              0,
              "#0d0887"
             ],
             [
              0.1111111111111111,
              "#46039f"
             ],
             [
              0.2222222222222222,
              "#7201a8"
             ],
             [
              0.3333333333333333,
              "#9c179e"
             ],
             [
              0.4444444444444444,
              "#bd3786"
             ],
             [
              0.5555555555555556,
              "#d8576b"
             ],
             [
              0.6666666666666666,
              "#ed7953"
             ],
             [
              0.7777777777777778,
              "#fb9f3a"
             ],
             [
              0.8888888888888888,
              "#fdca26"
             ],
             [
              1,
              "#f0f921"
             ]
            ],
            "type": "histogram2dcontour"
           }
          ],
          "mesh3d": [
           {
            "colorbar": {
             "outlinewidth": 0,
             "ticks": ""
            },
            "type": "mesh3d"
           }
          ],
          "parcoords": [
           {
            "line": {
             "colorbar": {
              "outlinewidth": 0,
              "ticks": ""
             }
            },
            "type": "parcoords"
           }
          ],
          "pie": [
           {
            "automargin": true,
            "type": "pie"
           }
          ],
          "scatter": [
           {
            "fillpattern": {
             "fillmode": "overlay",
             "size": 10,
             "solidity": 0.2
            },
            "type": "scatter"
           }
          ],
          "scatter3d": [
           {
            "line": {
             "colorbar": {
              "outlinewidth": 0,
              "ticks": ""
             }
            },
            "marker": {
             "colorbar": {
              "outlinewidth": 0,
              "ticks": ""
             }
            },
            "type": "scatter3d"
           }
          ],
          "scattercarpet": [
           {
            "marker": {
             "colorbar": {
              "outlinewidth": 0,
              "ticks": ""
             }
            },
            "type": "scattercarpet"
           }
          ],
          "scattergeo": [
           {
            "marker": {
             "colorbar": {
              "outlinewidth": 0,
              "ticks": ""
             }
            },
            "type": "scattergeo"
           }
          ],
          "scattergl": [
           {
            "marker": {
             "colorbar": {
              "outlinewidth": 0,
              "ticks": ""
             }
            },
            "type": "scattergl"
           }
          ],
          "scattermapbox": [
           {
            "marker": {
             "colorbar": {
              "outlinewidth": 0,
              "ticks": ""
             }
            },
            "type": "scattermapbox"
           }
          ],
          "scatterpolar": [
           {
            "marker": {
             "colorbar": {
              "outlinewidth": 0,
              "ticks": ""
             }
            },
            "type": "scatterpolar"
           }
          ],
          "scatterpolargl": [
           {
            "marker": {
             "colorbar": {
              "outlinewidth": 0,
              "ticks": ""
             }
            },
            "type": "scatterpolargl"
           }
          ],
          "scatterternary": [
           {
            "marker": {
             "colorbar": {
              "outlinewidth": 0,
              "ticks": ""
             }
            },
            "type": "scatterternary"
           }
          ],
          "surface": [
           {
            "colorbar": {
             "outlinewidth": 0,
             "ticks": ""
            },
            "colorscale": [
             [
              0,
              "#0d0887"
             ],
             [
              0.1111111111111111,
              "#46039f"
             ],
             [
              0.2222222222222222,
              "#7201a8"
             ],
             [
              0.3333333333333333,
              "#9c179e"
             ],
             [
              0.4444444444444444,
              "#bd3786"
             ],
             [
              0.5555555555555556,
              "#d8576b"
             ],
             [
              0.6666666666666666,
              "#ed7953"
             ],
             [
              0.7777777777777778,
              "#fb9f3a"
             ],
             [
              0.8888888888888888,
              "#fdca26"
             ],
             [
              1,
              "#f0f921"
             ]
            ],
            "type": "surface"
           }
          ],
          "table": [
           {
            "cells": {
             "fill": {
              "color": "#EBF0F8"
             },
             "line": {
              "color": "white"
             }
            },
            "header": {
             "fill": {
              "color": "#C8D4E3"
             },
             "line": {
              "color": "white"
             }
            },
            "type": "table"
           }
          ]
         },
         "layout": {
          "annotationdefaults": {
           "arrowcolor": "#2a3f5f",
           "arrowhead": 0,
           "arrowwidth": 1
          },
          "autotypenumbers": "strict",
          "coloraxis": {
           "colorbar": {
            "outlinewidth": 0,
            "ticks": ""
           }
          },
          "colorscale": {
           "diverging": [
            [
             0,
             "#8e0152"
            ],
            [
             0.1,
             "#c51b7d"
            ],
            [
             0.2,
             "#de77ae"
            ],
            [
             0.3,
             "#f1b6da"
            ],
            [
             0.4,
             "#fde0ef"
            ],
            [
             0.5,
             "#f7f7f7"
            ],
            [
             0.6,
             "#e6f5d0"
            ],
            [
             0.7,
             "#b8e186"
            ],
            [
             0.8,
             "#7fbc41"
            ],
            [
             0.9,
             "#4d9221"
            ],
            [
             1,
             "#276419"
            ]
           ],
           "sequential": [
            [
             0,
             "#0d0887"
            ],
            [
             0.1111111111111111,
             "#46039f"
            ],
            [
             0.2222222222222222,
             "#7201a8"
            ],
            [
             0.3333333333333333,
             "#9c179e"
            ],
            [
             0.4444444444444444,
             "#bd3786"
            ],
            [
             0.5555555555555556,
             "#d8576b"
            ],
            [
             0.6666666666666666,
             "#ed7953"
            ],
            [
             0.7777777777777778,
             "#fb9f3a"
            ],
            [
             0.8888888888888888,
             "#fdca26"
            ],
            [
             1,
             "#f0f921"
            ]
           ],
           "sequentialminus": [
            [
             0,
             "#0d0887"
            ],
            [
             0.1111111111111111,
             "#46039f"
            ],
            [
             0.2222222222222222,
             "#7201a8"
            ],
            [
             0.3333333333333333,
             "#9c179e"
            ],
            [
             0.4444444444444444,
             "#bd3786"
            ],
            [
             0.5555555555555556,
             "#d8576b"
            ],
            [
             0.6666666666666666,
             "#ed7953"
            ],
            [
             0.7777777777777778,
             "#fb9f3a"
            ],
            [
             0.8888888888888888,
             "#fdca26"
            ],
            [
             1,
             "#f0f921"
            ]
           ]
          },
          "colorway": [
           "#636efa",
           "#EF553B",
           "#00cc96",
           "#ab63fa",
           "#FFA15A",
           "#19d3f3",
           "#FF6692",
           "#B6E880",
           "#FF97FF",
           "#FECB52"
          ],
          "font": {
           "color": "#2a3f5f"
          },
          "geo": {
           "bgcolor": "white",
           "lakecolor": "white",
           "landcolor": "#E5ECF6",
           "showlakes": true,
           "showland": true,
           "subunitcolor": "white"
          },
          "hoverlabel": {
           "align": "left"
          },
          "hovermode": "closest",
          "mapbox": {
           "style": "light"
          },
          "paper_bgcolor": "white",
          "plot_bgcolor": "#E5ECF6",
          "polar": {
           "angularaxis": {
            "gridcolor": "white",
            "linecolor": "white",
            "ticks": ""
           },
           "bgcolor": "#E5ECF6",
           "radialaxis": {
            "gridcolor": "white",
            "linecolor": "white",
            "ticks": ""
           }
          },
          "scene": {
           "xaxis": {
            "backgroundcolor": "#E5ECF6",
            "gridcolor": "white",
            "gridwidth": 2,
            "linecolor": "white",
            "showbackground": true,
            "ticks": "",
            "zerolinecolor": "white"
           },
           "yaxis": {
            "backgroundcolor": "#E5ECF6",
            "gridcolor": "white",
            "gridwidth": 2,
            "linecolor": "white",
            "showbackground": true,
            "ticks": "",
            "zerolinecolor": "white"
           },
           "zaxis": {
            "backgroundcolor": "#E5ECF6",
            "gridcolor": "white",
            "gridwidth": 2,
            "linecolor": "white",
            "showbackground": true,
            "ticks": "",
            "zerolinecolor": "white"
           }
          },
          "shapedefaults": {
           "line": {
            "color": "#2a3f5f"
           }
          },
          "ternary": {
           "aaxis": {
            "gridcolor": "white",
            "linecolor": "white",
            "ticks": ""
           },
           "baxis": {
            "gridcolor": "white",
            "linecolor": "white",
            "ticks": ""
           },
           "bgcolor": "#E5ECF6",
           "caxis": {
            "gridcolor": "white",
            "linecolor": "white",
            "ticks": ""
           }
          },
          "title": {
           "x": 0.05
          },
          "xaxis": {
           "automargin": true,
           "gridcolor": "white",
           "linecolor": "white",
           "ticks": "",
           "title": {
            "standoff": 15
           },
           "zerolinecolor": "white",
           "zerolinewidth": 2
          },
          "yaxis": {
           "automargin": true,
           "gridcolor": "white",
           "linecolor": "white",
           "ticks": "",
           "title": {
            "standoff": 15
           },
           "zerolinecolor": "white",
           "zerolinewidth": 2
          }
         }
        },
        "title": {
         "text": "Andamento mensile per regione"
        },
        "xaxis": {
         "anchor": "y",
         "domain": [
          0,
          1
         ],
         "showgrid": false,
         "tickangle": -45,
         "title": {
          "text": "Mese"
         }
        },
        "yaxis": {
         "anchor": "x",
         "domain": [
          0,
          1
         ],
         "showgrid": false,
         "title": {
          "text": "Visitatori"
         }
        }
       }
      }
     },
     "metadata": {},
     "output_type": "display_data"
    },
    {
     "data": {
      "application/vnd.plotly.v1+json": {
       "config": {
        "plotlyServerURL": "https://plot.ly"
       },
       "data": [
        {
         "customdata": [
          [
           "ABRUZZO"
          ],
          [
           "BASILICATA"
          ],
          [
           "CALABRIA"
          ],
          [
           "CAMPANIA"
          ],
          [
           "EMILIA ROMAGNA"
          ],
          [
           "FRIULI VENEZIA GIULIA"
          ],
          [
           "LAZIO"
          ],
          [
           "LIGURIA"
          ],
          [
           "LOMBARDIA"
          ],
          [
           "MARCHE"
          ],
          [
           "MOLISE"
          ],
          [
           "PIEMONTE"
          ],
          [
           "PUGLIA"
          ],
          [
           "SARDEGNA"
          ],
          [
           "SICILIA"
          ],
          [
           "TOSCANA"
          ],
          [
           "TRENTINO ALTO ADIGE"
          ],
          [
           "UMBRIA"
          ],
          [
           "VALLE D'AOSTA"
          ],
          [
           "VENETO"
          ]
         ],
         "domain": {
          "x": [
           0,
           1
          ],
          "y": [
           0,
           1
          ]
         },
         "hovertemplate": "Regioni di residenza=%{customdata[0]}<br>Visitatori=%{value}<extra></extra>",
         "labels": [
          "ABRUZZO",
          "BASILICATA",
          "CALABRIA",
          "CAMPANIA",
          "EMILIA ROMAGNA",
          "FRIULI VENEZIA GIULIA",
          "LAZIO",
          "LIGURIA",
          "LOMBARDIA",
          "MARCHE",
          "MOLISE",
          "PIEMONTE",
          "PUGLIA",
          "SARDEGNA",
          "SICILIA",
          "TOSCANA",
          "TRENTINO ALTO ADIGE",
          "UMBRIA",
          "VALLE D'AOSTA",
          "VENETO"
         ],
         "legendgroup": "",
         "marker": {
          "colors": [
           "#FECB52",
           "#FF97FF",
           "#B6E880",
           "#FF6692",
           "#19D3F3",
           "#FFA15A",
           "#AB63FA",
           "#00CC96",
           "#EF553B",
           "#636EFA",
           "#FECB52",
           "#FF97FF",
           "#B6E880",
           "#FF6692",
           "#19D3F3",
           "#FFA15A",
           "#AB63FA",
           "#00CC96",
           "#EF553B",
           "#636EFA"
          ]
         },
         "name": "",
         "showlegend": true,
         "type": "pie",
         "values": [
          34213,
          13710,
          44551,
          135801,
          114910,
          41984,
          252653,
          55235,
          435779,
          51451,
          7776,
          90449,
          103986,
          41332,
          99193,
          121137,
          24556,
          28076,
          4524,
          138682
         ]
        }
       ],
       "layout": {
        "legend": {
         "tracegroupgap": 0
        },
        "paper_bgcolor": "white",
        "piecolorway": [
         "#FECB52",
         "#FF97FF",
         "#B6E880",
         "#FF6692",
         "#19D3F3",
         "#FFA15A",
         "#AB63FA",
         "#00CC96",
         "#EF553B",
         "#636EFA"
        ],
        "plot_bgcolor": "white",
        "template": {
         "data": {
          "bar": [
           {
            "error_x": {
             "color": "#2a3f5f"
            },
            "error_y": {
             "color": "#2a3f5f"
            },
            "marker": {
             "line": {
              "color": "#E5ECF6",
              "width": 0.5
             },
             "pattern": {
              "fillmode": "overlay",
              "size": 10,
              "solidity": 0.2
             }
            },
            "type": "bar"
           }
          ],
          "barpolar": [
           {
            "marker": {
             "line": {
              "color": "#E5ECF6",
              "width": 0.5
             },
             "pattern": {
              "fillmode": "overlay",
              "size": 10,
              "solidity": 0.2
             }
            },
            "type": "barpolar"
           }
          ],
          "carpet": [
           {
            "aaxis": {
             "endlinecolor": "#2a3f5f",
             "gridcolor": "white",
             "linecolor": "white",
             "minorgridcolor": "white",
             "startlinecolor": "#2a3f5f"
            },
            "baxis": {
             "endlinecolor": "#2a3f5f",
             "gridcolor": "white",
             "linecolor": "white",
             "minorgridcolor": "white",
             "startlinecolor": "#2a3f5f"
            },
            "type": "carpet"
           }
          ],
          "choropleth": [
           {
            "colorbar": {
             "outlinewidth": 0,
             "ticks": ""
            },
            "type": "choropleth"
           }
          ],
          "contour": [
           {
            "colorbar": {
             "outlinewidth": 0,
             "ticks": ""
            },
            "colorscale": [
             [
              0,
              "#0d0887"
             ],
             [
              0.1111111111111111,
              "#46039f"
             ],
             [
              0.2222222222222222,
              "#7201a8"
             ],
             [
              0.3333333333333333,
              "#9c179e"
             ],
             [
              0.4444444444444444,
              "#bd3786"
             ],
             [
              0.5555555555555556,
              "#d8576b"
             ],
             [
              0.6666666666666666,
              "#ed7953"
             ],
             [
              0.7777777777777778,
              "#fb9f3a"
             ],
             [
              0.8888888888888888,
              "#fdca26"
             ],
             [
              1,
              "#f0f921"
             ]
            ],
            "type": "contour"
           }
          ],
          "contourcarpet": [
           {
            "colorbar": {
             "outlinewidth": 0,
             "ticks": ""
            },
            "type": "contourcarpet"
           }
          ],
          "heatmap": [
           {
            "colorbar": {
             "outlinewidth": 0,
             "ticks": ""
            },
            "colorscale": [
             [
              0,
              "#0d0887"
             ],
             [
              0.1111111111111111,
              "#46039f"
             ],
             [
              0.2222222222222222,
              "#7201a8"
             ],
             [
              0.3333333333333333,
              "#9c179e"
             ],
             [
              0.4444444444444444,
              "#bd3786"
             ],
             [
              0.5555555555555556,
              "#d8576b"
             ],
             [
              0.6666666666666666,
              "#ed7953"
             ],
             [
              0.7777777777777778,
              "#fb9f3a"
             ],
             [
              0.8888888888888888,
              "#fdca26"
             ],
             [
              1,
              "#f0f921"
             ]
            ],
            "type": "heatmap"
           }
          ],
          "heatmapgl": [
           {
            "colorbar": {
             "outlinewidth": 0,
             "ticks": ""
            },
            "colorscale": [
             [
              0,
              "#0d0887"
             ],
             [
              0.1111111111111111,
              "#46039f"
             ],
             [
              0.2222222222222222,
              "#7201a8"
             ],
             [
              0.3333333333333333,
              "#9c179e"
             ],
             [
              0.4444444444444444,
              "#bd3786"
             ],
             [
              0.5555555555555556,
              "#d8576b"
             ],
             [
              0.6666666666666666,
              "#ed7953"
             ],
             [
              0.7777777777777778,
              "#fb9f3a"
             ],
             [
              0.8888888888888888,
              "#fdca26"
             ],
             [
              1,
              "#f0f921"
             ]
            ],
            "type": "heatmapgl"
           }
          ],
          "histogram": [
           {
            "marker": {
             "pattern": {
              "fillmode": "overlay",
              "size": 10,
              "solidity": 0.2
             }
            },
            "type": "histogram"
           }
          ],
          "histogram2d": [
           {
            "colorbar": {
             "outlinewidth": 0,
             "ticks": ""
            },
            "colorscale": [
             [
              0,
              "#0d0887"
             ],
             [
              0.1111111111111111,
              "#46039f"
             ],
             [
              0.2222222222222222,
              "#7201a8"
             ],
             [
              0.3333333333333333,
              "#9c179e"
             ],
             [
              0.4444444444444444,
              "#bd3786"
             ],
             [
              0.5555555555555556,
              "#d8576b"
             ],
             [
              0.6666666666666666,
              "#ed7953"
             ],
             [
              0.7777777777777778,
              "#fb9f3a"
             ],
             [
              0.8888888888888888,
              "#fdca26"
             ],
             [
              1,
              "#f0f921"
             ]
            ],
            "type": "histogram2d"
           }
          ],
          "histogram2dcontour": [
           {
            "colorbar": {
             "outlinewidth": 0,
             "ticks": ""
            },
            "colorscale": [
             [
              0,
              "#0d0887"
             ],
             [
              0.1111111111111111,
              "#46039f"
             ],
             [
              0.2222222222222222,
              "#7201a8"
             ],
             [
              0.3333333333333333,
              "#9c179e"
             ],
             [
              0.4444444444444444,
              "#bd3786"
             ],
             [
              0.5555555555555556,
              "#d8576b"
             ],
             [
              0.6666666666666666,
              "#ed7953"
             ],
             [
              0.7777777777777778,
              "#fb9f3a"
             ],
             [
              0.8888888888888888,
              "#fdca26"
             ],
             [
              1,
              "#f0f921"
             ]
            ],
            "type": "histogram2dcontour"
           }
          ],
          "mesh3d": [
           {
            "colorbar": {
             "outlinewidth": 0,
             "ticks": ""
            },
            "type": "mesh3d"
           }
          ],
          "parcoords": [
           {
            "line": {
             "colorbar": {
              "outlinewidth": 0,
              "ticks": ""
             }
            },
            "type": "parcoords"
           }
          ],
          "pie": [
           {
            "automargin": true,
            "type": "pie"
           }
          ],
          "scatter": [
           {
            "fillpattern": {
             "fillmode": "overlay",
             "size": 10,
             "solidity": 0.2
            },
            "type": "scatter"
           }
          ],
          "scatter3d": [
           {
            "line": {
             "colorbar": {
              "outlinewidth": 0,
              "ticks": ""
             }
            },
            "marker": {
             "colorbar": {
              "outlinewidth": 0,
              "ticks": ""
             }
            },
            "type": "scatter3d"
           }
          ],
          "scattercarpet": [
           {
            "marker": {
             "colorbar": {
              "outlinewidth": 0,
              "ticks": ""
             }
            },
            "type": "scattercarpet"
           }
          ],
          "scattergeo": [
           {
            "marker": {
             "colorbar": {
              "outlinewidth": 0,
              "ticks": ""
             }
            },
            "type": "scattergeo"
           }
          ],
          "scattergl": [
           {
            "marker": {
             "colorbar": {
              "outlinewidth": 0,
              "ticks": ""
             }
            },
            "type": "scattergl"
           }
          ],
          "scattermapbox": [
           {
            "marker": {
             "colorbar": {
              "outlinewidth": 0,
              "ticks": ""
             }
            },
            "type": "scattermapbox"
           }
          ],
          "scatterpolar": [
           {
            "marker": {
             "colorbar": {
              "outlinewidth": 0,
              "ticks": ""
             }
            },
            "type": "scatterpolar"
           }
          ],
          "scatterpolargl": [
           {
            "marker": {
             "colorbar": {
              "outlinewidth": 0,
              "ticks": ""
             }
            },
            "type": "scatterpolargl"
           }
          ],
          "scatterternary": [
           {
            "marker": {
             "colorbar": {
              "outlinewidth": 0,
              "ticks": ""
             }
            },
            "type": "scatterternary"
           }
          ],
          "surface": [
           {
            "colorbar": {
             "outlinewidth": 0,
             "ticks": ""
            },
            "colorscale": [
             [
              0,
              "#0d0887"
             ],
             [
              0.1111111111111111,
              "#46039f"
             ],
             [
              0.2222222222222222,
              "#7201a8"
             ],
             [
              0.3333333333333333,
              "#9c179e"
             ],
             [
              0.4444444444444444,
              "#bd3786"
             ],
             [
              0.5555555555555556,
              "#d8576b"
             ],
             [
              0.6666666666666666,
              "#ed7953"
             ],
             [
              0.7777777777777778,
              "#fb9f3a"
             ],
             [
              0.8888888888888888,
              "#fdca26"
             ],
             [
              1,
              "#f0f921"
             ]
            ],
            "type": "surface"
           }
          ],
          "table": [
           {
            "cells": {
             "fill": {
              "color": "#EBF0F8"
             },
             "line": {
              "color": "white"
             }
            },
            "header": {
             "fill": {
              "color": "#C8D4E3"
             },
             "line": {
              "color": "white"
             }
            },
            "type": "table"
           }
          ]
         },
         "layout": {
          "annotationdefaults": {
           "arrowcolor": "#2a3f5f",
           "arrowhead": 0,
           "arrowwidth": 1
          },
          "autotypenumbers": "strict",
          "coloraxis": {
           "colorbar": {
            "outlinewidth": 0,
            "ticks": ""
           }
          },
          "colorscale": {
           "diverging": [
            [
             0,
             "#8e0152"
            ],
            [
             0.1,
             "#c51b7d"
            ],
            [
             0.2,
             "#de77ae"
            ],
            [
             0.3,
             "#f1b6da"
            ],
            [
             0.4,
             "#fde0ef"
            ],
            [
             0.5,
             "#f7f7f7"
            ],
            [
             0.6,
             "#e6f5d0"
            ],
            [
             0.7,
             "#b8e186"
            ],
            [
             0.8,
             "#7fbc41"
            ],
            [
             0.9,
             "#4d9221"
            ],
            [
             1,
             "#276419"
            ]
           ],
           "sequential": [
            [
             0,
             "#0d0887"
            ],
            [
             0.1111111111111111,
             "#46039f"
            ],
            [
             0.2222222222222222,
             "#7201a8"
            ],
            [
             0.3333333333333333,
             "#9c179e"
            ],
            [
             0.4444444444444444,
             "#bd3786"
            ],
            [
             0.5555555555555556,
             "#d8576b"
            ],
            [
             0.6666666666666666,
             "#ed7953"
            ],
            [
             0.7777777777777778,
             "#fb9f3a"
            ],
            [
             0.8888888888888888,
             "#fdca26"
            ],
            [
             1,
             "#f0f921"
            ]
           ],
           "sequentialminus": [
            [
             0,
             "#0d0887"
            ],
            [
             0.1111111111111111,
             "#46039f"
            ],
            [
             0.2222222222222222,
             "#7201a8"
            ],
            [
             0.3333333333333333,
             "#9c179e"
            ],
            [
             0.4444444444444444,
             "#bd3786"
            ],
            [
             0.5555555555555556,
             "#d8576b"
            ],
            [
             0.6666666666666666,
             "#ed7953"
            ],
            [
             0.7777777777777778,
             "#fb9f3a"
            ],
            [
             0.8888888888888888,
             "#fdca26"
            ],
            [
             1,
             "#f0f921"
            ]
           ]
          },
          "colorway": [
           "#636efa",
           "#EF553B",
           "#00cc96",
           "#ab63fa",
           "#FFA15A",
           "#19d3f3",
           "#FF6692",
           "#B6E880",
           "#FF97FF",
           "#FECB52"
          ],
          "font": {
           "color": "#2a3f5f"
          },
          "geo": {
           "bgcolor": "white",
           "lakecolor": "white",
           "landcolor": "#E5ECF6",
           "showlakes": true,
           "showland": true,
           "subunitcolor": "white"
          },
          "hoverlabel": {
           "align": "left"
          },
          "hovermode": "closest",
          "mapbox": {
           "style": "light"
          },
          "paper_bgcolor": "white",
          "plot_bgcolor": "#E5ECF6",
          "polar": {
           "angularaxis": {
            "gridcolor": "white",
            "linecolor": "white",
            "ticks": ""
           },
           "bgcolor": "#E5ECF6",
           "radialaxis": {
            "gridcolor": "white",
            "linecolor": "white",
            "ticks": ""
           }
          },
          "scene": {
           "xaxis": {
            "backgroundcolor": "#E5ECF6",
            "gridcolor": "white",
            "gridwidth": 2,
            "linecolor": "white",
            "showbackground": true,
            "ticks": "",
            "zerolinecolor": "white"
           },
           "yaxis": {
            "backgroundcolor": "#E5ECF6",
            "gridcolor": "white",
            "gridwidth": 2,
            "linecolor": "white",
            "showbackground": true,
            "ticks": "",
            "zerolinecolor": "white"
           },
           "zaxis": {
            "backgroundcolor": "#E5ECF6",
            "gridcolor": "white",
            "gridwidth": 2,
            "linecolor": "white",
            "showbackground": true,
            "ticks": "",
            "zerolinecolor": "white"
           }
          },
          "shapedefaults": {
           "line": {
            "color": "#2a3f5f"
           }
          },
          "ternary": {
           "aaxis": {
            "gridcolor": "white",
            "linecolor": "white",
            "ticks": ""
           },
           "baxis": {
            "gridcolor": "white",
            "linecolor": "white",
            "ticks": ""
           },
           "bgcolor": "#E5ECF6",
           "caxis": {
            "gridcolor": "white",
            "linecolor": "white",
            "ticks": ""
           }
          },
          "title": {
           "x": 0.05
          },
          "xaxis": {
           "automargin": true,
           "gridcolor": "white",
           "linecolor": "white",
           "ticks": "",
           "title": {
            "standoff": 15
           },
           "zerolinecolor": "white",
           "zerolinewidth": 2
          },
          "yaxis": {
           "automargin": true,
           "gridcolor": "white",
           "linecolor": "white",
           "ticks": "",
           "title": {
            "standoff": 15
           },
           "zerolinecolor": "white",
           "zerolinewidth": 2
          }
         }
        },
        "title": {
         "text": "Distribuzione totale per regione"
        }
       }
      }
     },
     "metadata": {},
     "output_type": "display_data"
    },
    {
     "data": {
      "application/vnd.plotly.v1+json": {
       "config": {
        "plotlyServerURL": "https://plot.ly"
       },
       "data": [
        {
         "alignmentgroup": "True",
         "hovertemplate": "Regioni di residenza=%{y}<br>Visitatori=%{x}<extra></extra>",
         "legendgroup": "ABRUZZO",
         "marker": {
          "color": "#FECB52",
          "pattern": {
           "shape": ""
          }
         },
         "name": "ABRUZZO",
         "offsetgroup": "ABRUZZO",
         "orientation": "h",
         "showlegend": true,
         "textposition": "auto",
         "type": "bar",
         "x": [
          34213
         ],
         "xaxis": "x",
         "y": [
          "ABRUZZO"
         ],
         "yaxis": "y"
        },
        {
         "alignmentgroup": "True",
         "hovertemplate": "Regioni di residenza=%{y}<br>Visitatori=%{x}<extra></extra>",
         "legendgroup": "BASILICATA",
         "marker": {
          "color": "#FF97FF",
          "pattern": {
           "shape": ""
          }
         },
         "name": "BASILICATA",
         "offsetgroup": "BASILICATA",
         "orientation": "h",
         "showlegend": true,
         "textposition": "auto",
         "type": "bar",
         "x": [
          13710
         ],
         "xaxis": "x",
         "y": [
          "BASILICATA"
         ],
         "yaxis": "y"
        },
        {
         "alignmentgroup": "True",
         "hovertemplate": "Regioni di residenza=%{y}<br>Visitatori=%{x}<extra></extra>",
         "legendgroup": "CALABRIA",
         "marker": {
          "color": "#B6E880",
          "pattern": {
           "shape": ""
          }
         },
         "name": "CALABRIA",
         "offsetgroup": "CALABRIA",
         "orientation": "h",
         "showlegend": true,
         "textposition": "auto",
         "type": "bar",
         "x": [
          44551
         ],
         "xaxis": "x",
         "y": [
          "CALABRIA"
         ],
         "yaxis": "y"
        },
        {
         "alignmentgroup": "True",
         "hovertemplate": "Regioni di residenza=%{y}<br>Visitatori=%{x}<extra></extra>",
         "legendgroup": "CAMPANIA",
         "marker": {
          "color": "#FF6692",
          "pattern": {
           "shape": ""
          }
         },
         "name": "CAMPANIA",
         "offsetgroup": "CAMPANIA",
         "orientation": "h",
         "showlegend": true,
         "textposition": "auto",
         "type": "bar",
         "x": [
          135801
         ],
         "xaxis": "x",
         "y": [
          "CAMPANIA"
         ],
         "yaxis": "y"
        },
        {
         "alignmentgroup": "True",
         "hovertemplate": "Regioni di residenza=%{y}<br>Visitatori=%{x}<extra></extra>",
         "legendgroup": "EMILIA ROMAGNA",
         "marker": {
          "color": "#19D3F3",
          "pattern": {
           "shape": ""
          }
         },
         "name": "EMILIA ROMAGNA",
         "offsetgroup": "EMILIA ROMAGNA",
         "orientation": "h",
         "showlegend": true,
         "textposition": "auto",
         "type": "bar",
         "x": [
          114910
         ],
         "xaxis": "x",
         "y": [
          "EMILIA ROMAGNA"
         ],
         "yaxis": "y"
        },
        {
         "alignmentgroup": "True",
         "hovertemplate": "Regioni di residenza=%{y}<br>Visitatori=%{x}<extra></extra>",
         "legendgroup": "FRIULI VENEZIA GIULIA",
         "marker": {
          "color": "#FFA15A",
          "pattern": {
           "shape": ""
          }
         },
         "name": "FRIULI VENEZIA GIULIA",
         "offsetgroup": "FRIULI VENEZIA GIULIA",
         "orientation": "h",
         "showlegend": true,
         "textposition": "auto",
         "type": "bar",
         "x": [
          41984
         ],
         "xaxis": "x",
         "y": [
          "FRIULI VENEZIA GIULIA"
         ],
         "yaxis": "y"
        },
        {
         "alignmentgroup": "True",
         "hovertemplate": "Regioni di residenza=%{y}<br>Visitatori=%{x}<extra></extra>",
         "legendgroup": "LAZIO",
         "marker": {
          "color": "#AB63FA",
          "pattern": {
           "shape": ""
          }
         },
         "name": "LAZIO",
         "offsetgroup": "LAZIO",
         "orientation": "h",
         "showlegend": true,
         "textposition": "auto",
         "type": "bar",
         "x": [
          252653
         ],
         "xaxis": "x",
         "y": [
          "LAZIO"
         ],
         "yaxis": "y"
        },
        {
         "alignmentgroup": "True",
         "hovertemplate": "Regioni di residenza=%{y}<br>Visitatori=%{x}<extra></extra>",
         "legendgroup": "LIGURIA",
         "marker": {
          "color": "#00CC96",
          "pattern": {
           "shape": ""
          }
         },
         "name": "LIGURIA",
         "offsetgroup": "LIGURIA",
         "orientation": "h",
         "showlegend": true,
         "textposition": "auto",
         "type": "bar",
         "x": [
          55235
         ],
         "xaxis": "x",
         "y": [
          "LIGURIA"
         ],
         "yaxis": "y"
        },
        {
         "alignmentgroup": "True",
         "hovertemplate": "Regioni di residenza=%{y}<br>Visitatori=%{x}<extra></extra>",
         "legendgroup": "LOMBARDIA",
         "marker": {
          "color": "#EF553B",
          "pattern": {
           "shape": ""
          }
         },
         "name": "LOMBARDIA",
         "offsetgroup": "LOMBARDIA",
         "orientation": "h",
         "showlegend": true,
         "textposition": "auto",
         "type": "bar",
         "x": [
          435779
         ],
         "xaxis": "x",
         "y": [
          "LOMBARDIA"
         ],
         "yaxis": "y"
        },
        {
         "alignmentgroup": "True",
         "hovertemplate": "Regioni di residenza=%{y}<br>Visitatori=%{x}<extra></extra>",
         "legendgroup": "MARCHE",
         "marker": {
          "color": "#636EFA",
          "pattern": {
           "shape": ""
          }
         },
         "name": "MARCHE",
         "offsetgroup": "MARCHE",
         "orientation": "h",
         "showlegend": true,
         "textposition": "auto",
         "type": "bar",
         "x": [
          51451
         ],
         "xaxis": "x",
         "y": [
          "MARCHE"
         ],
         "yaxis": "y"
        },
        {
         "alignmentgroup": "True",
         "hovertemplate": "Regioni di residenza=%{y}<br>Visitatori=%{x}<extra></extra>",
         "legendgroup": "MOLISE",
         "marker": {
          "color": "#FECB52",
          "pattern": {
           "shape": ""
          }
         },
         "name": "MOLISE",
         "offsetgroup": "MOLISE",
         "orientation": "h",
         "showlegend": true,
         "textposition": "auto",
         "type": "bar",
         "x": [
          7776
         ],
         "xaxis": "x",
         "y": [
          "MOLISE"
         ],
         "yaxis": "y"
        },
        {
         "alignmentgroup": "True",
         "hovertemplate": "Regioni di residenza=%{y}<br>Visitatori=%{x}<extra></extra>",
         "legendgroup": "PIEMONTE",
         "marker": {
          "color": "#FF97FF",
          "pattern": {
           "shape": ""
          }
         },
         "name": "PIEMONTE",
         "offsetgroup": "PIEMONTE",
         "orientation": "h",
         "showlegend": true,
         "textposition": "auto",
         "type": "bar",
         "x": [
          90449
         ],
         "xaxis": "x",
         "y": [
          "PIEMONTE"
         ],
         "yaxis": "y"
        },
        {
         "alignmentgroup": "True",
         "hovertemplate": "Regioni di residenza=%{y}<br>Visitatori=%{x}<extra></extra>",
         "legendgroup": "PUGLIA",
         "marker": {
          "color": "#B6E880",
          "pattern": {
           "shape": ""
          }
         },
         "name": "PUGLIA",
         "offsetgroup": "PUGLIA",
         "orientation": "h",
         "showlegend": true,
         "textposition": "auto",
         "type": "bar",
         "x": [
          103986
         ],
         "xaxis": "x",
         "y": [
          "PUGLIA"
         ],
         "yaxis": "y"
        },
        {
         "alignmentgroup": "True",
         "hovertemplate": "Regioni di residenza=%{y}<br>Visitatori=%{x}<extra></extra>",
         "legendgroup": "SARDEGNA",
         "marker": {
          "color": "#FF6692",
          "pattern": {
           "shape": ""
          }
         },
         "name": "SARDEGNA",
         "offsetgroup": "SARDEGNA",
         "orientation": "h",
         "showlegend": true,
         "textposition": "auto",
         "type": "bar",
         "x": [
          41332
         ],
         "xaxis": "x",
         "y": [
          "SARDEGNA"
         ],
         "yaxis": "y"
        },
        {
         "alignmentgroup": "True",
         "hovertemplate": "Regioni di residenza=%{y}<br>Visitatori=%{x}<extra></extra>",
         "legendgroup": "SICILIA",
         "marker": {
          "color": "#19D3F3",
          "pattern": {
           "shape": ""
          }
         },
         "name": "SICILIA",
         "offsetgroup": "SICILIA",
         "orientation": "h",
         "showlegend": true,
         "textposition": "auto",
         "type": "bar",
         "x": [
          99193
         ],
         "xaxis": "x",
         "y": [
          "SICILIA"
         ],
         "yaxis": "y"
        },
        {
         "alignmentgroup": "True",
         "hovertemplate": "Regioni di residenza=%{y}<br>Visitatori=%{x}<extra></extra>",
         "legendgroup": "TOSCANA",
         "marker": {
          "color": "#FFA15A",
          "pattern": {
           "shape": ""
          }
         },
         "name": "TOSCANA",
         "offsetgroup": "TOSCANA",
         "orientation": "h",
         "showlegend": true,
         "textposition": "auto",
         "type": "bar",
         "x": [
          121137
         ],
         "xaxis": "x",
         "y": [
          "TOSCANA"
         ],
         "yaxis": "y"
        },
        {
         "alignmentgroup": "True",
         "hovertemplate": "Regioni di residenza=%{y}<br>Visitatori=%{x}<extra></extra>",
         "legendgroup": "TRENTINO ALTO ADIGE",
         "marker": {
          "color": "#AB63FA",
          "pattern": {
           "shape": ""
          }
         },
         "name": "TRENTINO ALTO ADIGE",
         "offsetgroup": "TRENTINO ALTO ADIGE",
         "orientation": "h",
         "showlegend": true,
         "textposition": "auto",
         "type": "bar",
         "x": [
          24556
         ],
         "xaxis": "x",
         "y": [
          "TRENTINO ALTO ADIGE"
         ],
         "yaxis": "y"
        },
        {
         "alignmentgroup": "True",
         "hovertemplate": "Regioni di residenza=%{y}<br>Visitatori=%{x}<extra></extra>",
         "legendgroup": "UMBRIA",
         "marker": {
          "color": "#00CC96",
          "pattern": {
           "shape": ""
          }
         },
         "name": "UMBRIA",
         "offsetgroup": "UMBRIA",
         "orientation": "h",
         "showlegend": true,
         "textposition": "auto",
         "type": "bar",
         "x": [
          28076
         ],
         "xaxis": "x",
         "y": [
          "UMBRIA"
         ],
         "yaxis": "y"
        },
        {
         "alignmentgroup": "True",
         "hovertemplate": "Regioni di residenza=%{y}<br>Visitatori=%{x}<extra></extra>",
         "legendgroup": "VALLE D'AOSTA",
         "marker": {
          "color": "#EF553B",
          "pattern": {
           "shape": ""
          }
         },
         "name": "VALLE D'AOSTA",
         "offsetgroup": "VALLE D'AOSTA",
         "orientation": "h",
         "showlegend": true,
         "textposition": "auto",
         "type": "bar",
         "x": [
          4524
         ],
         "xaxis": "x",
         "y": [
          "VALLE D'AOSTA"
         ],
         "yaxis": "y"
        },
        {
         "alignmentgroup": "True",
         "hovertemplate": "Regioni di residenza=%{y}<br>Visitatori=%{x}<extra></extra>",
         "legendgroup": "VENETO",
         "marker": {
          "color": "#636EFA",
          "pattern": {
           "shape": ""
          }
         },
         "name": "VENETO",
         "offsetgroup": "VENETO",
         "orientation": "h",
         "showlegend": true,
         "textposition": "auto",
         "type": "bar",
         "x": [
          138682
         ],
         "xaxis": "x",
         "y": [
          "VENETO"
         ],
         "yaxis": "y"
        }
       ],
       "layout": {
        "barmode": "relative",
        "legend": {
         "title": {
          "text": "Regioni di residenza"
         },
         "tracegroupgap": 0
        },
        "paper_bgcolor": "white",
        "plot_bgcolor": "white",
        "showlegend": true,
        "template": {
         "data": {
          "bar": [
           {
            "error_x": {
             "color": "#2a3f5f"
            },
            "error_y": {
             "color": "#2a3f5f"
            },
            "marker": {
             "line": {
              "color": "#E5ECF6",
              "width": 0.5
             },
             "pattern": {
              "fillmode": "overlay",
              "size": 10,
              "solidity": 0.2
             }
            },
            "type": "bar"
           }
          ],
          "barpolar": [
           {
            "marker": {
             "line": {
              "color": "#E5ECF6",
              "width": 0.5
             },
             "pattern": {
              "fillmode": "overlay",
              "size": 10,
              "solidity": 0.2
             }
            },
            "type": "barpolar"
           }
          ],
          "carpet": [
           {
            "aaxis": {
             "endlinecolor": "#2a3f5f",
             "gridcolor": "white",
             "linecolor": "white",
             "minorgridcolor": "white",
             "startlinecolor": "#2a3f5f"
            },
            "baxis": {
             "endlinecolor": "#2a3f5f",
             "gridcolor": "white",
             "linecolor": "white",
             "minorgridcolor": "white",
             "startlinecolor": "#2a3f5f"
            },
            "type": "carpet"
           }
          ],
          "choropleth": [
           {
            "colorbar": {
             "outlinewidth": 0,
             "ticks": ""
            },
            "type": "choropleth"
           }
          ],
          "contour": [
           {
            "colorbar": {
             "outlinewidth": 0,
             "ticks": ""
            },
            "colorscale": [
             [
              0,
              "#0d0887"
             ],
             [
              0.1111111111111111,
              "#46039f"
             ],
             [
              0.2222222222222222,
              "#7201a8"
             ],
             [
              0.3333333333333333,
              "#9c179e"
             ],
             [
              0.4444444444444444,
              "#bd3786"
             ],
             [
              0.5555555555555556,
              "#d8576b"
             ],
             [
              0.6666666666666666,
              "#ed7953"
             ],
             [
              0.7777777777777778,
              "#fb9f3a"
             ],
             [
              0.8888888888888888,
              "#fdca26"
             ],
             [
              1,
              "#f0f921"
             ]
            ],
            "type": "contour"
           }
          ],
          "contourcarpet": [
           {
            "colorbar": {
             "outlinewidth": 0,
             "ticks": ""
            },
            "type": "contourcarpet"
           }
          ],
          "heatmap": [
           {
            "colorbar": {
             "outlinewidth": 0,
             "ticks": ""
            },
            "colorscale": [
             [
              0,
              "#0d0887"
             ],
             [
              0.1111111111111111,
              "#46039f"
             ],
             [
              0.2222222222222222,
              "#7201a8"
             ],
             [
              0.3333333333333333,
              "#9c179e"
             ],
             [
              0.4444444444444444,
              "#bd3786"
             ],
             [
              0.5555555555555556,
              "#d8576b"
             ],
             [
              0.6666666666666666,
              "#ed7953"
             ],
             [
              0.7777777777777778,
              "#fb9f3a"
             ],
             [
              0.8888888888888888,
              "#fdca26"
             ],
             [
              1,
              "#f0f921"
             ]
            ],
            "type": "heatmap"
           }
          ],
          "heatmapgl": [
           {
            "colorbar": {
             "outlinewidth": 0,
             "ticks": ""
            },
            "colorscale": [
             [
              0,
              "#0d0887"
             ],
             [
              0.1111111111111111,
              "#46039f"
             ],
             [
              0.2222222222222222,
              "#7201a8"
             ],
             [
              0.3333333333333333,
              "#9c179e"
             ],
             [
              0.4444444444444444,
              "#bd3786"
             ],
             [
              0.5555555555555556,
              "#d8576b"
             ],
             [
              0.6666666666666666,
              "#ed7953"
             ],
             [
              0.7777777777777778,
              "#fb9f3a"
             ],
             [
              0.8888888888888888,
              "#fdca26"
             ],
             [
              1,
              "#f0f921"
             ]
            ],
            "type": "heatmapgl"
           }
          ],
          "histogram": [
           {
            "marker": {
             "pattern": {
              "fillmode": "overlay",
              "size": 10,
              "solidity": 0.2
             }
            },
            "type": "histogram"
           }
          ],
          "histogram2d": [
           {
            "colorbar": {
             "outlinewidth": 0,
             "ticks": ""
            },
            "colorscale": [
             [
              0,
              "#0d0887"
             ],
             [
              0.1111111111111111,
              "#46039f"
             ],
             [
              0.2222222222222222,
              "#7201a8"
             ],
             [
              0.3333333333333333,
              "#9c179e"
             ],
             [
              0.4444444444444444,
              "#bd3786"
             ],
             [
              0.5555555555555556,
              "#d8576b"
             ],
             [
              0.6666666666666666,
              "#ed7953"
             ],
             [
              0.7777777777777778,
              "#fb9f3a"
             ],
             [
              0.8888888888888888,
              "#fdca26"
             ],
             [
              1,
              "#f0f921"
             ]
            ],
            "type": "histogram2d"
           }
          ],
          "histogram2dcontour": [
           {
            "colorbar": {
             "outlinewidth": 0,
             "ticks": ""
            },
            "colorscale": [
             [
              0,
              "#0d0887"
             ],
             [
              0.1111111111111111,
              "#46039f"
             ],
             [
              0.2222222222222222,
              "#7201a8"
             ],
             [
              0.3333333333333333,
              "#9c179e"
             ],
             [
              0.4444444444444444,
              "#bd3786"
             ],
             [
              0.5555555555555556,
              "#d8576b"
             ],
             [
              0.6666666666666666,
              "#ed7953"
             ],
             [
              0.7777777777777778,
              "#fb9f3a"
             ],
             [
              0.8888888888888888,
              "#fdca26"
             ],
             [
              1,
              "#f0f921"
             ]
            ],
            "type": "histogram2dcontour"
           }
          ],
          "mesh3d": [
           {
            "colorbar": {
             "outlinewidth": 0,
             "ticks": ""
            },
            "type": "mesh3d"
           }
          ],
          "parcoords": [
           {
            "line": {
             "colorbar": {
              "outlinewidth": 0,
              "ticks": ""
             }
            },
            "type": "parcoords"
           }
          ],
          "pie": [
           {
            "automargin": true,
            "type": "pie"
           }
          ],
          "scatter": [
           {
            "fillpattern": {
             "fillmode": "overlay",
             "size": 10,
             "solidity": 0.2
            },
            "type": "scatter"
           }
          ],
          "scatter3d": [
           {
            "line": {
             "colorbar": {
              "outlinewidth": 0,
              "ticks": ""
             }
            },
            "marker": {
             "colorbar": {
              "outlinewidth": 0,
              "ticks": ""
             }
            },
            "type": "scatter3d"
           }
          ],
          "scattercarpet": [
           {
            "marker": {
             "colorbar": {
              "outlinewidth": 0,
              "ticks": ""
             }
            },
            "type": "scattercarpet"
           }
          ],
          "scattergeo": [
           {
            "marker": {
             "colorbar": {
              "outlinewidth": 0,
              "ticks": ""
             }
            },
            "type": "scattergeo"
           }
          ],
          "scattergl": [
           {
            "marker": {
             "colorbar": {
              "outlinewidth": 0,
              "ticks": ""
             }
            },
            "type": "scattergl"
           }
          ],
          "scattermapbox": [
           {
            "marker": {
             "colorbar": {
              "outlinewidth": 0,
              "ticks": ""
             }
            },
            "type": "scattermapbox"
           }
          ],
          "scatterpolar": [
           {
            "marker": {
             "colorbar": {
              "outlinewidth": 0,
              "ticks": ""
             }
            },
            "type": "scatterpolar"
           }
          ],
          "scatterpolargl": [
           {
            "marker": {
             "colorbar": {
              "outlinewidth": 0,
              "ticks": ""
             }
            },
            "type": "scatterpolargl"
           }
          ],
          "scatterternary": [
           {
            "marker": {
             "colorbar": {
              "outlinewidth": 0,
              "ticks": ""
             }
            },
            "type": "scatterternary"
           }
          ],
          "surface": [
           {
            "colorbar": {
             "outlinewidth": 0,
             "ticks": ""
            },
            "colorscale": [
             [
              0,
              "#0d0887"
             ],
             [
              0.1111111111111111,
              "#46039f"
             ],
             [
              0.2222222222222222,
              "#7201a8"
             ],
             [
              0.3333333333333333,
              "#9c179e"
             ],
             [
              0.4444444444444444,
              "#bd3786"
             ],
             [
              0.5555555555555556,
              "#d8576b"
             ],
             [
              0.6666666666666666,
              "#ed7953"
             ],
             [
              0.7777777777777778,
              "#fb9f3a"
             ],
             [
              0.8888888888888888,
              "#fdca26"
             ],
             [
              1,
              "#f0f921"
             ]
            ],
            "type": "surface"
           }
          ],
          "table": [
           {
            "cells": {
             "fill": {
              "color": "#EBF0F8"
             },
             "line": {
              "color": "white"
             }
            },
            "header": {
             "fill": {
              "color": "#C8D4E3"
             },
             "line": {
              "color": "white"
             }
            },
            "type": "table"
           }
          ]
         },
         "layout": {
          "annotationdefaults": {
           "arrowcolor": "#2a3f5f",
           "arrowhead": 0,
           "arrowwidth": 1
          },
          "autotypenumbers": "strict",
          "coloraxis": {
           "colorbar": {
            "outlinewidth": 0,
            "ticks": ""
           }
          },
          "colorscale": {
           "diverging": [
            [
             0,
             "#8e0152"
            ],
            [
             0.1,
             "#c51b7d"
            ],
            [
             0.2,
             "#de77ae"
            ],
            [
             0.3,
             "#f1b6da"
            ],
            [
             0.4,
             "#fde0ef"
            ],
            [
             0.5,
             "#f7f7f7"
            ],
            [
             0.6,
             "#e6f5d0"
            ],
            [
             0.7,
             "#b8e186"
            ],
            [
             0.8,
             "#7fbc41"
            ],
            [
             0.9,
             "#4d9221"
            ],
            [
             1,
             "#276419"
            ]
           ],
           "sequential": [
            [
             0,
             "#0d0887"
            ],
            [
             0.1111111111111111,
             "#46039f"
            ],
            [
             0.2222222222222222,
             "#7201a8"
            ],
            [
             0.3333333333333333,
             "#9c179e"
            ],
            [
             0.4444444444444444,
             "#bd3786"
            ],
            [
             0.5555555555555556,
             "#d8576b"
            ],
            [
             0.6666666666666666,
             "#ed7953"
            ],
            [
             0.7777777777777778,
             "#fb9f3a"
            ],
            [
             0.8888888888888888,
             "#fdca26"
            ],
            [
             1,
             "#f0f921"
            ]
           ],
           "sequentialminus": [
            [
             0,
             "#0d0887"
            ],
            [
             0.1111111111111111,
             "#46039f"
            ],
            [
             0.2222222222222222,
             "#7201a8"
            ],
            [
             0.3333333333333333,
             "#9c179e"
            ],
            [
             0.4444444444444444,
             "#bd3786"
            ],
            [
             0.5555555555555556,
             "#d8576b"
            ],
            [
             0.6666666666666666,
             "#ed7953"
            ],
            [
             0.7777777777777778,
             "#fb9f3a"
            ],
            [
             0.8888888888888888,
             "#fdca26"
            ],
            [
             1,
             "#f0f921"
            ]
           ]
          },
          "colorway": [
           "#636efa",
           "#EF553B",
           "#00cc96",
           "#ab63fa",
           "#FFA15A",
           "#19d3f3",
           "#FF6692",
           "#B6E880",
           "#FF97FF",
           "#FECB52"
          ],
          "font": {
           "color": "#2a3f5f"
          },
          "geo": {
           "bgcolor": "white",
           "lakecolor": "white",
           "landcolor": "#E5ECF6",
           "showlakes": true,
           "showland": true,
           "subunitcolor": "white"
          },
          "hoverlabel": {
           "align": "left"
          },
          "hovermode": "closest",
          "mapbox": {
           "style": "light"
          },
          "paper_bgcolor": "white",
          "plot_bgcolor": "#E5ECF6",
          "polar": {
           "angularaxis": {
            "gridcolor": "white",
            "linecolor": "white",
            "ticks": ""
           },
           "bgcolor": "#E5ECF6",
           "radialaxis": {
            "gridcolor": "white",
            "linecolor": "white",
            "ticks": ""
           }
          },
          "scene": {
           "xaxis": {
            "backgroundcolor": "#E5ECF6",
            "gridcolor": "white",
            "gridwidth": 2,
            "linecolor": "white",
            "showbackground": true,
            "ticks": "",
            "zerolinecolor": "white"
           },
           "yaxis": {
            "backgroundcolor": "#E5ECF6",
            "gridcolor": "white",
            "gridwidth": 2,
            "linecolor": "white",
            "showbackground": true,
            "ticks": "",
            "zerolinecolor": "white"
           },
           "zaxis": {
            "backgroundcolor": "#E5ECF6",
            "gridcolor": "white",
            "gridwidth": 2,
            "linecolor": "white",
            "showbackground": true,
            "ticks": "",
            "zerolinecolor": "white"
           }
          },
          "shapedefaults": {
           "line": {
            "color": "#2a3f5f"
           }
          },
          "ternary": {
           "aaxis": {
            "gridcolor": "white",
            "linecolor": "white",
            "ticks": ""
           },
           "baxis": {
            "gridcolor": "white",
            "linecolor": "white",
            "ticks": ""
           },
           "bgcolor": "#E5ECF6",
           "caxis": {
            "gridcolor": "white",
            "linecolor": "white",
            "ticks": ""
           }
          },
          "title": {
           "x": 0.05
          },
          "xaxis": {
           "automargin": true,
           "gridcolor": "white",
           "linecolor": "white",
           "ticks": "",
           "title": {
            "standoff": 15
           },
           "zerolinecolor": "white",
           "zerolinewidth": 2
          },
          "yaxis": {
           "automargin": true,
           "gridcolor": "white",
           "linecolor": "white",
           "ticks": "",
           "title": {
            "standoff": 15
           },
           "zerolinecolor": "white",
           "zerolinewidth": 2
          }
         }
        },
        "title": {
         "text": "Visitatori totali per regione"
        },
        "xaxis": {
         "anchor": "y",
         "domain": [
          0,
          1
         ],
         "showgrid": false,
         "title": {
          "text": "Visitatori"
         }
        },
        "yaxis": {
         "anchor": "x",
         "categoryarray": [
          "VENETO",
          "VALLE D'AOSTA",
          "UMBRIA",
          "TRENTINO ALTO ADIGE",
          "TOSCANA",
          "SICILIA",
          "SARDEGNA",
          "PUGLIA",
          "PIEMONTE",
          "MOLISE",
          "MARCHE",
          "LOMBARDIA",
          "LIGURIA",
          "LAZIO",
          "FRIULI VENEZIA GIULIA",
          "EMILIA ROMAGNA",
          "CAMPANIA",
          "CALABRIA",
          "BASILICATA",
          "ABRUZZO"
         ],
         "categoryorder": "total ascending",
         "domain": [
          0,
          1
         ],
         "showgrid": false,
         "title": {
          "text": "Regioni di residenza"
         }
        }
       }
      }
     },
     "metadata": {},
     "output_type": "display_data"
    }
   ],
   "source": [
    "try:\n",
    "    # Lettura e pulizia del dataset\n",
    "    data = pd.read_csv('datasets/arrivi.csv', sep=';', encoding='utf-8')\n",
    "    data.columns = data.columns.str.strip()\n",
    "    data['Visitatori'] = pd.to_numeric(data['Valori'], errors='coerce').dropna()  # Cambiato \"Valori\" in \"Visitatori\"\n",
    "    data['Regioni di residenza'] = data['Regioni di residenza'].replace({'TRENTO': 'TRENTINO ALTO ADIGE', 'BOLZANO': 'TRENTINO ALTO ADIGE'})\n",
    "\n",
    "    # Raggruppamento dati\n",
    "    dati_aggregati = data.groupby(['Regioni di residenza', 'mese'])['Visitatori'].sum().reset_index()  # Cambiato \"Valori\" in \"Visitatori\"\n",
    "    dati_totali_per_regione = dati_aggregati.groupby('Regioni di residenza')['Visitatori'].sum().reset_index()  # Cambiato \"Valori\" in \"Visitatori\"\n",
    "\n",
    "    # Definire una palette di colori pastello\n",
    "    color_palette = pc.qualitative.Plotly_r  \n",
    "\n",
    "    # Creazione del primo grafico (linea)\n",
    "    fig1 = px.line(dati_aggregati, x='mese', y='Visitatori', color='Regioni di residenza',\n",
    "                   title='Andamento mensile per regione', markers=True, color_discrete_sequence=color_palette)\n",
    "    fig1.update_traces(mode='lines+markers').update_layout(\n",
    "        xaxis_tickangle=-45,\n",
    "        xaxis_title='Mese',\n",
    "        yaxis_title='Visitatori',\n",
    "        showlegend=True,\n",
    "        xaxis=dict(showgrid=False),  # Rimuovere le griglie\n",
    "        yaxis=dict(showgrid=False),  # Rimuovere le griglie\n",
    "        plot_bgcolor='white',        # Sfondo bianco del grafico\n",
    "        paper_bgcolor='white'       # Sfondo bianco esterno\n",
    "    )\n",
    "    fig1.show()\n",
    "\n",
    "    # Creazione del secondo grafico (pie chart)\n",
    "    fig2 = px.pie(dati_totali_per_regione, names='Regioni di residenza', values='Visitatori', \n",
    "                  title='Distribuzione totale per regione', color='Regioni di residenza', \n",
    "                  color_discrete_sequence=color_palette)\n",
    "    fig2.update_layout(\n",
    "        plot_bgcolor='white',        # Sfondo bianco del grafico\n",
    "        paper_bgcolor='white'       # Sfondo bianco esterno\n",
    "    )\n",
    "    fig2.show()\n",
    "\n",
    "    # Creazione del terzo grafico (bar chart)\n",
    "    fig3 = px.bar(dati_totali_per_regione, x='Visitatori', y='Regioni di residenza', orientation='h',\n",
    "                  title='Visitatori totali per regione', color='Regioni di residenza', \n",
    "                  color_discrete_sequence=color_palette)\n",
    "    fig3.update_layout(\n",
    "        yaxis=dict(categoryorder='total ascending', showgrid=False),\n",
    "        xaxis_title='Visitatori',\n",
    "        yaxis_title='Regioni di residenza',\n",
    "        showlegend=True,\n",
    "        xaxis=dict(showgrid=False),  # Rimuovere le griglie\n",
    "        plot_bgcolor='white',        # Sfondo bianco del grafico\n",
    "        paper_bgcolor='white'       # Sfondo bianco esterno\n",
    "    )\n",
    "    fig3.show()\n",
    "\n",
    "except Exception as e:\n",
    "    print(f\"Errore: {e}\")"
   ]
  }
 ],
 "metadata": {
  "kernelspec": {
   "display_name": "Python 3",
   "language": "python",
   "name": "python3"
  },
  "language_info": {
   "codemirror_mode": {
    "name": "ipython",
    "version": 3
   },
   "file_extension": ".py",
   "mimetype": "text/x-python",
   "name": "python",
   "nbconvert_exporter": "python",
   "pygments_lexer": "ipython3",
   "version": "3.12.1"
  }
 },
 "nbformat": 4,
 "nbformat_minor": 2
}
